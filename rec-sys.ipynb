{
 "cells": [
  {
   "cell_type": "markdown",
   "metadata": {},
   "source": [
    "## Test Search\n"
   ]
  },
  {
   "cell_type": "code",
   "execution_count": 1,
   "metadata": {},
   "outputs": [
    {
     "name": "stderr",
     "output_type": "stream",
     "text": [
      "/media/subhadeep/Secondary/Education/Projects/Python/recommendation-system/.venv/lib/python3.12/site-packages/tqdm/auto.py:21: TqdmWarning: IProgress not found. Please update jupyter and ipywidgets. See https://ipywidgets.readthedocs.io/en/stable/user_install.html\n",
      "  from .autonotebook import tqdm as notebook_tqdm\n"
     ]
    }
   ],
   "source": [
    "from src.database.search import Neo4jSearch"
   ]
  },
  {
   "cell_type": "code",
   "execution_count": 2,
   "metadata": {},
   "outputs": [
    {
     "name": "stderr",
     "output_type": "stream",
     "text": [
      "flash_attn is not installed. Using PyTorch native attention implementation.\n",
      "flash_attn is not installed. Using PyTorch native attention implementation.\n",
      "flash_attn is not installed. Using PyTorch native attention implementation.\n",
      "flash_attn is not installed. Using PyTorch native attention implementation.\n",
      "flash_attn is not installed. Using PyTorch native attention implementation.\n",
      "flash_attn is not installed. Using PyTorch native attention implementation.\n",
      "flash_attn is not installed. Using PyTorch native attention implementation.\n",
      "flash_attn is not installed. Using PyTorch native attention implementation.\n",
      "flash_attn is not installed. Using PyTorch native attention implementation.\n",
      "flash_attn is not installed. Using PyTorch native attention implementation.\n",
      "flash_attn is not installed. Using PyTorch native attention implementation.\n",
      "flash_attn is not installed. Using PyTorch native attention implementation.\n",
      "flash_attn is not installed. Using PyTorch native attention implementation.\n",
      "flash_attn is not installed. Using PyTorch native attention implementation.\n",
      "flash_attn is not installed. Using PyTorch native attention implementation.\n",
      "flash_attn is not installed. Using PyTorch native attention implementation.\n",
      "flash_attn is not installed. Using PyTorch native attention implementation.\n",
      "flash_attn is not installed. Using PyTorch native attention implementation.\n",
      "flash_attn is not installed. Using PyTorch native attention implementation.\n",
      "flash_attn is not installed. Using PyTorch native attention implementation.\n",
      "flash_attn is not installed. Using PyTorch native attention implementation.\n",
      "flash_attn is not installed. Using PyTorch native attention implementation.\n",
      "flash_attn is not installed. Using PyTorch native attention implementation.\n",
      "flash_attn is not installed. Using PyTorch native attention implementation.\n",
      "flash_attn is not installed. Using PyTorch native attention implementation.\n"
     ]
    }
   ],
   "source": [
    "Neo4jSearch.initialize(\n",
    "    uri=\"bolt://192.168.29.138:7687\",\n",
    "    user=\"neo4j\",\n",
    "    password=\"neo4j\",\n",
    "    database=\"neo4j\",\n",
    ")"
   ]
  },
  {
   "cell_type": "code",
   "execution_count": 3,
   "metadata": {},
   "outputs": [
    {
     "data": {
      "text/plain": [
       "[{'title': 'Generic New 1Pc Black Metal Practice Butterfly Comb Style Knife Trainer Tool',\n",
       "  'description': \"Great for Teaching Stainless Steel Comb Safety and Handling, No offensive blade which is Brand new and safe blade No sharpen, Metal Handle And Strong Feeling In Hand  440C Stainless Practice Knife Trainer,\\n* Don't worry when you meet any problems after receiving the product can send mail to us to deal with your problem in time.\",\n",
       "  'product_id': '4c7d61536',\n",
       "  'average_rating': 4.1,\n",
       "  'rating_number': 1427,\n",
       "  'price': 8.45,\n",
       "  'features': 'Butterfly Comb Material: Stainless Steel, Weight: About 130g. Size: About 8.66\"x1.22\".\\nFoldable 440C Stainless Practice Comb Trainer, Metal Handle and Strong Feeling in Hand.\\nBrand New, Safe, Durable and High Quality. No Sharp Edges, No Offensive Blade.\\nThis Practice Butterfly Comb is a Perfect One if You are a Butterfly Comb Lover or Just Start Playing With It.\\nPerfect weight balance of the butterfly knife trainer and a perfect center of mass to make sure you can flip it smoothly.',\n",
       "  'images': 'https://m.media-amazon.com/images/I/310MCzapvgL.jpg',\n",
       "  'store': 'NYKKOLA',\n",
       "  'brand': 'NYKKOLA',\n",
       "  'manufacturer': 'NYKKOLA',\n",
       "  'main_category': 'All Beauty',\n",
       "  'categories': [],\n",
       "  'similarity': 1.0},\n",
       " {'title': 'Philips One Blade, Qp2520/21, 1 Pound',\n",
       "  'description': 'Philips One Blade (QP250)',\n",
       "  'product_id': '202bf29da',\n",
       "  'average_rating': 4.5,\n",
       "  'rating_number': 7014,\n",
       "  'price': 64.99,\n",
       "  'features': 'Dual Cut technology\\nMaintenance free No oil needed\\nPortable and compact',\n",
       "  'images': 'https://m.media-amazon.com/images/I/31py1ViI2GL.jpg',\n",
       "  'store': 'PHILIPS',\n",
       "  'brand': 'PHILIPS',\n",
       "  'manufacturer': 'Liteaid USA Inc. HPC',\n",
       "  'main_category': 'All Beauty',\n",
       "  'categories': [],\n",
       "  'similarity': 1.0},\n",
       " {'title': 'Lucky Trendy Oil in cuticle pusher pen AOP480',\n",
       "  'description': 'Oil in cuticle pusher pen. Features a ceramic tip made of stone material that buffs dead skin cells, while also releasing an oil to ensure a healthy, neat and moisturized nail bed',\n",
       "  'product_id': 'd594169c3',\n",
       "  'average_rating': 4.1,\n",
       "  'rating_number': 731,\n",
       "  'price': 21.684006824712643,\n",
       "  'features': 'Oil in cuticle pusher pen\\nCeramic tip. Comes with clear cap to prevent oil from drying\\nFeatures a ceramic tip made of stone material that buffs dead skin cells, while also releasing an oil to ensure a healthy, neat and moisturized nail bed',\n",
       "  'images': 'https://m.media-amazon.com/images/I/41u+8aYJa+L.jpg',\n",
       "  'store': 'Lucky Trendy',\n",
       "  'brand': 'Lucky Trendy',\n",
       "  'manufacturer': 'nan',\n",
       "  'main_category': 'All Beauty',\n",
       "  'categories': [],\n",
       "  'similarity': 1.0},\n",
       " {'title': 'CHI Flat Iron Stand',\n",
       "  'description': 'Product Description\\nFlat Iron stand for storing your CHI Flat Iron. For counter top or mirror use. Ideal for salon and at home use. Made of PET plastic.\\nBrand Story\\nCHI haircare and tools are manufactured by Farouk Systems a Houston based company.',\n",
       "  'product_id': '1b9c2b19c',\n",
       "  'average_rating': 4.5,\n",
       "  'rating_number': 2333,\n",
       "  'price': 9.98,\n",
       "  'features': 'Country of origin is United States\\nThe package dimension of the product is 3.5\"L x 6.8\"W x 6.3\"H\\nHolds any CHI Iron\\nProtects surfaces from heat',\n",
       "  'images': 'https://m.media-amazon.com/images/I/41KUWjwwY6L.jpg',\n",
       "  'store': 'chi',\n",
       "  'brand': 'CHI',\n",
       "  'manufacturer': 'CHI',\n",
       "  'main_category': 'All Beauty',\n",
       "  'categories': [],\n",
       "  'similarity': 1.0},\n",
       " {'title': 'J D beauty professional Tip2Toe Electric Callus Remover, White & Silver',\n",
       "  'description': 'Tip2Toe Professional Electric Callus Remover',\n",
       "  'product_id': '8261160f2',\n",
       "  'average_rating': 4.6,\n",
       "  'rating_number': 2073,\n",
       "  'price': 59.0,\n",
       "  'features': 'Country of origin is United States\\nItem Package Length: 7.112cm\\nItem Package Width: 15.748cm\\nItem Package Height: 23.368cm',\n",
       "  'images': 'https://m.media-amazon.com/images/I/21zpXbW9R6L.jpg',\n",
       "  'store': 'LURE',\n",
       "  'brand': 'J D beauty professional',\n",
       "  'manufacturer': 'J D beauty professional',\n",
       "  'main_category': 'All Beauty',\n",
       "  'categories': [],\n",
       "  'similarity': 1.0}]"
      ]
     },
     "execution_count": 3,
     "metadata": {},
     "output_type": "execute_result"
    }
   ],
   "source": [
    "Neo4jSearch.search_products_with_query(\n",
    "    query=\"steel spoon\",\n",
    ")"
   ]
  },
  {
   "cell_type": "markdown",
   "metadata": {},
   "source": [
    "## Piepline testing\n"
   ]
  },
  {
   "cell_type": "code",
   "execution_count": null,
   "metadata": {},
   "outputs": [],
   "source": [
    "from src.utils.orchastrator import Orchestrator\n",
    "from src.database.ingestion import Neo4jImporter"
   ]
  },
  {
   "cell_type": "code",
   "execution_count": 2,
   "metadata": {},
   "outputs": [],
   "source": [
    "importer = Neo4jImporter(database=\"products\")"
   ]
  },
  {
   "cell_type": "code",
   "execution_count": null,
   "metadata": {},
   "outputs": [],
   "source": [
    "importer.import_data(\"./dataset/amazon_india_products_22k.parquet\", batch_size=50)"
   ]
  },
  {
   "cell_type": "code",
   "execution_count": 2,
   "metadata": {},
   "outputs": [],
   "source": [
    "orchastrator = Orchestrator()"
   ]
  },
  {
   "cell_type": "code",
   "execution_count": null,
   "metadata": {},
   "outputs": [],
   "source": [
    "query_json_file = orchastrator.recommend_products_using_query(\"bedsheets\", 5)"
   ]
  },
  {
   "cell_type": "code",
   "execution_count": null,
   "metadata": {},
   "outputs": [],
   "source": [
    "category_json_file = orchastrator.recommend_products_of_category(\n",
    "    file_name=query_json_file\n",
    ")"
   ]
  },
  {
   "cell_type": "code",
   "execution_count": null,
   "metadata": {},
   "outputs": [],
   "source": [
    "brand_json_file = orchastrator.recommend_products_of_brand(file_name=query_json_file)"
   ]
  }
 ],
 "metadata": {
  "kernelspec": {
   "display_name": ".venv",
   "language": "python",
   "name": "python3"
  },
  "language_info": {
   "codemirror_mode": {
    "name": "ipython",
    "version": 3
   },
   "file_extension": ".py",
   "mimetype": "text/x-python",
   "name": "python",
   "nbconvert_exporter": "python",
   "pygments_lexer": "ipython3",
   "version": "3.12.3"
  }
 },
 "nbformat": 4,
 "nbformat_minor": 2
}
