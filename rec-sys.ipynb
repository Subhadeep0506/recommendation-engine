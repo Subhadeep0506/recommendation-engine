{
 "cells": [
  {
   "cell_type": "markdown",
   "metadata": {},
   "source": [
    "## Test Search"
   ]
  },
  {
   "cell_type": "code",
   "execution_count": null,
   "metadata": {},
   "outputs": [],
   "source": [
    "from src.database.search import Neo4jSearch"
   ]
  },
  {
   "cell_type": "code",
   "execution_count": 2,
   "metadata": {},
   "outputs": [],
   "source": [
    "Neo4jSearch.initialize(database=\"products\")"
   ]
  },
  {
   "cell_type": "code",
   "execution_count": null,
   "metadata": {},
   "outputs": [],
   "source": [
    "Neo4jSearch.search_products_with_query(\n",
    "    query=\"steel spoon\",\n",
    ")"
   ]
  },
  {
   "cell_type": "markdown",
   "metadata": {},
   "source": [
    "## Piepline testing"
   ]
  },
  {
   "cell_type": "code",
   "execution_count": 1,
   "metadata": {},
   "outputs": [
    {
     "name": "stderr",
     "output_type": "stream",
     "text": [
      "c:\\Users\\703381054\\Documents\\Projects\\agentic-product-recsys\\.venv\\Lib\\site-packages\\tqdm\\auto.py:21: TqdmWarning: IProgress not found. Please update jupyter and ipywidgets. See https://ipywidgets.readthedocs.io/en/stable/user_install.html\n",
      "  from .autonotebook import tqdm as notebook_tqdm\n",
      "c:\\Users\\703381054\\Documents\\Projects\\agentic-product-recsys\\.venv\\Lib\\site-packages\\pydantic\\_internal\\_config.py:345: UserWarning: Valid config keys have changed in V2:\n",
      "* 'fields' has been removed\n",
      "  warnings.warn(message, UserWarning)\n"
     ]
    }
   ],
   "source": [
    "from src.utils.orchastrator import Orchestrator\n",
    "from src.database.ingestion import Neo4jImporter"
   ]
  },
  {
   "cell_type": "code",
   "execution_count": 2,
   "metadata": {},
   "outputs": [],
   "source": [
    "importer = Neo4jImporter(database=\"products\")"
   ]
  },
  {
   "cell_type": "code",
   "execution_count": null,
   "metadata": {},
   "outputs": [],
   "source": [
    "importer.import_data(\"./dataset/amazon_india_products_22k.parquet\", batch_size=50)"
   ]
  },
  {
   "cell_type": "code",
   "execution_count": 2,
   "metadata": {},
   "outputs": [],
   "source": [
    "orchastrator = Orchestrator()"
   ]
  },
  {
   "cell_type": "code",
   "execution_count": 3,
   "metadata": {},
   "outputs": [
    {
     "data": {
      "text/html": [
       "<pre style=\"white-space:pre;overflow-x:auto;line-height:normal;font-family:Menlo,'DejaVu Sans Mono',consolas,'Courier New',monospace\"><span style=\"color: #d4b702; text-decoration-color: #d4b702\">╭──────────────────────────────────────────────────── </span><span style=\"color: #d4b702; text-decoration-color: #d4b702; font-weight: bold\">New run</span><span style=\"color: #d4b702; text-decoration-color: #d4b702\"> ────────────────────────────────────────────────────╮</span>\n",
       "<span style=\"color: #d4b702; text-decoration-color: #d4b702\">│</span>                                                                                                                 <span style=\"color: #d4b702; text-decoration-color: #d4b702\">│</span>\n",
       "<span style=\"color: #d4b702; text-decoration-color: #d4b702\">│</span> <span style=\"font-weight: bold\">bedsheets</span>                                                                                                       <span style=\"color: #d4b702; text-decoration-color: #d4b702\">│</span>\n",
       "<span style=\"color: #d4b702; text-decoration-color: #d4b702\">│</span>                                                                                                                 <span style=\"color: #d4b702; text-decoration-color: #d4b702\">│</span>\n",
       "<span style=\"color: #d4b702; text-decoration-color: #d4b702\">╰─ LiteLLMModel - azure/GPT4-Turbo-128K-0125-preview ─────────────────────────────────────────────────────────────╯</span>\n",
       "</pre>\n"
      ],
      "text/plain": [
       "\u001b[38;2;212;183;2m╭─\u001b[0m\u001b[38;2;212;183;2m───────────────────────────────────────────────────\u001b[0m\u001b[38;2;212;183;2m \u001b[0m\u001b[1;38;2;212;183;2mNew run\u001b[0m\u001b[38;2;212;183;2m \u001b[0m\u001b[38;2;212;183;2m───────────────────────────────────────────────────\u001b[0m\u001b[38;2;212;183;2m─╮\u001b[0m\n",
       "\u001b[38;2;212;183;2m│\u001b[0m                                                                                                                 \u001b[38;2;212;183;2m│\u001b[0m\n",
       "\u001b[38;2;212;183;2m│\u001b[0m \u001b[1mbedsheets\u001b[0m                                                                                                       \u001b[38;2;212;183;2m│\u001b[0m\n",
       "\u001b[38;2;212;183;2m│\u001b[0m                                                                                                                 \u001b[38;2;212;183;2m│\u001b[0m\n",
       "\u001b[38;2;212;183;2m╰─\u001b[0m\u001b[38;2;212;183;2m LiteLLMModel - azure/GPT4-Turbo-128K-0125-preview \u001b[0m\u001b[38;2;212;183;2m────────────────────────────────────────────────────────────\u001b[0m\u001b[38;2;212;183;2m─╯\u001b[0m\n"
      ]
     },
     "metadata": {},
     "output_type": "display_data"
    },
    {
     "data": {
      "text/html": [
       "<pre style=\"white-space:pre;overflow-x:auto;line-height:normal;font-family:Menlo,'DejaVu Sans Mono',consolas,'Courier New',monospace\"><span style=\"color: #d4b702; text-decoration-color: #d4b702\">━━━━━━━━━━━━━━━━━━━━━━━━━━━━━━━━━━━━━━━━━━━━━━━━━━━━━ </span><span style=\"font-weight: bold\">Step </span><span style=\"color: #008080; text-decoration-color: #008080; font-weight: bold\">0</span><span style=\"color: #d4b702; text-decoration-color: #d4b702\"> ━━━━━━━━━━━━━━━━━━━━━━━━━━━━━━━━━━━━━━━━━━━━━━━━━━━━━━</span>\n",
       "</pre>\n"
      ],
      "text/plain": [
       "\u001b[38;2;212;183;2m━━━━━━━━━━━━━━━━━━━━━━━━━━━━━━━━━━━━━━━━━━━━━━━━━━━━━ \u001b[0m\u001b[1mStep \u001b[0m\u001b[1;36m0\u001b[0m\u001b[38;2;212;183;2m ━━━━━━━━━━━━━━━━━━━━━━━━━━━━━━━━━━━━━━━━━━━━━━━━━━━━━━\u001b[0m\n"
      ]
     },
     "metadata": {},
     "output_type": "display_data"
    },
    {
     "data": {
      "text/html": [
       "<pre style=\"white-space:pre;overflow-x:auto;line-height:normal;font-family:Menlo,'DejaVu Sans Mono',consolas,'Courier New',monospace\">╭─────────────────────────────────────────────────────────────────────────────────────────────────────────────────╮\n",
       "│ Calling tool: 'recommend_with_query_tool' with arguments: {'query': 'bedsheets'}                                │\n",
       "╰─────────────────────────────────────────────────────────────────────────────────────────────────────────────────╯\n",
       "</pre>\n"
      ],
      "text/plain": [
       "╭─────────────────────────────────────────────────────────────────────────────────────────────────────────────────╮\n",
       "│ Calling tool: 'recommend_with_query_tool' with arguments: {'query': 'bedsheets'}                                │\n",
       "╰─────────────────────────────────────────────────────────────────────────────────────────────────────────────────╯\n"
      ]
     },
     "metadata": {},
     "output_type": "display_data"
    },
    {
     "data": {
      "text/html": [
       "<pre style=\"white-space:pre;overflow-x:auto;line-height:normal;font-family:Menlo,'DejaVu Sans Mono',consolas,'Courier New',monospace\">Observations: <span style=\"font-weight: bold\">[{</span><span style=\"color: #008000; text-decoration-color: #008000\">\"title\"</span>: <span style=\"color: #008000; text-decoration-color: #008000\">\"Milliard Two Pack Sheets for Bedside Bassinet\"</span>, <span style=\"color: #008000; text-decoration-color: #008000\">\"description\"</span>: <span style=\"color: #008000; text-decoration-color: #008000\">\"This two pack sheet set </span>\n",
       "<span style=\"color: #008000; text-decoration-color: #008000\">is designed to fit the Milliard Bedside Bassinet or any bassinet mattress measuring 35.5\\\" x 20.5\\\".\"</span>, \n",
       "<span style=\"color: #008000; text-decoration-color: #008000\">\"average_rating\"</span>: <span style=\"color: #008080; text-decoration-color: #008080; font-weight: bold\">4.8</span>, <span style=\"color: #008000; text-decoration-color: #008000\">\"rating_number\"</span>: <span style=\"color: #008080; text-decoration-color: #008080; font-weight: bold\">468</span>, <span style=\"color: #008000; text-decoration-color: #008000\">\"price\"</span>: <span style=\"color: #008080; text-decoration-color: #008080; font-weight: bold\">19.99</span>, <span style=\"color: #008000; text-decoration-color: #008000\">\"features\"</span>: <span style=\"color: #008000; text-decoration-color: #008000\">\"This two pack sheet set is designed to </span>\n",
       "<span style=\"color: #008000; text-decoration-color: #008000\">fit the Milliard Bedside Bassinet or any bassinet mattress measuring 35.5\\\" x 20.5\\\".\\nContains two soft and </span>\n",
       "<span style=\"color: #008000; text-decoration-color: #008000\">stretchy bassinet sheets.\\n100% polyester\"</span>, <span style=\"color: #008000; text-decoration-color: #008000\">\"images\"</span>: <span style=\"color: #008000; text-decoration-color: #008000\">\"[{'hi_res': </span>\n",
       "<span style=\"color: #008000; text-decoration-color: #008000\">'https://m.media-amazon.com/images/I/81oCAszMtqL._AC_SL1500_.jpg', 'large': </span>\n",
       "<span style=\"color: #008000; text-decoration-color: #008000\">'https://m.media-amazon.com/images/I/41GE3sUTFsL._AC_.jpg', 'thumb': </span>\n",
       "<span style=\"color: #008000; text-decoration-color: #008000\">'https://m.media-amazon.com/images/I/41GE3sUTFsL._AC_US75_.jpg', 'variant': 'MAIN'}\\n {'hi_res': </span>\n",
       "<span style=\"color: #008000; text-decoration-color: #008000\">'https://m.media-amazon.com/images/I/61MB3yxilxL._AC_SL1201_.jpg', 'large': </span>\n",
       "<span style=\"color: #008000; text-decoration-color: #008000\">'https://m.media-amazon.com/images/I/41XvGcanBoL._AC_.jpg', 'thumb': </span>\n",
       "<span style=\"color: #008000; text-decoration-color: #008000\">'https://m.media-amazon.com/images/I/41XvGcanBoL._AC_US75_.jpg', 'variant': 'PT01'}]\"</span>, <span style=\"color: #008000; text-decoration-color: #008000\">\"store\"</span>: <span style=\"color: #008000; text-decoration-color: #008000\">\"Milliard\"</span>, \n",
       "<span style=\"color: #008000; text-decoration-color: #008000\">\"brand\"</span>: <span style=\"color: #008000; text-decoration-color: #008000\">\"Milliard\"</span>, <span style=\"color: #008000; text-decoration-color: #008000\">\"manufacturer\"</span>: <span style=\"color: #008000; text-decoration-color: #008000\">\"Milliard\"</span>, <span style=\"color: #008000; text-decoration-color: #008000\">\"main_category\"</span>: <span style=\"color: #008000; text-decoration-color: #008000\">\"Baby Products\"</span>, <span style=\"color: #008000; text-decoration-color: #008000\">\"categories\"</span>: <span style=\"font-weight: bold\">[]</span>, <span style=\"color: #008000; text-decoration-color: #008000\">\"similarity\"</span>: \n",
       "<span style=\"color: #008080; text-decoration-color: #008080; font-weight: bold\">1.0</span><span style=\"font-weight: bold\">}</span>, <span style=\"font-weight: bold\">{</span><span style=\"color: #008000; text-decoration-color: #008000\">\"title\"</span>: <span style=\"color: #008000; text-decoration-color: #008000\">\"Beybee Waterproof Bed Protector Sheet (1 Count (Pack of 1))(Beige)\"</span>, <span style=\"color: #008000; text-decoration-color: #008000\">\"description\"</span>: <span style=\"color: #008000; text-decoration-color: #008000\">\"BeyBee quick </span>\n",
       "<span style=\"color: #008000; text-decoration-color: #008000\">dry sheet is a Comfortable and durable baby dry sheet for the double bed made from 100% leak proof mattress </span>\n",
       "<span style=\"color: #008000; text-decoration-color: #008000\">protector and baby skin friendly fabric. This dry sheet for a double bed is the best hygienic baby sheet waterproof</span>\n",
       "<span style=\"color: #008000; text-decoration-color: #008000\">for babies protects your baby &amp; bed from wetting. BeyBee waterproof bed protector sheets provide long lasting </span>\n",
       "<span style=\"color: #008000; text-decoration-color: #008000\">durability and will surely be the best alternative dry mat for babies for your baby's diapers as they quickly </span>\n",
       "<span style=\"color: #008000; text-decoration-color: #008000\">absorb the water. This baby bedsheet cotton is Ultra soft and lightweight under pads crafted with the best fabric </span>\n",
       "<span style=\"color: #008000; text-decoration-color: #008000\">(baby mat) our plastic sheet for bedwetting offers a cozy feel to touch even on a rough bed surface. BeyBee dry </span>\n",
       "<span style=\"color: #008000; text-decoration-color: #008000\">sheet is hypoallergenic economical and lightweight can be sterilized up to 90 degree C. These sheets are known as </span>\n",
       "<span style=\"color: #008000; text-decoration-color: #008000\">like (baby bed sheet waterproof dry sheet for double bed king size urine sheet with quick dry sheet double bed size</span>\n",
       "<span style=\"color: #008000; text-decoration-color: #008000\">baby cot sheet quickly dry sheet for baby) This BeyBee dry sheet helps to protect your baby from 6 major problems </span>\n",
       "<span style=\"color: #008000; text-decoration-color: #008000\">caused by the usage of diapers on your child's skin (gives ultimate protection against damaged immunity urinary </span>\n",
       "<span style=\"color: #008000; text-decoration-color: #008000\">infections skin irritations redness and rashes). BeyBee waterproof bed protector absorbs and holds 8 times its </span>\n",
       "<span style=\"color: #008000; text-decoration-color: #008000\">weight of water to comfort your baby on his day's nap night's sleep dressing up or playing time. This lightweight </span>\n",
       "<span style=\"color: #008000; text-decoration-color: #008000\">baby urine sheet waterproof crafted with best fabric our baby sheet waterproof double bed offers a soft feel to </span>\n",
       "<span style=\"color: #008000; text-decoration-color: #008000\">touch even on a rough bed surface.\"</span>, <span style=\"color: #008000; text-decoration-color: #008000\">\"average_rating\"</span>: <span style=\"color: #008080; text-decoration-color: #008080; font-weight: bold\">4.3</span>, <span style=\"color: #008000; text-decoration-color: #008000\">\"rating_number\"</span>: <span style=\"color: #008080; text-decoration-color: #008080; font-weight: bold\">10996</span>, <span style=\"color: #008000; text-decoration-color: #008000\">\"price\"</span>: <span style=\"color: #008080; text-decoration-color: #008080; font-weight: bold\">39.59</span>, <span style=\"color: #008000; text-decoration-color: #008000\">\"features\"</span>: \n",
       "<span style=\"color: #008000; text-decoration-color: #008000\">\"BeyBee quick dry sheet is a Comfortable and durable baby dry sheet for the double bed made from 100% leak proof </span>\n",
       "<span style=\"color: #008000; text-decoration-color: #008000\">mattress protector and baby skin friendly fabric. This dry sheet for a double bed is the best hygienic baby sheet </span>\n",
       "<span style=\"color: #008000; text-decoration-color: #008000\">waterproof for babies protects your baby &amp; bed from wetting.\\nBeyBee waterproof bed protector sheets provide long </span>\n",
       "<span style=\"color: #008000; text-decoration-color: #008000\">lasting durability and will surely be the best alternative dry mat for babies for your baby's diapers as they </span>\n",
       "<span style=\"color: #008000; text-decoration-color: #008000\">quickly absorb the water. This baby bedsheet cotton is Ultra soft and lightweight under pads crafted with the best </span>\n",
       "<span style=\"color: #008000; text-decoration-color: #008000\">fabric (baby mat) our plastic sheet for bedwetting offers a cozy feel to touch even on a rough bed surface.\\nBeyBee</span>\n",
       "<span style=\"color: #008000; text-decoration-color: #008000\">dry sheet is hypoallergenic economical and lightweight can be sterilized up to 90 degree C. These sheets are known </span>\n",
       "<span style=\"color: #008000; text-decoration-color: #008000\">as like (baby bed sheet waterproof dry sheet for double bed king size urine sheet with quick dry sheet double bed </span>\n",
       "<span style=\"color: #008000; text-decoration-color: #008000\">size baby cot sheet quickly dry sheet for baby)\\nThis BeyBee dry sheet helps to protect your baby from 6 major </span>\n",
       "<span style=\"color: #008000; text-decoration-color: #008000\">problems caused by the usage of diapers on your child's skin (gives ultimate protection against damaged immunity </span>\n",
       "<span style=\"color: #008000; text-decoration-color: #008000\">urinary infections skin irritations redness and rashes).\\nBeyBee waterproof bed protector absorbs and holds 8 times</span>\n",
       "<span style=\"color: #008000; text-decoration-color: #008000\">its weight of water to comfort your baby on his day's nap night's sleep dressing up or playing time. This </span>\n",
       "<span style=\"color: #008000; text-decoration-color: #008000\">lightweight baby urine sheet waterproof crafted with best fabric our baby sheet waterproof double bed offers a soft</span>\n",
       "<span style=\"color: #008000; text-decoration-color: #008000\">feel to touch even on a rough bed surface.\"</span>, <span style=\"color: #008000; text-decoration-color: #008000\">\"images\"</span>: <span style=\"color: #008000; text-decoration-color: #008000\">\"[{'hi_res': </span>\n",
       "<span style=\"color: #008000; text-decoration-color: #008000\">'https://m.media-amazon.com/images/I/71g27PRzKEL._AC_SL1304_.jpg', 'large': </span>\n",
       "<span style=\"color: #008000; text-decoration-color: #008000\">'https://m.media-amazon.com/images/I/51GcHNWE5NL._AC_.jpg', 'thumb': </span>\n",
       "<span style=\"color: #008000; text-decoration-color: #008000\">'https://m.media-amazon.com/images/I/51GcHNWE5NL._AC_US75_.jpg', 'variant': 'MAIN'}\\n {'hi_res': </span>\n",
       "<span style=\"color: #008000; text-decoration-color: #008000\">'https://m.media-amazon.com/images/I/81arjCnk6gL._AC_SL1500_.jpg', 'large': </span>\n",
       "<span style=\"color: #008000; text-decoration-color: #008000\">'https://m.media-amazon.com/images/I/51uWMLXiPfL._AC_.jpg', 'thumb': </span>\n",
       "<span style=\"color: #008000; text-decoration-color: #008000\">'https://m.media-amazon.com/images/I/51uWMLXiPfL._AC_US75_.jpg', 'variant': 'PT01'}\\n {'hi_res': </span>\n",
       "<span style=\"color: #008000; text-decoration-color: #008000\">'https://m.media-amazon.com/images/I/81+wTEZ6gzL._AC_SL1500_.jpg', 'large': </span>\n",
       "<span style=\"color: #008000; text-decoration-color: #008000\">'https://m.media-amazon.com/images/I/51qRij9CvAL._AC_.jpg', 'thumb': </span>\n",
       "<span style=\"color: #008000; text-decoration-color: #008000\">'https://m.media-amazon.com/images/I/51qRij9CvAL._AC_US75_.jpg', 'variant': 'PT02'}\\n {'hi_res': </span>\n",
       "<span style=\"color: #008000; text-decoration-color: #008000\">'https://m.media-amazon.com/images/I/81f7K5GcVJL._AC_SL1500_.jpg', 'large': </span>\n",
       "<span style=\"color: #008000; text-decoration-color: #008000\">'https://m.media-amazon.com/images/I/51TkPJkT6fL._AC_.jpg', 'thumb': </span>\n",
       "<span style=\"color: #008000; text-decoration-color: #008000\">'https://m.media-amazon.com/images/I/51TkPJkT6fL._AC_US75_.jpg', 'variant': 'PT03'}\\n {'hi_res': </span>\n",
       "<span style=\"color: #008000; text-decoration-color: #008000\">'https://m.media-amazon.com/images/I/810QnmLcH-L._AC_SL1500_.jpg', 'large': </span>\n",
       "<span style=\"color: #008000; text-decoration-color: #008000\">'https://m.media-amazon.com/images/I/51UDxe8ua-L._AC_.jpg', 'thumb': </span>\n",
       "<span style=\"color: #008000; text-decoration-color: #008000\">'https://m.media-amazon.com/images/I/51UDxe8ua-L._AC_US75_.jpg', 'variant': 'PT04'}\\n {'hi_res': </span>\n",
       "<span style=\"color: #008000; text-decoration-color: #008000\">'https://m.media-amazon.com/images/I/815HH79kxtL._AC_SL1500_.jpg', 'large': </span>\n",
       "<span style=\"color: #008000; text-decoration-color: #008000\">'https://m.media-amazon.com/images/I/51WdOx816pL._AC_.jpg', 'thumb': </span>\n",
       "<span style=\"color: #008000; text-decoration-color: #008000\">'https://m.media-amazon.com/images/I/51WdOx816pL._AC_US75_.jpg', 'variant': 'PT05'}\\n {'hi_res': </span>\n",
       "<span style=\"color: #008000; text-decoration-color: #008000\">'https://m.media-amazon.com/images/I/81xJPyuFNJL._AC_SL1500_.jpg', 'large': </span>\n",
       "<span style=\"color: #008000; text-decoration-color: #008000\">'https://m.media-amazon.com/images/I/51iWW97+4YL._AC_.jpg', 'thumb': </span>\n",
       "<span style=\"color: #008000; text-decoration-color: #008000\">'https://m.media-amazon.com/images/I/51iWW97+4YL._AC_US75_.jpg', 'variant': 'PT06'}\\n {'hi_res': </span>\n",
       "<span style=\"color: #008000; text-decoration-color: #008000\">'https://m.media-amazon.com/images/I/81BhUnVx1fL._AC_SL1500_.jpg', 'large': </span>\n",
       "<span style=\"color: #008000; text-decoration-color: #008000\">'https://m.media-amazon.com/images/I/51DTvpGj8WL._AC_.jpg', 'thumb': </span>\n",
       "<span style=\"color: #008000; text-decoration-color: #008000\">'https://m.media-amazon.com/images/I/51DTvpGj8WL._AC_US75_.jpg', 'variant': 'PT07'}\\n {'hi_res': </span>\n",
       "<span style=\"color: #008000; text-decoration-color: #008000\">'https://m.media-amazon.com/images/I/71saUcptAnL._AC_SL1500_.jpg', 'large': </span>\n",
       "<span style=\"color: #008000; text-decoration-color: #008000\">'https://m.media-amazon.com/images/I/51YW17pnJbL._AC_.jpg', 'thumb': </span>\n",
       "<span style=\"color: #008000; text-decoration-color: #008000\">'https://m.media-amazon.com/images/I/51YW17pnJbL._AC_US75_.jpg', 'variant': 'PT08'}]\"</span>, <span style=\"color: #008000; text-decoration-color: #008000\">\"store\"</span>: <span style=\"color: #008000; text-decoration-color: #008000\">\"BeyBee\"</span>, <span style=\"color: #008000; text-decoration-color: #008000\">\"brand\"</span>: \n",
       "<span style=\"color: #008000; text-decoration-color: #008000\">\"BeyBee\"</span>, <span style=\"color: #008000; text-decoration-color: #008000\">\"manufacturer\"</span>: <span style=\"color: #008000; text-decoration-color: #008000\">\"Baby &amp; Mom Retail Pvt Ltd\"</span>, <span style=\"color: #008000; text-decoration-color: #008000\">\"main_category\"</span>: <span style=\"color: #008000; text-decoration-color: #008000\">\"Baby Products\"</span>, <span style=\"color: #008000; text-decoration-color: #008000\">\"categories\"</span>: <span style=\"font-weight: bold\">[]</span>, \n",
       "<span style=\"color: #008000; text-decoration-color: #008000\">\"similarity\"</span>: <span style=\"color: #008080; text-decoration-color: #008080; font-weight: bold\">1.0</span><span style=\"font-weight: bold\">}</span>, <span style=\"font-weight: bold\">{</span><span style=\"color: #008000; text-decoration-color: #008000\">\"title\"</span>: <span style=\"color: #008000; text-decoration-color: #008000\">\"Bassinet Sheets 20x30 Inch for Graco Travel Lite Crib, Sense2Snooze, My View 4 in 1,</span>\n",
       "<span style=\"color: #008000; text-decoration-color: #008000\">Dream Suite and Guava Lotus Bassinet \\u2013 Snuggly Soft 100% Jersey Cotton Fitted \\u2013 2 Pack\"</span>, <span style=\"color: #008000; text-decoration-color: #008000\">\"description\"</span>: \n",
       "<span style=\"color: #008000; text-decoration-color: #008000\">\"Joey + Joan Travel Lite Crib Sheets 20x30 \\u2013 The Custom Fit for a Peaceful Nights SlumberSKIP THE BAWLING &amp; </span>\n",
       "<span style=\"color: #008000; text-decoration-color: #008000\">LET THESE  bunny-soft sheets lull your baby to sleep. Crafted from 100% Jersey Cotton, moms who switch to these </span>\n",
       "<span style=\"color: #008000; text-decoration-color: #008000\">bassinet fitted sheets say they notice a major difference in how quickly baby falls asleep, how peacefully they </span>\n",
       "<span style=\"color: #008000; text-decoration-color: #008000\">stay asleep, and how joyfully they awake. THE SAFEST COVERS \\u2013 FROM THREAD TO FINISH- Guaranteed 100% Harmful </span>\n",
       "<span style=\"color: #008000; text-decoration-color: #008000\">Substance Free- Meets Global OEKO-TEX Certified Standards- Created for soft, squishy, ultra-sensitive baby skin - </span>\n",
       "<span style=\"color: #008000; text-decoration-color: #008000\">Polyester Free- Allergen FreeTHE EASIEST MAINTENANCE \\u2013 NO LATE NIGHT LAUNDRY SESSIONSBecause late night </span>\n",
       "<span style=\"color: #008000; text-decoration-color: #008000\">blowouts are virtually guaranteed, we bundle each beautiful travel lite sheet set into a 2 pack, so you can easily </span>\n",
       "<span style=\"color: #008000; text-decoration-color: #008000\">pull one off, put the second on, and worry about the laundry in the morning. More so, they are machine washable and</span>\n",
       "<span style=\"color: #008000; text-decoration-color: #008000\">dryer safe! THE SILKIEST SMOOTHNESS \\u2013 BREATHABLE &amp; SWEAT-FREEHand selected, superior strength threads knitted </span>\n",
       "<span style=\"color: #008000; text-decoration-color: #008000\">into the most breathable, comfy fabric you can imagine. Exactly what you'd want to sleep on yourself to indulge in </span>\n",
       "<span style=\"color: #008000; text-decoration-color: #008000\">a beautiful nights sleep (we're working on that mama!) THE PERFECT FIT \\u2013 CUSTOM TO BABY'S MATTRESSFitted down </span>\n",
       "<span style=\"color: #008000; text-decoration-color: #008000\">to the millimeter, these adorable 20 x 30 bassinet sheets are designed to be compatible with- Graco Travel Lite </span>\n",
       "<span style=\"color: #008000; text-decoration-color: #008000\">Crib with Stages - Graco My View 4 in 1- Graco Sense2Snooze- Graco Dream Suite Bassinet- Guava Lotus </span>\n",
       "<span style=\"color: #008000; text-decoration-color: #008000\">BassinetUNRIVALED DURABILITY \\u2013 LIFETIME GUARANTEEDFrom the fabric to the BABY SHOWER READY packaging, we pour </span>\n",
       "<span style=\"color: #008000; text-decoration-color: #008000\">our heart into making the safest, most beautiful baby bassinet sheets on the market; sheets you'll feel joyful </span>\n",
       "<span style=\"color: #008000; text-decoration-color: #008000\">giving and receiving. Rest assured these baby sheets rival the quality, softness and durability of any you'll find </span>\n",
       "<span style=\"color: #008000; text-decoration-color: #008000\">at high end baby boutiques, or we'll extend a full, prompt refund. Your happiness is guaranteed. ADD TO CART now!\"</span>,\n",
       "<span style=\"color: #008000; text-decoration-color: #008000\">\"average_rating\"</span>: <span style=\"color: #008080; text-decoration-color: #008080; font-weight: bold\">4.8</span>, <span style=\"color: #008000; text-decoration-color: #008000\">\"rating_number\"</span>: <span style=\"color: #008080; text-decoration-color: #008080; font-weight: bold\">895</span>, <span style=\"color: #008000; text-decoration-color: #008000\">\"price\"</span>: <span style=\"color: #008080; text-decoration-color: #008080; font-weight: bold\">25.99</span>, <span style=\"color: #008000; text-decoration-color: #008000\">\"features\"</span>: <span style=\"color: #008000; text-decoration-color: #008000\">\"\\u2714 SO SO SO SOFT \\u2013 ONLY YOUR </span>\n",
       "<span style=\"color: #008000; text-decoration-color: #008000\">HUGS ARE SOFTER than our travel lite crib sheets. Crafted from 100% Jersey Cotton in SERENITY INSPIRING designs, </span>\n",
       "<span style=\"color: #008000; text-decoration-color: #008000\">these are the Premium Boutique travel lite crib fitted sheets to get if you value baby sheets that retain their </span>\n",
       "<span style=\"color: #008000; text-decoration-color: #008000\">SOFTNESS, STRETCH &amp; ADORABLE PATTERN thru every WASH. (Machine Wash, Tumble Dry)\\n\\u2714 PERFECT CUSTOM FIT \\u2013 </span>\n",
       "<span style=\"color: #008000; text-decoration-color: #008000\">EASY ON, WON\\u2019T SLIP OFF: Every Joey + Joan bassient sheet fits SPECIFIC MODELS, so they easily slip onto your </span>\n",
       "<span style=\"color: #008000; text-decoration-color: #008000\">baby mattress, with ZERO WORRY THEY\\u2019LL ACCIDENTALLY SLIP OFF over baby\\u2019s head. These 20 x 30 bassinet </span>\n",
       "<span style=\"color: #008000; text-decoration-color: #008000\">sheets are compatible with Graco Travel Lite Crib, Sense2Snooze, My View 4 in 1, Dream Suite and Guava Lotus Crib &amp;</span>\n",
       "<span style=\"color: #008000; text-decoration-color: #008000\">Bassinet\\n\\u2714 LET MAMA SLEEP IN\\u2026A LITTLE LONGER \\u2013 DON\\u2019T WAKE BABY with those NOISY, ITCHY, SWEAT </span>\n",
       "<span style=\"color: #008000; text-decoration-color: #008000\">INDUCING polyester plastic like sheets you wouldn\\u2019t dare sleep on yourself. At Joey + Joan we use only the </span>\n",
       "<span style=\"color: #008000; text-decoration-color: #008000\">smoothest, silkiest threads to create our BREATHABLE, SWEAT-FREINDLY travel lite sheets then bundle them into a </span>\n",
       "<span style=\"color: #008000; text-decoration-color: #008000\">CONVENIENT 2 PACK, so you can skip the midnight laundry sessions, and get better sleep yourself\\n\\u2714 SAFETY </span>\n",
       "<span style=\"color: #008000; text-decoration-color: #008000\">OBSESSED \\u2013 THREAD TO SHEET: BECAUSE YOUR BABIES SENSITIVE skin lays against these sheets every night, we </span>\n",
       "<span style=\"color: #008000; text-decoration-color: #008000\">follow the STRICTEST Safety Standards, ensuring every bassinet sheet is CERTIFIED \\u201cTESTED FOR HARMFUL </span>\n",
       "<span style=\"color: #008000; text-decoration-color: #008000\">SUBSTANCE\\u201d by GLOBAL OEKO-TEX, before placing them into BEAUTIFUL PACKAGING that creates a MEMORABLE UNBOXING </span>\n",
       "<span style=\"color: #008000; text-decoration-color: #008000\">EXPERIENCE. 100% Zero Allergen. 100% Zero Polyester\\n\\u2714 FULL LIFETIME REPLACEMENT PROMISE \\u2013 HAPPINESS </span>\n",
       "<span style=\"color: #008000; text-decoration-color: #008000\">ASSURED: WE EVEN pay close attention to the elastic in these fitted sheets, encasing every inch in our RELAX-FIT </span>\n",
       "<span style=\"color: #008000; text-decoration-color: #008000\">Fabric, so they stay as flat and well-fitting as the day you purchased. In fact we pour so much LOVE into crafting </span>\n",
       "<span style=\"color: #008000; text-decoration-color: #008000\">every sheet that PROMISE THEY\\u2019LL NEVER PILL, unravel, roughen, crease, scrunch, warp, SHRINK, STAIN, DEVELOP </span>\n",
       "<span style=\"color: #008000; text-decoration-color: #008000\">HOLES or LOSE THEIR STRETCH or we\\u2019ll HAPPILY REPLACE THEM for LIFE\"</span>, <span style=\"color: #008000; text-decoration-color: #008000\">\"images\"</span>: <span style=\"color: #008000; text-decoration-color: #008000\">\"[{'hi_res': </span>\n",
       "<span style=\"color: #008000; text-decoration-color: #008000\">'https://m.media-amazon.com/images/I/61C1BweTE6L._AC_SL1500_.jpg', 'large': </span>\n",
       "<span style=\"color: #008000; text-decoration-color: #008000\">'https://m.media-amazon.com/images/I/31pRHFem4+L._AC_.jpg', 'thumb': </span>\n",
       "<span style=\"color: #008000; text-decoration-color: #008000\">'https://m.media-amazon.com/images/I/31pRHFem4+L._AC_US75_.jpg', 'variant': 'MAIN'}\\n {'hi_res': </span>\n",
       "<span style=\"color: #008000; text-decoration-color: #008000\">'https://m.media-amazon.com/images/I/71aMmEG-4rL._AC_SL1500_.jpg', 'large': </span>\n",
       "<span style=\"color: #008000; text-decoration-color: #008000\">'https://m.media-amazon.com/images/I/41cgmelmuTL._AC_.jpg', 'thumb': </span>\n",
       "<span style=\"color: #008000; text-decoration-color: #008000\">'https://m.media-amazon.com/images/I/41cgmelmuTL._AC_US75_.jpg', 'variant': 'PT01'}\\n {'hi_res': </span>\n",
       "<span style=\"color: #008000; text-decoration-color: #008000\">'https://m.media-amazon.com/images/I/81egijDy-UL._AC_SL1500_.jpg', 'large': </span>\n",
       "<span style=\"color: #008000; text-decoration-color: #008000\">'https://m.media-amazon.com/images/I/51QAM+4yl-L._AC_.jpg', 'thumb': </span>\n",
       "<span style=\"color: #008000; text-decoration-color: #008000\">'https://m.media-amazon.com/images/I/51QAM+4yl-L._AC_US75_.jpg', 'variant': 'PT02'}\\n {'hi_res': </span>\n",
       "<span style=\"color: #008000; text-decoration-color: #008000\">'https://m.media-amazon.com/images/I/81iMsfWkmsL._AC_SL1500_.jpg', 'large': </span>\n",
       "<span style=\"color: #008000; text-decoration-color: #008000\">'https://m.media-amazon.com/images/I/512nTh3OytL._AC_.jpg', 'thumb': </span>\n",
       "<span style=\"color: #008000; text-decoration-color: #008000\">'https://m.media-amazon.com/images/I/512nTh3OytL._AC_US75_.jpg', 'variant': 'PT03'}\\n {'hi_res': </span>\n",
       "<span style=\"color: #008000; text-decoration-color: #008000\">'https://m.media-amazon.com/images/I/71Y9bghA-OL._AC_SL1500_.jpg', 'large': </span>\n",
       "<span style=\"color: #008000; text-decoration-color: #008000\">'https://m.media-amazon.com/images/I/41TohK8Py4L._AC_.jpg', 'thumb': </span>\n",
       "<span style=\"color: #008000; text-decoration-color: #008000\">'https://m.media-amazon.com/images/I/41TohK8Py4L._AC_US75_.jpg', 'variant': 'PT04'}\\n {'hi_res': </span>\n",
       "<span style=\"color: #008000; text-decoration-color: #008000\">'https://m.media-amazon.com/images/I/81BwRpB-KBL._AC_SL1500_.jpg', 'large': </span>\n",
       "<span style=\"color: #008000; text-decoration-color: #008000\">'https://m.media-amazon.com/images/I/51LPzsSgiJL._AC_.jpg', 'thumb': </span>\n",
       "<span style=\"color: #008000; text-decoration-color: #008000\">'https://m.media-amazon.com/images/I/51LPzsSgiJL._AC_US75_.jpg', 'variant': 'PT05'}\\n {'hi_res': </span>\n",
       "<span style=\"color: #008000; text-decoration-color: #008000\">'https://m.media-amazon.com/images/I/71zwUnv4VdL._AC_SL1500_.jpg', 'large': </span>\n",
       "<span style=\"color: #008000; text-decoration-color: #008000\">'https://m.media-amazon.com/images/I/41vZ1oKQ-IL._AC_.jpg', 'thumb': </span>\n",
       "<span style=\"color: #008000; text-decoration-color: #008000\">'https://m.media-amazon.com/images/I/41vZ1oKQ-IL._AC_US75_.jpg', 'variant': 'PT06'}]\"</span>, <span style=\"color: #008000; text-decoration-color: #008000\">\"store\"</span>: <span style=\"color: #008000; text-decoration-color: #008000\">\"Joey + Joan\"</span>, \n",
       "<span style=\"color: #008000; text-decoration-color: #008000\">\"brand\"</span>: <span style=\"color: #008000; text-decoration-color: #008000\">\"Joey + Joan\"</span>, <span style=\"color: #008000; text-decoration-color: #008000\">\"manufacturer\"</span>: <span style=\"color: #008000; text-decoration-color: #008000\">\"Orion Brands\"</span>, <span style=\"color: #008000; text-decoration-color: #008000\">\"main_category\"</span>: <span style=\"color: #008000; text-decoration-color: #008000\">\"Baby Products\"</span>, <span style=\"color: #008000; text-decoration-color: #008000\">\"categories\"</span>: <span style=\"font-weight: bold\">[]</span>, \n",
       "<span style=\"color: #008000; text-decoration-color: #008000\">\"similarity\"</span>: <span style=\"color: #008080; text-decoration-color: #008080; font-weight: bold\">1.0</span><span style=\"font-weight: bold\">}</span>, <span style=\"font-weight: bold\">{</span><span style=\"color: #008000; text-decoration-color: #008000\">\"title\"</span>: <span style=\"color: #008000; text-decoration-color: #008000\">\"Mellanni Toddler 3 Piece Set Animal-Print - Includes Fitted Sheet, 2 Pillowcases </span>\n",
       "<span style=\"color: #008000; text-decoration-color: #008000\">Standard and Toddler - Fits Baby Crib Too - Super Soft Kids Bedding (3 Piece Todler Set, Animal Print)\"</span>, \n",
       "<span style=\"color: #008000; text-decoration-color: #008000\">\"description\"</span>: <span style=\"color: #008000; text-decoration-color: #008000\">\"Kids Bed Sheet Set - Super Silky Soft - Highest Quality100% Brushed Microfiber\\nWrinkle, Fade, </span>\n",
       "<span style=\"color: #008000; text-decoration-color: #008000\">Stain Resistant - Luxury Fitted &amp; Flat Sheets, Toddler &amp; Standard Pillowcases. Mellanni Fine Linens wraps your </span>\n",
       "<span style=\"color: #008000; text-decoration-color: #008000\">little one in elegance, luxury and comfort.Give your child the best of silky soft, 100% brushed microfiber </span>\n",
       "<span style=\"color: #008000; text-decoration-color: #008000\">carefully crafted in every detail!Microfiber sheets are breathable, keep moisture out! Sheet set growswith your </span>\n",
       "<span style=\"color: #008000; text-decoration-color: #008000\">child as you go from Crib Bed to Toddler Bed, and from Toddler Pillow to Standard Pillow. Both are included!\\nThese</span>\n",
       "<span style=\"color: #008000; text-decoration-color: #008000\">luxurious bed sheets keep your child fresh, cool during hot nights and warm in cold nights - leaving you and </span>\n",
       "<span style=\"color: #008000; text-decoration-color: #008000\">yourfamily rested and ready for a new day.\\nExtremely soft and comfortable!\\nMellanni Lifetime Promise - Mellanni </span>\n",
       "<span style=\"color: #008000; text-decoration-color: #008000\">is a different kind of company that prides itself on providing the absolute best customer service in the industry. </span>\n",
       "<span style=\"color: #008000; text-decoration-color: #008000\">If you are not satisfied with your purchase at any point and for any reason, you can return it with no questions </span>\n",
       "<span style=\"color: #008000; text-decoration-color: #008000\">asked. That's the Mellanni Promise (in fact, you don't even have to send back the product)\"</span>, <span style=\"color: #008000; text-decoration-color: #008000\">\"average_rating\"</span>: <span style=\"color: #008080; text-decoration-color: #008080; font-weight: bold\">4.4</span>,\n",
       "<span style=\"color: #008000; text-decoration-color: #008000\">\"rating_number\"</span>: <span style=\"color: #008080; text-decoration-color: #008080; font-weight: bold\">296</span>, <span style=\"color: #008000; text-decoration-color: #008000\">\"price\"</span>: <span style=\"color: #008080; text-decoration-color: #008080; font-weight: bold\">19.97</span>, <span style=\"color: #008000; text-decoration-color: #008000\">\"features\"</span>: <span style=\"color: #008000; text-decoration-color: #008000\">\"Highest Quality Brushed Microfiber and workmanship, so you know </span>\n",
       "<span style=\"color: #008000; text-decoration-color: #008000\">it Lasts! Fitted sheet with elastic all around ensures the sheet stays put - not just the corners like other sheets</span>\n",
       "<span style=\"color: #008000; text-decoration-color: #008000\">(28\\\"x52\\\" with 11\\\" pocket), toddler pillow case (14\\\"x19\\\") and standard pillow case (20\\\"x30\\\")\\nToddler &amp; </span>\n",
       "<span style=\"color: #008000; text-decoration-color: #008000\">Standard Pillow Cases are both included! No need to buy them separately. Envelope Design is made specifically for </span>\n",
       "<span style=\"color: #008000; text-decoration-color: #008000\">kids so the pillows fit perfectly, stay put, and look flawless. Sheet set fits both crib and toddler bed for easy </span>\n",
       "<span style=\"color: #008000; text-decoration-color: #008000\">transitioning\\nEasy Care - Fade, stain, shrink and wrinkle resistant. Machine wash cold. Dries quick on tumble dry </span>\n",
       "<span style=\"color: #008000; text-decoration-color: #008000\">low. More durable than cotton\\nMellanni Lifetime Promise - Mellanni is a different kind of company that prides </span>\n",
       "<span style=\"color: #008000; text-decoration-color: #008000\">itself on providing the absolute best customer service in the industry. If you are not satisfied with your purchase</span>\n",
       "<span style=\"color: #008000; text-decoration-color: #008000\">at any point and for any reason, you can return it with no questions asked. That's the Mellanni Promise\"</span>, <span style=\"color: #008000; text-decoration-color: #008000\">\"images\"</span>:\n",
       "<span style=\"color: #008000; text-decoration-color: #008000\">\"[{'hi_res': 'https://m.media-amazon.com/images/I/71h1t-zrweL._AC_SL1008_.jpg', 'large': </span>\n",
       "<span style=\"color: #008000; text-decoration-color: #008000\">'https://m.media-amazon.com/images/I/61M5JjQnSGL._AC_.jpg', 'thumb': </span>\n",
       "<span style=\"color: #008000; text-decoration-color: #008000\">'https://m.media-amazon.com/images/I/61M5JjQnSGL._AC_US75_.jpg', 'variant': 'MAIN'}\\n {'hi_res': None, 'large': </span>\n",
       "<span style=\"color: #008000; text-decoration-color: #008000\">'https://m.media-amazon.com/images/I/41Rv7X2tq1L._AC_.jpg', 'thumb': </span>\n",
       "<span style=\"color: #008000; text-decoration-color: #008000\">'https://m.media-amazon.com/images/I/41Rv7X2tq1L._AC_US75_.jpg', 'variant': 'PT01'}\\n {'hi_res': </span>\n",
       "<span style=\"color: #008000; text-decoration-color: #008000\">'https://m.media-amazon.com/images/I/81n7w8rDRvL._AC_SL1500_.jpg', 'large': </span>\n",
       "<span style=\"color: #008000; text-decoration-color: #008000\">'https://m.media-amazon.com/images/I/61ZyT4ulXOL._AC_.jpg', 'thumb': </span>\n",
       "<span style=\"color: #008000; text-decoration-color: #008000\">'https://m.media-amazon.com/images/I/61ZyT4ulXOL._AC_US75_.jpg', 'variant': 'PT02'}\\n {'hi_res': </span>\n",
       "<span style=\"color: #008000; text-decoration-color: #008000\">'https://m.media-amazon.com/images/I/61qHGVMKL7L._AC_SL1200_.jpg', 'large': </span>\n",
       "<span style=\"color: #008000; text-decoration-color: #008000\">'https://m.media-amazon.com/images/I/41Q1kGb6CFL._AC_.jpg', 'thumb': </span>\n",
       "<span style=\"color: #008000; text-decoration-color: #008000\">'https://m.media-amazon.com/images/I/41Q1kGb6CFL._AC_US75_.jpg', 'variant': 'PT03'}]\"</span>, <span style=\"color: #008000; text-decoration-color: #008000\">\"store\"</span>: <span style=\"color: #008000; text-decoration-color: #008000\">\"Mellanni\"</span>, \n",
       "<span style=\"color: #008000; text-decoration-color: #008000\">\"brand\"</span>: <span style=\"color: #008000; text-decoration-color: #008000\">\"Mellanni\"</span>, <span style=\"color: #008000; text-decoration-color: #008000\">\"manufacturer\"</span>: <span style=\"color: #008000; text-decoration-color: #008000\">\"Mellanni\"</span>, <span style=\"color: #008000; text-decoration-color: #008000\">\"main_category\"</span>: <span style=\"color: #008000; text-decoration-color: #008000\">\"Baby Products\"</span>, <span style=\"color: #008000; text-decoration-color: #008000\">\"categories\"</span>: <span style=\"font-weight: bold\">[]</span>, <span style=\"color: #008000; text-decoration-color: #008000\">\"similarity\"</span>: \n",
       "<span style=\"color: #008080; text-decoration-color: #008080; font-weight: bold\">1.0</span><span style=\"font-weight: bold\">}</span>, <span style=\"font-weight: bold\">{</span><span style=\"color: #008000; text-decoration-color: #008000\">\"title\"</span>: <span style=\"color: #008000; text-decoration-color: #008000\">\"Balboa Baby Lavender Poppy &amp; Yellow Tulip Collection Fitted Crib Sheet - Slate\"</span>, <span style=\"color: #008000; text-decoration-color: #008000\">\"description\"</span>: \n",
       "<span style=\"color: #008000; text-decoration-color: #008000\">\"Create your perfect nursery with the Balboa Baby Lavender Poppy Collection. Just one piece of this popular </span>\n",
       "<span style=\"color: #008000; text-decoration-color: #008000\">collection, this premium fitted crib sheet is 100% cotton sateen that will get softer wash after wash. Contemporary</span>\n",
       "<span style=\"color: #008000; text-decoration-color: #008000\">white dot on slate gray field will bring elegance to any nursery.\"</span>, <span style=\"color: #008000; text-decoration-color: #008000\">\"average_rating\"</span>: <span style=\"color: #008080; text-decoration-color: #008080; font-weight: bold\">4.7</span>, <span style=\"color: #008000; text-decoration-color: #008000\">\"rating_number\"</span>: <span style=\"color: #008080; text-decoration-color: #008080; font-weight: bold\">5</span>, \n",
       "<span style=\"color: #008000; text-decoration-color: #008000\">\"price\"</span>: <span style=\"color: #008080; text-decoration-color: #008080; font-weight: bold\">25.957234468937877</span>, <span style=\"color: #008000; text-decoration-color: #008000\">\"features\"</span>: <span style=\"color: #008000; text-decoration-color: #008000\">\"Made from 100% cotton sateen fabrics; will get softer wash after </span>\n",
       "<span style=\"color: #008000; text-decoration-color: #008000\">wash\\nFitted sheet is fully elasticized to fit all standard sized 52 by 28 inch crib mattresses\\nElegant white dot </span>\n",
       "<span style=\"color: #008000; text-decoration-color: #008000\">and slate gray design will provide a world of options in the nursery\\nMachine wash and dry\\nCoordinates with all </span>\n",
       "<span style=\"color: #008000; text-decoration-color: #008000\">items from the Lavender Poppy Nursery Separates Collection by Balboa Baby\"</span>, <span style=\"color: #008000; text-decoration-color: #008000\">\"images\"</span>: <span style=\"color: #008000; text-decoration-color: #008000\">\"[{'hi_res': </span>\n",
       "<span style=\"color: #008000; text-decoration-color: #008000\">'https://m.media-amazon.com/images/I/915IThYwvYL._AC_SL1500_.jpg', 'large': </span>\n",
       "<span style=\"color: #008000; text-decoration-color: #008000\">'https://m.media-amazon.com/images/I/61-2fEvDG2L._AC_.jpg', 'thumb': </span>\n",
       "<span style=\"color: #008000; text-decoration-color: #008000\">'https://m.media-amazon.com/images/I/61-2fEvDG2L._AC_US75_.jpg', 'variant': 'MAIN'}\\n {'hi_res': </span>\n",
       "<span style=\"color: #008000; text-decoration-color: #008000\">'https://m.media-amazon.com/images/I/91jZScEv1LL._AC_SL1500_.jpg', 'large': </span>\n",
       "<span style=\"color: #008000; text-decoration-color: #008000\">'https://m.media-amazon.com/images/I/61nYc2K6+3L._AC_.jpg', 'thumb': </span>\n",
       "<span style=\"color: #008000; text-decoration-color: #008000\">'https://m.media-amazon.com/images/I/61nYc2K6+3L._AC_US75_.jpg', 'variant': 'PT01'}\\n {'hi_res': </span>\n",
       "<span style=\"color: #008000; text-decoration-color: #008000\">'https://m.media-amazon.com/images/I/81evrhRbXFL._AC_SL1500_.jpg', 'large': </span>\n",
       "<span style=\"color: #008000; text-decoration-color: #008000\">'https://m.media-amazon.com/images/I/51rC87Jd7sL._AC_.jpg', 'thumb': </span>\n",
       "<span style=\"color: #008000; text-decoration-color: #008000\">'https://m.media-amazon.com/images/I/51rC87Jd7sL._AC_US75_.jpg', 'variant': 'PT02'}\\n {'hi_res': </span>\n",
       "<span style=\"color: #008000; text-decoration-color: #008000\">'https://m.media-amazon.com/images/I/81pb3pS34DL._AC_SL1500_.jpg', 'large': </span>\n",
       "<span style=\"color: #008000; text-decoration-color: #008000\">'https://m.media-amazon.com/images/I/51cPJrEZbAL._AC_.jpg', 'thumb': </span>\n",
       "<span style=\"color: #008000; text-decoration-color: #008000\">'https://m.media-amazon.com/images/I/51cPJrEZbAL._AC_US75_.jpg', 'variant': 'PT03'}\\n {'hi_res': </span>\n",
       "<span style=\"color: #008000; text-decoration-color: #008000\">'https://m.media-amazon.com/images/I/91LTdjAmd4L._AC_SL1500_.jpg', 'large': </span>\n",
       "<span style=\"color: #008000; text-decoration-color: #008000\">'https://m.media-amazon.com/images/I/51FpMh8in+L._AC_.jpg', 'thumb': </span>\n",
       "<span style=\"color: #008000; text-decoration-color: #008000\">'https://m.media-amazon.com/images/I/51FpMh8in+L._AC_US75_.jpg', 'variant': 'PT04'}]\"</span>, <span style=\"color: #008000; text-decoration-color: #008000\">\"store\"</span>: <span style=\"color: #008000; text-decoration-color: #008000\">\"Balboa Baby\"</span>, \n",
       "<span style=\"color: #008000; text-decoration-color: #008000\">\"brand\"</span>: <span style=\"color: #008000; text-decoration-color: #008000\">\"Balboa Baby\"</span>, <span style=\"color: #008000; text-decoration-color: #008000\">\"manufacturer\"</span>: <span style=\"color: #008000; text-decoration-color: #008000\">\"Balboa Baby\"</span>, <span style=\"color: #008000; text-decoration-color: #008000\">\"main_category\"</span>: <span style=\"color: #008000; text-decoration-color: #008000\">\"Baby Products\"</span>, <span style=\"color: #008000; text-decoration-color: #008000\">\"categories\"</span>: <span style=\"font-weight: bold\">[]</span>, \n",
       "<span style=\"color: #008000; text-decoration-color: #008000\">\"similarity\"</span>: <span style=\"color: #008080; text-decoration-color: #008080; font-weight: bold\">1.0</span><span style=\"font-weight: bold\">}]</span>\n",
       "</pre>\n"
      ],
      "text/plain": [
       "Observations: \u001b[1m[\u001b[0m\u001b[1m{\u001b[0m\u001b[32m\"title\"\u001b[0m: \u001b[32m\"Milliard Two Pack Sheets for Bedside Bassinet\"\u001b[0m, \u001b[32m\"description\"\u001b[0m: \u001b[32m\"This two pack sheet set \u001b[0m\n",
       "\u001b[32mis designed to fit the Milliard Bedside Bassinet or any bassinet mattress measuring 35.5\\\" x 20.5\\\".\"\u001b[0m, \n",
       "\u001b[32m\"average_rating\"\u001b[0m: \u001b[1;36m4.8\u001b[0m, \u001b[32m\"rating_number\"\u001b[0m: \u001b[1;36m468\u001b[0m, \u001b[32m\"price\"\u001b[0m: \u001b[1;36m19.99\u001b[0m, \u001b[32m\"features\"\u001b[0m: \u001b[32m\"This two pack sheet set is designed to \u001b[0m\n",
       "\u001b[32mfit the Milliard Bedside Bassinet or any bassinet mattress measuring 35.5\\\" x 20.5\\\".\\nContains two soft and \u001b[0m\n",
       "\u001b[32mstretchy bassinet sheets.\\n100% polyester\"\u001b[0m, \u001b[32m\"images\"\u001b[0m: \u001b[32m\"\u001b[0m\u001b[32m[\u001b[0m\u001b[32m{\u001b[0m\u001b[32m'hi_res': \u001b[0m\n",
       "\u001b[32m'https://m.media-amazon.com/images/I/81oCAszMtqL._AC_SL1500_.jpg', 'large': \u001b[0m\n",
       "\u001b[32m'https://m.media-amazon.com/images/I/41GE3sUTFsL._AC_.jpg', 'thumb': \u001b[0m\n",
       "\u001b[32m'https://m.media-amazon.com/images/I/41GE3sUTFsL._AC_US75_.jpg', 'variant': 'MAIN'\u001b[0m\u001b[32m}\u001b[0m\u001b[32m\\n \u001b[0m\u001b[32m{\u001b[0m\u001b[32m'hi_res': \u001b[0m\n",
       "\u001b[32m'https://m.media-amazon.com/images/I/61MB3yxilxL._AC_SL1201_.jpg', 'large': \u001b[0m\n",
       "\u001b[32m'https://m.media-amazon.com/images/I/41XvGcanBoL._AC_.jpg', 'thumb': \u001b[0m\n",
       "\u001b[32m'https://m.media-amazon.com/images/I/41XvGcanBoL._AC_US75_.jpg', 'variant': 'PT01'\u001b[0m\u001b[32m}\u001b[0m\u001b[32m]\u001b[0m\u001b[32m\"\u001b[0m, \u001b[32m\"store\"\u001b[0m: \u001b[32m\"Milliard\"\u001b[0m, \n",
       "\u001b[32m\"brand\"\u001b[0m: \u001b[32m\"Milliard\"\u001b[0m, \u001b[32m\"manufacturer\"\u001b[0m: \u001b[32m\"Milliard\"\u001b[0m, \u001b[32m\"main_category\"\u001b[0m: \u001b[32m\"Baby Products\"\u001b[0m, \u001b[32m\"categories\"\u001b[0m: \u001b[1m[\u001b[0m\u001b[1m]\u001b[0m, \u001b[32m\"similarity\"\u001b[0m: \n",
       "\u001b[1;36m1.0\u001b[0m\u001b[1m}\u001b[0m, \u001b[1m{\u001b[0m\u001b[32m\"title\"\u001b[0m: \u001b[32m\"Beybee Waterproof Bed Protector Sheet \u001b[0m\u001b[32m(\u001b[0m\u001b[32m1 Count \u001b[0m\u001b[32m(\u001b[0m\u001b[32mPack of 1\u001b[0m\u001b[32m)\u001b[0m\u001b[32m)\u001b[0m\u001b[32m(\u001b[0m\u001b[32mBeige\u001b[0m\u001b[32m)\u001b[0m\u001b[32m\"\u001b[0m, \u001b[32m\"description\"\u001b[0m: \u001b[32m\"BeyBee quick \u001b[0m\n",
       "\u001b[32mdry sheet is a Comfortable and durable baby dry sheet for the double bed made from 100% leak proof mattress \u001b[0m\n",
       "\u001b[32mprotector and baby skin friendly fabric. This dry sheet for a double bed is the best hygienic baby sheet waterproof\u001b[0m\n",
       "\u001b[32mfor babies protects your baby & bed from wetting. BeyBee waterproof bed protector sheets provide long lasting \u001b[0m\n",
       "\u001b[32mdurability and will surely be the best alternative dry mat for babies for your baby's diapers as they quickly \u001b[0m\n",
       "\u001b[32mabsorb the water. This baby bedsheet cotton is Ultra soft and lightweight under pads crafted with the best fabric \u001b[0m\n",
       "\u001b[32m(\u001b[0m\u001b[32mbaby mat\u001b[0m\u001b[32m)\u001b[0m\u001b[32m our plastic sheet for bedwetting offers a cozy feel to touch even on a rough bed surface. BeyBee dry \u001b[0m\n",
       "\u001b[32msheet is hypoallergenic economical and lightweight can be sterilized up to 90 degree C. These sheets are known as \u001b[0m\n",
       "\u001b[32mlike \u001b[0m\u001b[32m(\u001b[0m\u001b[32mbaby bed sheet waterproof dry sheet for double bed king size urine sheet with quick dry sheet double bed size\u001b[0m\n",
       "\u001b[32mbaby cot sheet quickly dry sheet for baby\u001b[0m\u001b[32m)\u001b[0m\u001b[32m This BeyBee dry sheet helps to protect your baby from 6 major problems \u001b[0m\n",
       "\u001b[32mcaused by the usage of diapers on your child's skin \u001b[0m\u001b[32m(\u001b[0m\u001b[32mgives ultimate protection against damaged immunity urinary \u001b[0m\n",
       "\u001b[32minfections skin irritations redness and rashes\u001b[0m\u001b[32m)\u001b[0m\u001b[32m. BeyBee waterproof bed protector absorbs and holds 8 times its \u001b[0m\n",
       "\u001b[32mweight of water to comfort your baby on his day's nap night's sleep dressing up or playing time. This lightweight \u001b[0m\n",
       "\u001b[32mbaby urine sheet waterproof crafted with best fabric our baby sheet waterproof double bed offers a soft feel to \u001b[0m\n",
       "\u001b[32mtouch even on a rough bed surface.\"\u001b[0m, \u001b[32m\"average_rating\"\u001b[0m: \u001b[1;36m4.3\u001b[0m, \u001b[32m\"rating_number\"\u001b[0m: \u001b[1;36m10996\u001b[0m, \u001b[32m\"price\"\u001b[0m: \u001b[1;36m39.59\u001b[0m, \u001b[32m\"features\"\u001b[0m: \n",
       "\u001b[32m\"BeyBee quick dry sheet is a Comfortable and durable baby dry sheet for the double bed made from 100% leak proof \u001b[0m\n",
       "\u001b[32mmattress protector and baby skin friendly fabric. This dry sheet for a double bed is the best hygienic baby sheet \u001b[0m\n",
       "\u001b[32mwaterproof for babies protects your baby & bed from wetting.\\nBeyBee waterproof bed protector sheets provide long \u001b[0m\n",
       "\u001b[32mlasting durability and will surely be the best alternative dry mat for babies for your baby's diapers as they \u001b[0m\n",
       "\u001b[32mquickly absorb the water. This baby bedsheet cotton is Ultra soft and lightweight under pads crafted with the best \u001b[0m\n",
       "\u001b[32mfabric \u001b[0m\u001b[32m(\u001b[0m\u001b[32mbaby mat\u001b[0m\u001b[32m)\u001b[0m\u001b[32m our plastic sheet for bedwetting offers a cozy feel to touch even on a rough bed surface.\\nBeyBee\u001b[0m\n",
       "\u001b[32mdry sheet is hypoallergenic economical and lightweight can be sterilized up to 90 degree C. These sheets are known \u001b[0m\n",
       "\u001b[32mas like \u001b[0m\u001b[32m(\u001b[0m\u001b[32mbaby bed sheet waterproof dry sheet for double bed king size urine sheet with quick dry sheet double bed \u001b[0m\n",
       "\u001b[32msize baby cot sheet quickly dry sheet for baby\u001b[0m\u001b[32m)\u001b[0m\u001b[32m\\nThis BeyBee dry sheet helps to protect your baby from 6 major \u001b[0m\n",
       "\u001b[32mproblems caused by the usage of diapers on your child's skin \u001b[0m\u001b[32m(\u001b[0m\u001b[32mgives ultimate protection against damaged immunity \u001b[0m\n",
       "\u001b[32murinary infections skin irritations redness and rashes\u001b[0m\u001b[32m)\u001b[0m\u001b[32m.\\nBeyBee waterproof bed protector absorbs and holds 8 times\u001b[0m\n",
       "\u001b[32mits weight of water to comfort your baby on his day's nap night's sleep dressing up or playing time. This \u001b[0m\n",
       "\u001b[32mlightweight baby urine sheet waterproof crafted with best fabric our baby sheet waterproof double bed offers a soft\u001b[0m\n",
       "\u001b[32mfeel to touch even on a rough bed surface.\"\u001b[0m, \u001b[32m\"images\"\u001b[0m: \u001b[32m\"\u001b[0m\u001b[32m[\u001b[0m\u001b[32m{\u001b[0m\u001b[32m'hi_res': \u001b[0m\n",
       "\u001b[32m'https://m.media-amazon.com/images/I/71g27PRzKEL._AC_SL1304_.jpg', 'large': \u001b[0m\n",
       "\u001b[32m'https://m.media-amazon.com/images/I/51GcHNWE5NL._AC_.jpg', 'thumb': \u001b[0m\n",
       "\u001b[32m'https://m.media-amazon.com/images/I/51GcHNWE5NL._AC_US75_.jpg', 'variant': 'MAIN'\u001b[0m\u001b[32m}\u001b[0m\u001b[32m\\n \u001b[0m\u001b[32m{\u001b[0m\u001b[32m'hi_res': \u001b[0m\n",
       "\u001b[32m'https://m.media-amazon.com/images/I/81arjCnk6gL._AC_SL1500_.jpg', 'large': \u001b[0m\n",
       "\u001b[32m'https://m.media-amazon.com/images/I/51uWMLXiPfL._AC_.jpg', 'thumb': \u001b[0m\n",
       "\u001b[32m'https://m.media-amazon.com/images/I/51uWMLXiPfL._AC_US75_.jpg', 'variant': 'PT01'\u001b[0m\u001b[32m}\u001b[0m\u001b[32m\\n \u001b[0m\u001b[32m{\u001b[0m\u001b[32m'hi_res': \u001b[0m\n",
       "\u001b[32m'https://m.media-amazon.com/images/I/81+wTEZ6gzL._AC_SL1500_.jpg', 'large': \u001b[0m\n",
       "\u001b[32m'https://m.media-amazon.com/images/I/51qRij9CvAL._AC_.jpg', 'thumb': \u001b[0m\n",
       "\u001b[32m'https://m.media-amazon.com/images/I/51qRij9CvAL._AC_US75_.jpg', 'variant': 'PT02'\u001b[0m\u001b[32m}\u001b[0m\u001b[32m\\n \u001b[0m\u001b[32m{\u001b[0m\u001b[32m'hi_res': \u001b[0m\n",
       "\u001b[32m'https://m.media-amazon.com/images/I/81f7K5GcVJL._AC_SL1500_.jpg', 'large': \u001b[0m\n",
       "\u001b[32m'https://m.media-amazon.com/images/I/51TkPJkT6fL._AC_.jpg', 'thumb': \u001b[0m\n",
       "\u001b[32m'https://m.media-amazon.com/images/I/51TkPJkT6fL._AC_US75_.jpg', 'variant': 'PT03'\u001b[0m\u001b[32m}\u001b[0m\u001b[32m\\n \u001b[0m\u001b[32m{\u001b[0m\u001b[32m'hi_res': \u001b[0m\n",
       "\u001b[32m'https://m.media-amazon.com/images/I/810QnmLcH-L._AC_SL1500_.jpg', 'large': \u001b[0m\n",
       "\u001b[32m'https://m.media-amazon.com/images/I/51UDxe8ua-L._AC_.jpg', 'thumb': \u001b[0m\n",
       "\u001b[32m'https://m.media-amazon.com/images/I/51UDxe8ua-L._AC_US75_.jpg', 'variant': 'PT04'\u001b[0m\u001b[32m}\u001b[0m\u001b[32m\\n \u001b[0m\u001b[32m{\u001b[0m\u001b[32m'hi_res': \u001b[0m\n",
       "\u001b[32m'https://m.media-amazon.com/images/I/815HH79kxtL._AC_SL1500_.jpg', 'large': \u001b[0m\n",
       "\u001b[32m'https://m.media-amazon.com/images/I/51WdOx816pL._AC_.jpg', 'thumb': \u001b[0m\n",
       "\u001b[32m'https://m.media-amazon.com/images/I/51WdOx816pL._AC_US75_.jpg', 'variant': 'PT05'\u001b[0m\u001b[32m}\u001b[0m\u001b[32m\\n \u001b[0m\u001b[32m{\u001b[0m\u001b[32m'hi_res': \u001b[0m\n",
       "\u001b[32m'https://m.media-amazon.com/images/I/81xJPyuFNJL._AC_SL1500_.jpg', 'large': \u001b[0m\n",
       "\u001b[32m'https://m.media-amazon.com/images/I/51iWW97+4YL._AC_.jpg', 'thumb': \u001b[0m\n",
       "\u001b[32m'https://m.media-amazon.com/images/I/51iWW97+4YL._AC_US75_.jpg', 'variant': 'PT06'\u001b[0m\u001b[32m}\u001b[0m\u001b[32m\\n \u001b[0m\u001b[32m{\u001b[0m\u001b[32m'hi_res': \u001b[0m\n",
       "\u001b[32m'https://m.media-amazon.com/images/I/81BhUnVx1fL._AC_SL1500_.jpg', 'large': \u001b[0m\n",
       "\u001b[32m'https://m.media-amazon.com/images/I/51DTvpGj8WL._AC_.jpg', 'thumb': \u001b[0m\n",
       "\u001b[32m'https://m.media-amazon.com/images/I/51DTvpGj8WL._AC_US75_.jpg', 'variant': 'PT07'\u001b[0m\u001b[32m}\u001b[0m\u001b[32m\\n \u001b[0m\u001b[32m{\u001b[0m\u001b[32m'hi_res': \u001b[0m\n",
       "\u001b[32m'https://m.media-amazon.com/images/I/71saUcptAnL._AC_SL1500_.jpg', 'large': \u001b[0m\n",
       "\u001b[32m'https://m.media-amazon.com/images/I/51YW17pnJbL._AC_.jpg', 'thumb': \u001b[0m\n",
       "\u001b[32m'https://m.media-amazon.com/images/I/51YW17pnJbL._AC_US75_.jpg', 'variant': 'PT08'\u001b[0m\u001b[32m}\u001b[0m\u001b[32m]\u001b[0m\u001b[32m\"\u001b[0m, \u001b[32m\"store\"\u001b[0m: \u001b[32m\"BeyBee\"\u001b[0m, \u001b[32m\"brand\"\u001b[0m: \n",
       "\u001b[32m\"BeyBee\"\u001b[0m, \u001b[32m\"manufacturer\"\u001b[0m: \u001b[32m\"Baby & Mom Retail Pvt Ltd\"\u001b[0m, \u001b[32m\"main_category\"\u001b[0m: \u001b[32m\"Baby Products\"\u001b[0m, \u001b[32m\"categories\"\u001b[0m: \u001b[1m[\u001b[0m\u001b[1m]\u001b[0m, \n",
       "\u001b[32m\"similarity\"\u001b[0m: \u001b[1;36m1.0\u001b[0m\u001b[1m}\u001b[0m, \u001b[1m{\u001b[0m\u001b[32m\"title\"\u001b[0m: \u001b[32m\"Bassinet Sheets 20x30 Inch for Graco Travel Lite Crib, Sense2Snooze, My View 4 in 1,\u001b[0m\n",
       "\u001b[32mDream Suite and Guava Lotus Bassinet \\u2013 Snuggly Soft 100% Jersey Cotton Fitted \\u2013 2 Pack\"\u001b[0m, \u001b[32m\"description\"\u001b[0m: \n",
       "\u001b[32m\"Joey + Joan Travel Lite Crib Sheets 20x30 \\u2013 The Custom Fit for a Peaceful Nights SlumberSKIP THE BAWLING & \u001b[0m\n",
       "\u001b[32mLET THESE  bunny-soft sheets lull your baby to sleep. Crafted from 100% Jersey Cotton, moms who switch to these \u001b[0m\n",
       "\u001b[32mbassinet fitted sheets say they notice a major difference in how quickly baby falls asleep, how peacefully they \u001b[0m\n",
       "\u001b[32mstay asleep, and how joyfully they awake. THE SAFEST COVERS \\u2013 FROM THREAD TO FINISH- Guaranteed 100% Harmful \u001b[0m\n",
       "\u001b[32mSubstance Free- Meets Global OEKO-TEX Certified Standards- Created for soft, squishy, ultra-sensitive baby skin - \u001b[0m\n",
       "\u001b[32mPolyester Free- Allergen FreeTHE EASIEST MAINTENANCE \\u2013 NO LATE NIGHT LAUNDRY SESSIONSBecause late night \u001b[0m\n",
       "\u001b[32mblowouts are virtually guaranteed, we bundle each beautiful travel lite sheet set into a 2 pack, so you can easily \u001b[0m\n",
       "\u001b[32mpull one off, put the second on, and worry about the laundry in the morning. More so, they are machine washable and\u001b[0m\n",
       "\u001b[32mdryer safe! THE SILKIEST SMOOTHNESS \\u2013 BREATHABLE & SWEAT-FREEHand selected, superior strength threads knitted \u001b[0m\n",
       "\u001b[32minto the most breathable, comfy fabric you can imagine. Exactly what you'd want to sleep on yourself to indulge in \u001b[0m\n",
       "\u001b[32ma beautiful nights sleep \u001b[0m\u001b[32m(\u001b[0m\u001b[32mwe're working on that mama!\u001b[0m\u001b[32m)\u001b[0m\u001b[32m THE PERFECT FIT \\u2013 CUSTOM TO BABY'S MATTRESSFitted down \u001b[0m\n",
       "\u001b[32mto the millimeter, these adorable 20 x 30 bassinet sheets are designed to be compatible with- Graco Travel Lite \u001b[0m\n",
       "\u001b[32mCrib with Stages - Graco My View 4 in 1- Graco Sense2Snooze- Graco Dream Suite Bassinet- Guava Lotus \u001b[0m\n",
       "\u001b[32mBassinetUNRIVALED DURABILITY \\u2013 LIFETIME GUARANTEEDFrom the fabric to the BABY SHOWER READY packaging, we pour \u001b[0m\n",
       "\u001b[32mour heart into making the safest, most beautiful baby bassinet sheets on the market; sheets you'll feel joyful \u001b[0m\n",
       "\u001b[32mgiving and receiving. Rest assured these baby sheets rival the quality, softness and durability of any you'll find \u001b[0m\n",
       "\u001b[32mat high end baby boutiques, or we'll extend a full, prompt refund. Your happiness is guaranteed. ADD TO CART now!\"\u001b[0m,\n",
       "\u001b[32m\"average_rating\"\u001b[0m: \u001b[1;36m4.8\u001b[0m, \u001b[32m\"rating_number\"\u001b[0m: \u001b[1;36m895\u001b[0m, \u001b[32m\"price\"\u001b[0m: \u001b[1;36m25.99\u001b[0m, \u001b[32m\"features\"\u001b[0m: \u001b[32m\"\\u2714 SO SO SO SOFT \\u2013 ONLY YOUR \u001b[0m\n",
       "\u001b[32mHUGS ARE SOFTER than our travel lite crib sheets. Crafted from 100% Jersey Cotton in SERENITY INSPIRING designs, \u001b[0m\n",
       "\u001b[32mthese are the Premium Boutique travel lite crib fitted sheets to get if you value baby sheets that retain their \u001b[0m\n",
       "\u001b[32mSOFTNESS, STRETCH & ADORABLE PATTERN thru every WASH. \u001b[0m\u001b[32m(\u001b[0m\u001b[32mMachine Wash, Tumble Dry\u001b[0m\u001b[32m)\u001b[0m\u001b[32m\\n\\u2714 PERFECT CUSTOM FIT \\u2013 \u001b[0m\n",
       "\u001b[32mEASY ON, WON\\u2019T SLIP OFF: Every Joey + Joan bassient sheet fits SPECIFIC MODELS, so they easily slip onto your \u001b[0m\n",
       "\u001b[32mbaby mattress, with ZERO WORRY THEY\\u2019LL ACCIDENTALLY SLIP OFF over baby\\u2019s head. These 20 x 30 bassinet \u001b[0m\n",
       "\u001b[32msheets are compatible with Graco Travel Lite Crib, Sense2Snooze, My View 4 in 1, Dream Suite and Guava Lotus Crib &\u001b[0m\n",
       "\u001b[32mBassinet\\n\\u2714 LET MAMA SLEEP IN\\u2026A LITTLE LONGER \\u2013 DON\\u2019T WAKE BABY with those NOISY, ITCHY, SWEAT \u001b[0m\n",
       "\u001b[32mINDUCING polyester plastic like sheets you wouldn\\u2019t dare sleep on yourself. At Joey + Joan we use only the \u001b[0m\n",
       "\u001b[32msmoothest, silkiest threads to create our BREATHABLE, SWEAT-FREINDLY travel lite sheets then bundle them into a \u001b[0m\n",
       "\u001b[32mCONVENIENT 2 PACK, so you can skip the midnight laundry sessions, and get better sleep yourself\\n\\u2714 SAFETY \u001b[0m\n",
       "\u001b[32mOBSESSED \\u2013 THREAD TO SHEET: BECAUSE YOUR BABIES SENSITIVE skin lays against these sheets every night, we \u001b[0m\n",
       "\u001b[32mfollow the STRICTEST Safety Standards, ensuring every bassinet sheet is CERTIFIED \\u201cTESTED FOR HARMFUL \u001b[0m\n",
       "\u001b[32mSUBSTANCE\\u201d by GLOBAL OEKO-TEX, before placing them into BEAUTIFUL PACKAGING that creates a MEMORABLE UNBOXING \u001b[0m\n",
       "\u001b[32mEXPERIENCE. 100% Zero Allergen. 100% Zero Polyester\\n\\u2714 FULL LIFETIME REPLACEMENT PROMISE \\u2013 HAPPINESS \u001b[0m\n",
       "\u001b[32mASSURED: WE EVEN pay close attention to the elastic in these fitted sheets, encasing every inch in our RELAX-FIT \u001b[0m\n",
       "\u001b[32mFabric, so they stay as flat and well-fitting as the day you purchased. In fact we pour so much LOVE into crafting \u001b[0m\n",
       "\u001b[32mevery sheet that PROMISE THEY\\u2019LL NEVER PILL, unravel, roughen, crease, scrunch, warp, SHRINK, STAIN, DEVELOP \u001b[0m\n",
       "\u001b[32mHOLES or LOSE THEIR STRETCH or we\\u2019ll HAPPILY REPLACE THEM for LIFE\"\u001b[0m, \u001b[32m\"images\"\u001b[0m: \u001b[32m\"\u001b[0m\u001b[32m[\u001b[0m\u001b[32m{\u001b[0m\u001b[32m'hi_res': \u001b[0m\n",
       "\u001b[32m'https://m.media-amazon.com/images/I/61C1BweTE6L._AC_SL1500_.jpg', 'large': \u001b[0m\n",
       "\u001b[32m'https://m.media-amazon.com/images/I/31pRHFem4+L._AC_.jpg', 'thumb': \u001b[0m\n",
       "\u001b[32m'https://m.media-amazon.com/images/I/31pRHFem4+L._AC_US75_.jpg', 'variant': 'MAIN'\u001b[0m\u001b[32m}\u001b[0m\u001b[32m\\n \u001b[0m\u001b[32m{\u001b[0m\u001b[32m'hi_res': \u001b[0m\n",
       "\u001b[32m'https://m.media-amazon.com/images/I/71aMmEG-4rL._AC_SL1500_.jpg', 'large': \u001b[0m\n",
       "\u001b[32m'https://m.media-amazon.com/images/I/41cgmelmuTL._AC_.jpg', 'thumb': \u001b[0m\n",
       "\u001b[32m'https://m.media-amazon.com/images/I/41cgmelmuTL._AC_US75_.jpg', 'variant': 'PT01'\u001b[0m\u001b[32m}\u001b[0m\u001b[32m\\n \u001b[0m\u001b[32m{\u001b[0m\u001b[32m'hi_res': \u001b[0m\n",
       "\u001b[32m'https://m.media-amazon.com/images/I/81egijDy-UL._AC_SL1500_.jpg', 'large': \u001b[0m\n",
       "\u001b[32m'https://m.media-amazon.com/images/I/51QAM+4yl-L._AC_.jpg', 'thumb': \u001b[0m\n",
       "\u001b[32m'https://m.media-amazon.com/images/I/51QAM+4yl-L._AC_US75_.jpg', 'variant': 'PT02'\u001b[0m\u001b[32m}\u001b[0m\u001b[32m\\n \u001b[0m\u001b[32m{\u001b[0m\u001b[32m'hi_res': \u001b[0m\n",
       "\u001b[32m'https://m.media-amazon.com/images/I/81iMsfWkmsL._AC_SL1500_.jpg', 'large': \u001b[0m\n",
       "\u001b[32m'https://m.media-amazon.com/images/I/512nTh3OytL._AC_.jpg', 'thumb': \u001b[0m\n",
       "\u001b[32m'https://m.media-amazon.com/images/I/512nTh3OytL._AC_US75_.jpg', 'variant': 'PT03'\u001b[0m\u001b[32m}\u001b[0m\u001b[32m\\n \u001b[0m\u001b[32m{\u001b[0m\u001b[32m'hi_res': \u001b[0m\n",
       "\u001b[32m'https://m.media-amazon.com/images/I/71Y9bghA-OL._AC_SL1500_.jpg', 'large': \u001b[0m\n",
       "\u001b[32m'https://m.media-amazon.com/images/I/41TohK8Py4L._AC_.jpg', 'thumb': \u001b[0m\n",
       "\u001b[32m'https://m.media-amazon.com/images/I/41TohK8Py4L._AC_US75_.jpg', 'variant': 'PT04'\u001b[0m\u001b[32m}\u001b[0m\u001b[32m\\n \u001b[0m\u001b[32m{\u001b[0m\u001b[32m'hi_res': \u001b[0m\n",
       "\u001b[32m'https://m.media-amazon.com/images/I/81BwRpB-KBL._AC_SL1500_.jpg', 'large': \u001b[0m\n",
       "\u001b[32m'https://m.media-amazon.com/images/I/51LPzsSgiJL._AC_.jpg', 'thumb': \u001b[0m\n",
       "\u001b[32m'https://m.media-amazon.com/images/I/51LPzsSgiJL._AC_US75_.jpg', 'variant': 'PT05'\u001b[0m\u001b[32m}\u001b[0m\u001b[32m\\n \u001b[0m\u001b[32m{\u001b[0m\u001b[32m'hi_res': \u001b[0m\n",
       "\u001b[32m'https://m.media-amazon.com/images/I/71zwUnv4VdL._AC_SL1500_.jpg', 'large': \u001b[0m\n",
       "\u001b[32m'https://m.media-amazon.com/images/I/41vZ1oKQ-IL._AC_.jpg', 'thumb': \u001b[0m\n",
       "\u001b[32m'https://m.media-amazon.com/images/I/41vZ1oKQ-IL._AC_US75_.jpg', 'variant': 'PT06'\u001b[0m\u001b[32m}\u001b[0m\u001b[32m]\u001b[0m\u001b[32m\"\u001b[0m, \u001b[32m\"store\"\u001b[0m: \u001b[32m\"Joey + Joan\"\u001b[0m, \n",
       "\u001b[32m\"brand\"\u001b[0m: \u001b[32m\"Joey + Joan\"\u001b[0m, \u001b[32m\"manufacturer\"\u001b[0m: \u001b[32m\"Orion Brands\"\u001b[0m, \u001b[32m\"main_category\"\u001b[0m: \u001b[32m\"Baby Products\"\u001b[0m, \u001b[32m\"categories\"\u001b[0m: \u001b[1m[\u001b[0m\u001b[1m]\u001b[0m, \n",
       "\u001b[32m\"similarity\"\u001b[0m: \u001b[1;36m1.0\u001b[0m\u001b[1m}\u001b[0m, \u001b[1m{\u001b[0m\u001b[32m\"title\"\u001b[0m: \u001b[32m\"Mellanni Toddler 3 Piece Set Animal-Print - Includes Fitted Sheet, 2 Pillowcases \u001b[0m\n",
       "\u001b[32mStandard and Toddler - Fits Baby Crib Too - Super Soft Kids Bedding \u001b[0m\u001b[32m(\u001b[0m\u001b[32m3 Piece Todler Set, Animal Print\u001b[0m\u001b[32m)\u001b[0m\u001b[32m\"\u001b[0m, \n",
       "\u001b[32m\"description\"\u001b[0m: \u001b[32m\"Kids Bed Sheet Set - Super Silky Soft - Highest Quality100% Brushed Microfiber\\nWrinkle, Fade, \u001b[0m\n",
       "\u001b[32mStain Resistant - Luxury Fitted & Flat Sheets, Toddler & Standard Pillowcases. Mellanni Fine Linens wraps your \u001b[0m\n",
       "\u001b[32mlittle one in elegance, luxury and comfort.Give your child the best of silky soft, 100% brushed microfiber \u001b[0m\n",
       "\u001b[32mcarefully crafted in every detail!Microfiber sheets are breathable, keep moisture out! Sheet set growswith your \u001b[0m\n",
       "\u001b[32mchild as you go from Crib Bed to Toddler Bed, and from Toddler Pillow to Standard Pillow. Both are included!\\nThese\u001b[0m\n",
       "\u001b[32mluxurious bed sheets keep your child fresh, cool during hot nights and warm in cold nights - leaving you and \u001b[0m\n",
       "\u001b[32myourfamily rested and ready for a new day.\\nExtremely soft and comfortable!\\nMellanni Lifetime Promise - Mellanni \u001b[0m\n",
       "\u001b[32mis a different kind of company that prides itself on providing the absolute best customer service in the industry. \u001b[0m\n",
       "\u001b[32mIf you are not satisfied with your purchase at any point and for any reason, you can return it with no questions \u001b[0m\n",
       "\u001b[32masked. That's the Mellanni Promise \u001b[0m\u001b[32m(\u001b[0m\u001b[32min fact, you don't even have to send back the product\u001b[0m\u001b[32m)\u001b[0m\u001b[32m\"\u001b[0m, \u001b[32m\"average_rating\"\u001b[0m: \u001b[1;36m4.4\u001b[0m,\n",
       "\u001b[32m\"rating_number\"\u001b[0m: \u001b[1;36m296\u001b[0m, \u001b[32m\"price\"\u001b[0m: \u001b[1;36m19.97\u001b[0m, \u001b[32m\"features\"\u001b[0m: \u001b[32m\"Highest Quality Brushed Microfiber and workmanship, so you know \u001b[0m\n",
       "\u001b[32mit Lasts! Fitted sheet with elastic all around ensures the sheet stays put - not just the corners like other sheets\u001b[0m\n",
       "\u001b[32m(\u001b[0m\u001b[32m28\\\"x52\\\" with 11\\\" pocket\u001b[0m\u001b[32m)\u001b[0m\u001b[32m, toddler pillow case \u001b[0m\u001b[32m(\u001b[0m\u001b[32m14\\\"x19\\\"\u001b[0m\u001b[32m)\u001b[0m\u001b[32m and standard pillow case \u001b[0m\u001b[32m(\u001b[0m\u001b[32m20\\\"x30\\\"\u001b[0m\u001b[32m)\u001b[0m\u001b[32m\\nToddler & \u001b[0m\n",
       "\u001b[32mStandard Pillow Cases are both included! No need to buy them separately. Envelope Design is made specifically for \u001b[0m\n",
       "\u001b[32mkids so the pillows fit perfectly, stay put, and look flawless. Sheet set fits both crib and toddler bed for easy \u001b[0m\n",
       "\u001b[32mtransitioning\\nEasy Care - Fade, stain, shrink and wrinkle resistant. Machine wash cold. Dries quick on tumble dry \u001b[0m\n",
       "\u001b[32mlow. More durable than cotton\\nMellanni Lifetime Promise - Mellanni is a different kind of company that prides \u001b[0m\n",
       "\u001b[32mitself on providing the absolute best customer service in the industry. If you are not satisfied with your purchase\u001b[0m\n",
       "\u001b[32mat any point and for any reason, you can return it with no questions asked. That's the Mellanni Promise\"\u001b[0m, \u001b[32m\"images\"\u001b[0m:\n",
       "\u001b[32m\"\u001b[0m\u001b[32m[\u001b[0m\u001b[32m{\u001b[0m\u001b[32m'hi_res': 'https://m.media-amazon.com/images/I/71h1t-zrweL._AC_SL1008_.jpg', 'large': \u001b[0m\n",
       "\u001b[32m'https://m.media-amazon.com/images/I/61M5JjQnSGL._AC_.jpg', 'thumb': \u001b[0m\n",
       "\u001b[32m'https://m.media-amazon.com/images/I/61M5JjQnSGL._AC_US75_.jpg', 'variant': 'MAIN'\u001b[0m\u001b[32m}\u001b[0m\u001b[32m\\n \u001b[0m\u001b[32m{\u001b[0m\u001b[32m'hi_res': None, 'large': \u001b[0m\n",
       "\u001b[32m'https://m.media-amazon.com/images/I/41Rv7X2tq1L._AC_.jpg', 'thumb': \u001b[0m\n",
       "\u001b[32m'https://m.media-amazon.com/images/I/41Rv7X2tq1L._AC_US75_.jpg', 'variant': 'PT01'\u001b[0m\u001b[32m}\u001b[0m\u001b[32m\\n \u001b[0m\u001b[32m{\u001b[0m\u001b[32m'hi_res': \u001b[0m\n",
       "\u001b[32m'https://m.media-amazon.com/images/I/81n7w8rDRvL._AC_SL1500_.jpg', 'large': \u001b[0m\n",
       "\u001b[32m'https://m.media-amazon.com/images/I/61ZyT4ulXOL._AC_.jpg', 'thumb': \u001b[0m\n",
       "\u001b[32m'https://m.media-amazon.com/images/I/61ZyT4ulXOL._AC_US75_.jpg', 'variant': 'PT02'\u001b[0m\u001b[32m}\u001b[0m\u001b[32m\\n \u001b[0m\u001b[32m{\u001b[0m\u001b[32m'hi_res': \u001b[0m\n",
       "\u001b[32m'https://m.media-amazon.com/images/I/61qHGVMKL7L._AC_SL1200_.jpg', 'large': \u001b[0m\n",
       "\u001b[32m'https://m.media-amazon.com/images/I/41Q1kGb6CFL._AC_.jpg', 'thumb': \u001b[0m\n",
       "\u001b[32m'https://m.media-amazon.com/images/I/41Q1kGb6CFL._AC_US75_.jpg', 'variant': 'PT03'\u001b[0m\u001b[32m}\u001b[0m\u001b[32m]\u001b[0m\u001b[32m\"\u001b[0m, \u001b[32m\"store\"\u001b[0m: \u001b[32m\"Mellanni\"\u001b[0m, \n",
       "\u001b[32m\"brand\"\u001b[0m: \u001b[32m\"Mellanni\"\u001b[0m, \u001b[32m\"manufacturer\"\u001b[0m: \u001b[32m\"Mellanni\"\u001b[0m, \u001b[32m\"main_category\"\u001b[0m: \u001b[32m\"Baby Products\"\u001b[0m, \u001b[32m\"categories\"\u001b[0m: \u001b[1m[\u001b[0m\u001b[1m]\u001b[0m, \u001b[32m\"similarity\"\u001b[0m: \n",
       "\u001b[1;36m1.0\u001b[0m\u001b[1m}\u001b[0m, \u001b[1m{\u001b[0m\u001b[32m\"title\"\u001b[0m: \u001b[32m\"Balboa Baby Lavender Poppy & Yellow Tulip Collection Fitted Crib Sheet - Slate\"\u001b[0m, \u001b[32m\"description\"\u001b[0m: \n",
       "\u001b[32m\"Create your perfect nursery with the Balboa Baby Lavender Poppy Collection. Just one piece of this popular \u001b[0m\n",
       "\u001b[32mcollection, this premium fitted crib sheet is 100% cotton sateen that will get softer wash after wash. Contemporary\u001b[0m\n",
       "\u001b[32mwhite dot on slate gray field will bring elegance to any nursery.\"\u001b[0m, \u001b[32m\"average_rating\"\u001b[0m: \u001b[1;36m4.7\u001b[0m, \u001b[32m\"rating_number\"\u001b[0m: \u001b[1;36m5\u001b[0m, \n",
       "\u001b[32m\"price\"\u001b[0m: \u001b[1;36m25.957234468937877\u001b[0m, \u001b[32m\"features\"\u001b[0m: \u001b[32m\"Made from 100% cotton sateen fabrics; will get softer wash after \u001b[0m\n",
       "\u001b[32mwash\\nFitted sheet is fully elasticized to fit all standard sized 52 by 28 inch crib mattresses\\nElegant white dot \u001b[0m\n",
       "\u001b[32mand slate gray design will provide a world of options in the nursery\\nMachine wash and dry\\nCoordinates with all \u001b[0m\n",
       "\u001b[32mitems from the Lavender Poppy Nursery Separates Collection by Balboa Baby\"\u001b[0m, \u001b[32m\"images\"\u001b[0m: \u001b[32m\"\u001b[0m\u001b[32m[\u001b[0m\u001b[32m{\u001b[0m\u001b[32m'hi_res': \u001b[0m\n",
       "\u001b[32m'https://m.media-amazon.com/images/I/915IThYwvYL._AC_SL1500_.jpg', 'large': \u001b[0m\n",
       "\u001b[32m'https://m.media-amazon.com/images/I/61-2fEvDG2L._AC_.jpg', 'thumb': \u001b[0m\n",
       "\u001b[32m'https://m.media-amazon.com/images/I/61-2fEvDG2L._AC_US75_.jpg', 'variant': 'MAIN'\u001b[0m\u001b[32m}\u001b[0m\u001b[32m\\n \u001b[0m\u001b[32m{\u001b[0m\u001b[32m'hi_res': \u001b[0m\n",
       "\u001b[32m'https://m.media-amazon.com/images/I/91jZScEv1LL._AC_SL1500_.jpg', 'large': \u001b[0m\n",
       "\u001b[32m'https://m.media-amazon.com/images/I/61nYc2K6+3L._AC_.jpg', 'thumb': \u001b[0m\n",
       "\u001b[32m'https://m.media-amazon.com/images/I/61nYc2K6+3L._AC_US75_.jpg', 'variant': 'PT01'\u001b[0m\u001b[32m}\u001b[0m\u001b[32m\\n \u001b[0m\u001b[32m{\u001b[0m\u001b[32m'hi_res': \u001b[0m\n",
       "\u001b[32m'https://m.media-amazon.com/images/I/81evrhRbXFL._AC_SL1500_.jpg', 'large': \u001b[0m\n",
       "\u001b[32m'https://m.media-amazon.com/images/I/51rC87Jd7sL._AC_.jpg', 'thumb': \u001b[0m\n",
       "\u001b[32m'https://m.media-amazon.com/images/I/51rC87Jd7sL._AC_US75_.jpg', 'variant': 'PT02'\u001b[0m\u001b[32m}\u001b[0m\u001b[32m\\n \u001b[0m\u001b[32m{\u001b[0m\u001b[32m'hi_res': \u001b[0m\n",
       "\u001b[32m'https://m.media-amazon.com/images/I/81pb3pS34DL._AC_SL1500_.jpg', 'large': \u001b[0m\n",
       "\u001b[32m'https://m.media-amazon.com/images/I/51cPJrEZbAL._AC_.jpg', 'thumb': \u001b[0m\n",
       "\u001b[32m'https://m.media-amazon.com/images/I/51cPJrEZbAL._AC_US75_.jpg', 'variant': 'PT03'\u001b[0m\u001b[32m}\u001b[0m\u001b[32m\\n \u001b[0m\u001b[32m{\u001b[0m\u001b[32m'hi_res': \u001b[0m\n",
       "\u001b[32m'https://m.media-amazon.com/images/I/91LTdjAmd4L._AC_SL1500_.jpg', 'large': \u001b[0m\n",
       "\u001b[32m'https://m.media-amazon.com/images/I/51FpMh8in+L._AC_.jpg', 'thumb': \u001b[0m\n",
       "\u001b[32m'https://m.media-amazon.com/images/I/51FpMh8in+L._AC_US75_.jpg', 'variant': 'PT04'\u001b[0m\u001b[32m}\u001b[0m\u001b[32m]\u001b[0m\u001b[32m\"\u001b[0m, \u001b[32m\"store\"\u001b[0m: \u001b[32m\"Balboa Baby\"\u001b[0m, \n",
       "\u001b[32m\"brand\"\u001b[0m: \u001b[32m\"Balboa Baby\"\u001b[0m, \u001b[32m\"manufacturer\"\u001b[0m: \u001b[32m\"Balboa Baby\"\u001b[0m, \u001b[32m\"main_category\"\u001b[0m: \u001b[32m\"Baby Products\"\u001b[0m, \u001b[32m\"categories\"\u001b[0m: \u001b[1m[\u001b[0m\u001b[1m]\u001b[0m, \n",
       "\u001b[32m\"similarity\"\u001b[0m: \u001b[1;36m1.0\u001b[0m\u001b[1m}\u001b[0m\u001b[1m]\u001b[0m\n"
      ]
     },
     "metadata": {},
     "output_type": "display_data"
    },
    {
     "data": {
      "text/html": [
       "<pre style=\"white-space:pre;overflow-x:auto;line-height:normal;font-family:Menlo,'DejaVu Sans Mono',consolas,'Courier New',monospace\"><span style=\"color: #7f7f7f; text-decoration-color: #7f7f7f\">[Step 0: Duration 2.82 seconds| Input tokens: 858 | Output tokens: 16]</span>\n",
       "</pre>\n"
      ],
      "text/plain": [
       "\u001b[2m[Step 0: Duration 2.82 seconds| Input tokens: 858 | Output tokens: 16]\u001b[0m\n"
      ]
     },
     "metadata": {},
     "output_type": "display_data"
    },
    {
     "data": {
      "text/html": [
       "<pre style=\"white-space:pre;overflow-x:auto;line-height:normal;font-family:Menlo,'DejaVu Sans Mono',consolas,'Courier New',monospace\"><span style=\"color: #d4b702; text-decoration-color: #d4b702\">━━━━━━━━━━━━━━━━━━━━━━━━━━━━━━━━━━━━━━━━━━━━━━━━━━━━━ </span><span style=\"font-weight: bold\">Step </span><span style=\"color: #008080; text-decoration-color: #008080; font-weight: bold\">1</span><span style=\"color: #d4b702; text-decoration-color: #d4b702\"> ━━━━━━━━━━━━━━━━━━━━━━━━━━━━━━━━━━━━━━━━━━━━━━━━━━━━━━</span>\n",
       "</pre>\n"
      ],
      "text/plain": [
       "\u001b[38;2;212;183;2m━━━━━━━━━━━━━━━━━━━━━━━━━━━━━━━━━━━━━━━━━━━━━━━━━━━━━ \u001b[0m\u001b[1mStep \u001b[0m\u001b[1;36m1\u001b[0m\u001b[38;2;212;183;2m ━━━━━━━━━━━━━━━━━━━━━━━━━━━━━━━━━━━━━━━━━━━━━━━━━━━━━━\u001b[0m\n"
      ]
     },
     "metadata": {},
     "output_type": "display_data"
    },
    {
     "data": {
      "text/html": [
       "<pre style=\"white-space:pre;overflow-x:auto;line-height:normal;font-family:Menlo,'DejaVu Sans Mono',consolas,'Courier New',monospace\">╭─────────────────────────────────────────────────────────────────────────────────────────────────────────────────╮\n",
       "│ Calling tool: 'final_answer' with arguments: {'answer': '{\"title\": \"Milliard Two Pack Sheets for Bedside        │\n",
       "│ Bassinet\", \"description\": \"This two pack sheet set is designed to fit the Milliard Bedside Bassinet or any      │\n",
       "│ bassinet mattress measuring 35.5\\\\\" x 20.5\\\\\". Contains two soft and stretchy bassinet sheets. 100% polyester\", │\n",
       "│ \"price\": 19.99, \"store\": \"Milliard\", \"brand\": \"Milliard\", \"manufacturer\": \"Milliard\", \"images\":                 │\n",
       "│ [\"https://m.media-amazon.com/images/I/81oCAszMtqL._AC_SL1500_.jpg\"], \"main_category\": \"Baby Products\"}'}        │\n",
       "╰─────────────────────────────────────────────────────────────────────────────────────────────────────────────────╯\n",
       "</pre>\n"
      ],
      "text/plain": [
       "╭─────────────────────────────────────────────────────────────────────────────────────────────────────────────────╮\n",
       "│ Calling tool: 'final_answer' with arguments: {'answer': '{\"title\": \"Milliard Two Pack Sheets for Bedside        │\n",
       "│ Bassinet\", \"description\": \"This two pack sheet set is designed to fit the Milliard Bedside Bassinet or any      │\n",
       "│ bassinet mattress measuring 35.5\\\\\" x 20.5\\\\\". Contains two soft and stretchy bassinet sheets. 100% polyester\", │\n",
       "│ \"price\": 19.99, \"store\": \"Milliard\", \"brand\": \"Milliard\", \"manufacturer\": \"Milliard\", \"images\":                 │\n",
       "│ [\"https://m.media-amazon.com/images/I/81oCAszMtqL._AC_SL1500_.jpg\"], \"main_category\": \"Baby Products\"}'}        │\n",
       "╰─────────────────────────────────────────────────────────────────────────────────────────────────────────────────╯\n"
      ]
     },
     "metadata": {},
     "output_type": "display_data"
    },
    {
     "data": {
      "text/html": [
       "<pre style=\"white-space:pre;overflow-x:auto;line-height:normal;font-family:Menlo,'DejaVu Sans Mono',consolas,'Courier New',monospace\"><span style=\"color: #d4b702; text-decoration-color: #d4b702; font-weight: bold\">Final answer: {\"title\": \"Milliard Two Pack Sheets for Bedside Bassinet\", \"description\": \"This two pack sheet set is</span>\n",
       "<span style=\"color: #d4b702; text-decoration-color: #d4b702; font-weight: bold\">designed to fit the Milliard Bedside Bassinet or any bassinet mattress measuring 35.5\\\" x 20.5\\\". Contains two soft</span>\n",
       "<span style=\"color: #d4b702; text-decoration-color: #d4b702; font-weight: bold\">and stretchy bassinet sheets. 100% polyester\", \"price\": 19.99, \"store\": \"Milliard\", \"brand\": \"Milliard\", </span>\n",
       "<span style=\"color: #d4b702; text-decoration-color: #d4b702; font-weight: bold\">\"manufacturer\": \"Milliard\", \"images\": [\"https://m.media-amazon.com/images/I/81oCAszMtqL._AC_SL1500_.jpg\"], </span>\n",
       "<span style=\"color: #d4b702; text-decoration-color: #d4b702; font-weight: bold\">\"main_category\": \"Baby Products\"}</span>\n",
       "</pre>\n"
      ],
      "text/plain": [
       "\u001b[1;38;2;212;183;2mFinal answer: {\"title\": \"Milliard Two Pack Sheets for Bedside Bassinet\", \"description\": \"This two pack sheet set is\u001b[0m\n",
       "\u001b[1;38;2;212;183;2mdesigned to fit the Milliard Bedside Bassinet or any bassinet mattress measuring 35.5\\\" x 20.5\\\". Contains two soft\u001b[0m\n",
       "\u001b[1;38;2;212;183;2mand stretchy bassinet sheets. 100% polyester\", \"price\": 19.99, \"store\": \"Milliard\", \"brand\": \"Milliard\", \u001b[0m\n",
       "\u001b[1;38;2;212;183;2m\"manufacturer\": \"Milliard\", \"images\": [\"https://m.media-amazon.com/images/I/81oCAszMtqL._AC_SL1500_.jpg\"], \u001b[0m\n",
       "\u001b[1;38;2;212;183;2m\"main_category\": \"Baby Products\"}\u001b[0m\n"
      ]
     },
     "metadata": {},
     "output_type": "display_data"
    },
    {
     "data": {
      "text/html": [
       "<pre style=\"white-space:pre;overflow-x:auto;line-height:normal;font-family:Menlo,'DejaVu Sans Mono',consolas,'Courier New',monospace\"><span style=\"color: #7f7f7f; text-decoration-color: #7f7f7f\">[Step 1: Duration 5.95 seconds| Input tokens: 7,255 | Output tokens: 167]</span>\n",
       "</pre>\n"
      ],
      "text/plain": [
       "\u001b[2m[Step 1: Duration 5.95 seconds| Input tokens: 7,255 | Output tokens: 167]\u001b[0m\n"
      ]
     },
     "metadata": {},
     "output_type": "display_data"
    }
   ],
   "source": [
    "query_json_file = orchastrator.recommend_products_using_query(\"bedsheets\", 5)"
   ]
  },
  {
   "cell_type": "code",
   "execution_count": 4,
   "metadata": {},
   "outputs": [
    {
     "data": {
      "text/html": [
       "<pre style=\"white-space:pre;overflow-x:auto;line-height:normal;font-family:Menlo,'DejaVu Sans Mono',consolas,'Courier New',monospace\"><span style=\"color: #d4b702; text-decoration-color: #d4b702\">╭──────────────────────────────────────────────────── </span><span style=\"color: #d4b702; text-decoration-color: #d4b702; font-weight: bold\">New run</span><span style=\"color: #d4b702; text-decoration-color: #d4b702\"> ────────────────────────────────────────────────────╮</span>\n",
       "<span style=\"color: #d4b702; text-decoration-color: #d4b702\">│</span>                                                                                                                 <span style=\"color: #d4b702; text-decoration-color: #d4b702\">│</span>\n",
       "<span style=\"color: #d4b702; text-decoration-color: #d4b702\">│</span> <span style=\"font-weight: bold\">Baby Products</span>                                                                                                   <span style=\"color: #d4b702; text-decoration-color: #d4b702\">│</span>\n",
       "<span style=\"color: #d4b702; text-decoration-color: #d4b702\">│</span>                                                                                                                 <span style=\"color: #d4b702; text-decoration-color: #d4b702\">│</span>\n",
       "<span style=\"color: #d4b702; text-decoration-color: #d4b702\">╰─ LiteLLMModel - azure/GPT4-Turbo-128K-0125-preview ─────────────────────────────────────────────────────────────╯</span>\n",
       "</pre>\n"
      ],
      "text/plain": [
       "\u001b[38;2;212;183;2m╭─\u001b[0m\u001b[38;2;212;183;2m───────────────────────────────────────────────────\u001b[0m\u001b[38;2;212;183;2m \u001b[0m\u001b[1;38;2;212;183;2mNew run\u001b[0m\u001b[38;2;212;183;2m \u001b[0m\u001b[38;2;212;183;2m───────────────────────────────────────────────────\u001b[0m\u001b[38;2;212;183;2m─╮\u001b[0m\n",
       "\u001b[38;2;212;183;2m│\u001b[0m                                                                                                                 \u001b[38;2;212;183;2m│\u001b[0m\n",
       "\u001b[38;2;212;183;2m│\u001b[0m \u001b[1mBaby Products\u001b[0m                                                                                                   \u001b[38;2;212;183;2m│\u001b[0m\n",
       "\u001b[38;2;212;183;2m│\u001b[0m                                                                                                                 \u001b[38;2;212;183;2m│\u001b[0m\n",
       "\u001b[38;2;212;183;2m╰─\u001b[0m\u001b[38;2;212;183;2m LiteLLMModel - azure/GPT4-Turbo-128K-0125-preview \u001b[0m\u001b[38;2;212;183;2m────────────────────────────────────────────────────────────\u001b[0m\u001b[38;2;212;183;2m─╯\u001b[0m\n"
      ]
     },
     "metadata": {},
     "output_type": "display_data"
    },
    {
     "data": {
      "text/html": [
       "<pre style=\"white-space:pre;overflow-x:auto;line-height:normal;font-family:Menlo,'DejaVu Sans Mono',consolas,'Courier New',monospace\"><span style=\"color: #d4b702; text-decoration-color: #d4b702\">━━━━━━━━━━━━━━━━━━━━━━━━━━━━━━━━━━━━━━━━━━━━━━━━━━━━━ </span><span style=\"font-weight: bold\">Step </span><span style=\"color: #008080; text-decoration-color: #008080; font-weight: bold\">0</span><span style=\"color: #d4b702; text-decoration-color: #d4b702\"> ━━━━━━━━━━━━━━━━━━━━━━━━━━━━━━━━━━━━━━━━━━━━━━━━━━━━━━</span>\n",
       "</pre>\n"
      ],
      "text/plain": [
       "\u001b[38;2;212;183;2m━━━━━━━━━━━━━━━━━━━━━━━━━━━━━━━━━━━━━━━━━━━━━━━━━━━━━ \u001b[0m\u001b[1mStep \u001b[0m\u001b[1;36m0\u001b[0m\u001b[38;2;212;183;2m ━━━━━━━━━━━━━━━━━━━━━━━━━━━━━━━━━━━━━━━━━━━━━━━━━━━━━━\u001b[0m\n"
      ]
     },
     "metadata": {},
     "output_type": "display_data"
    },
    {
     "data": {
      "text/html": [
       "<pre style=\"white-space:pre;overflow-x:auto;line-height:normal;font-family:Menlo,'DejaVu Sans Mono',consolas,'Courier New',monospace\">╭─────────────────────────────────────────────────────────────────────────────────────────────────────────────────╮\n",
       "│ Calling tool: 'recommend_with_category_tool' with arguments: {'category': 'Baby Products'}                      │\n",
       "╰─────────────────────────────────────────────────────────────────────────────────────────────────────────────────╯\n",
       "</pre>\n"
      ],
      "text/plain": [
       "╭─────────────────────────────────────────────────────────────────────────────────────────────────────────────────╮\n",
       "│ Calling tool: 'recommend_with_category_tool' with arguments: {'category': 'Baby Products'}                      │\n",
       "╰─────────────────────────────────────────────────────────────────────────────────────────────────────────────────╯\n"
      ]
     },
     "metadata": {},
     "output_type": "display_data"
    },
    {
     "data": {
      "text/html": [
       "<pre style=\"white-space:pre;overflow-x:auto;line-height:normal;font-family:Menlo,'DejaVu Sans Mono',consolas,'Courier New',monospace\">Observations: <span style=\"font-weight: bold\">[{</span><span style=\"color: #008000; text-decoration-color: #008000\">\"title\"</span>: <span style=\"color: #008000; text-decoration-color: #008000\">\"Millie (4 PACK) Sliding Glass Door Child Lock - Baby Safety Slide Window Locks Kids Proof</span>\n",
       "<span style=\"color: #008000; text-decoration-color: #008000\">Patio Closet Doors No Drilling Tools Needed (white)\"</span>, <span style=\"color: #008000; text-decoration-color: #008000\">\"description\"</span>: <span style=\"color: #008000; text-decoration-color: #008000\">\"YOUR BABY\\u2019S SAFETY IS OUR PRIORITY </span>\n",
       "<span style=\"color: #008000; text-decoration-color: #008000\">babyproof locking device allows you to prevent your children from gaining access to off-limits areas that could put</span>\n",
       "<span style=\"color: #008000; text-decoration-color: #008000\">them in danger, or cause them harm, such as swimming pools, patios, balconies, medicine cabinets, and cleaning </span>\n",
       "<span style=\"color: #008000; text-decoration-color: #008000\">supplies storage areas. HASSLE FREE INSTALLATION -- Childproofing often sounds like you have to bring specialists </span>\n",
       "<span style=\"color: #008000; text-decoration-color: #008000\">in to do the job for you, but with this device, it makes babyproofing your home a breeze. You simply have to peel </span>\n",
       "<span style=\"color: #008000; text-decoration-color: #008000\">the tape and apply it to the intended surface. It takes only a few seconds.\"</span>, <span style=\"color: #008000; text-decoration-color: #008000\">\"average_rating\"</span>: <span style=\"color: #008080; text-decoration-color: #008080; font-weight: bold\">4.5</span>, \n",
       "<span style=\"color: #008000; text-decoration-color: #008000\">\"rating_number\"</span>: <span style=\"color: #008080; text-decoration-color: #008080; font-weight: bold\">17</span>, <span style=\"color: #008000; text-decoration-color: #008000\">\"price\"</span>: <span style=\"color: #008080; text-decoration-color: #008080; font-weight: bold\">9.99</span>, <span style=\"color: #008000; text-decoration-color: #008000\">\"features\"</span>: <span style=\"color: #008000; text-decoration-color: #008000\">\"YOUR BABY\\u2019S SAFETY IS OUR PRIORITY babyproof locking device </span>\n",
       "<span style=\"color: #008000; text-decoration-color: #008000\">allows you to prevent your children from gaining access to off-limits areas that could put them in danger, or cause</span>\n",
       "<span style=\"color: #008000; text-decoration-color: #008000\">them harm, such as swimming pools, patios, balconies, medicine cabinets, and cleaning supplies storage </span>\n",
       "<span style=\"color: #008000; text-decoration-color: #008000\">areas.\\nDURABLE &amp; CONVENIENT DESIGN -- The keyless design means you simply have to flip to unlock and press down to</span>\n",
       "<span style=\"color: #008000; text-decoration-color: #008000\">relock. The tape used to attach the device is designed to be compatible with several different surfaces so it stays</span>\n",
       "<span style=\"color: #008000; text-decoration-color: #008000\">in place even as your baby tugs and pulls at it. It\\u2019s meant to be difficult for babies and toddlers, but that </span>\n",
       "<span style=\"color: #008000; text-decoration-color: #008000\">doesn\\u2019t mean you have to struggle with it too.\\nHASSLE FREE INSTALLATION -- Childproofing often sounds like </span>\n",
       "<span style=\"color: #008000; text-decoration-color: #008000\">you have to bring specialists in to do the job for you, but with this device, it makes babyproofing your home a </span>\n",
       "<span style=\"color: #008000; text-decoration-color: #008000\">breeze. You simply have to peel the tape and apply it to the intended surface. It takes only a few seconds. Yes, </span>\n",
       "<span style=\"color: #008000; text-decoration-color: #008000\">baby proofing your home can be that quick and easy!\\nVERSATILE DESIGN FOR MULTI-PURPOSE USE -- The babyproof lock </span>\n",
       "<span style=\"color: #008000; text-decoration-color: #008000\">is designed to blend seamlessly into your home without taking up much space, and can be used on doors, cabinets, </span>\n",
       "<span style=\"color: #008000; text-decoration-color: #008000\">and windows, among others.\"</span>, <span style=\"color: #008000; text-decoration-color: #008000\">\"images\"</span>: <span style=\"color: #008000; text-decoration-color: #008000\">\"[{'hi_res': </span>\n",
       "<span style=\"color: #008000; text-decoration-color: #008000\">'https://m.media-amazon.com/images/I/51y5rvhtGBL._AC_SL1071_.jpg', 'large': </span>\n",
       "<span style=\"color: #008000; text-decoration-color: #008000\">'https://m.media-amazon.com/images/I/415ecjXuSBL._AC_.jpg', 'thumb': </span>\n",
       "<span style=\"color: #008000; text-decoration-color: #008000\">'https://m.media-amazon.com/images/I/415ecjXuSBL._AC_US75_.jpg', 'variant': 'MAIN'}\\n {'hi_res': None, 'large': </span>\n",
       "<span style=\"color: #008000; text-decoration-color: #008000\">'https://m.media-amazon.com/images/I/41bIz7EOJ-L._AC_.jpg', 'thumb': </span>\n",
       "<span style=\"color: #008000; text-decoration-color: #008000\">'https://m.media-amazon.com/images/I/41bIz7EOJ-L._AC_US75_.jpg', 'variant': 'PT01'}\\n {'hi_res': </span>\n",
       "<span style=\"color: #008000; text-decoration-color: #008000\">'https://m.media-amazon.com/images/I/71GNwyxEN6L._AC_SL1500_.jpg', 'large': </span>\n",
       "<span style=\"color: #008000; text-decoration-color: #008000\">'https://m.media-amazon.com/images/I/51WEXGnxKnL._AC_.jpg', 'thumb': </span>\n",
       "<span style=\"color: #008000; text-decoration-color: #008000\">'https://m.media-amazon.com/images/I/51WEXGnxKnL._AC_US75_.jpg', 'variant': 'PT02'}\\n {'hi_res': </span>\n",
       "<span style=\"color: #008000; text-decoration-color: #008000\">'https://m.media-amazon.com/images/I/61t-hbIOmHL._AC_SL1500_.jpg', 'large': </span>\n",
       "<span style=\"color: #008000; text-decoration-color: #008000\">'https://m.media-amazon.com/images/I/41QCp9CPfxL._AC_.jpg', 'thumb': </span>\n",
       "<span style=\"color: #008000; text-decoration-color: #008000\">'https://m.media-amazon.com/images/I/41QCp9CPfxL._AC_US75_.jpg', 'variant': 'PT03'}\\n {'hi_res': </span>\n",
       "<span style=\"color: #008000; text-decoration-color: #008000\">'https://m.media-amazon.com/images/I/61LSLsJfrML._AC_SL1000_.jpg', 'large': </span>\n",
       "<span style=\"color: #008000; text-decoration-color: #008000\">'https://m.media-amazon.com/images/I/51yPeDGpaLL._AC_.jpg', 'thumb': </span>\n",
       "<span style=\"color: #008000; text-decoration-color: #008000\">'https://m.media-amazon.com/images/I/51yPeDGpaLL._AC_US75_.jpg', 'variant': 'PT04'}\\n {'hi_res': </span>\n",
       "<span style=\"color: #008000; text-decoration-color: #008000\">'https://m.media-amazon.com/images/I/61wm2ccNthL._AC_SL1000_.jpg', 'large': </span>\n",
       "<span style=\"color: #008000; text-decoration-color: #008000\">'https://m.media-amazon.com/images/I/51hEMOKZGdL._AC_.jpg', 'thumb': </span>\n",
       "<span style=\"color: #008000; text-decoration-color: #008000\">'https://m.media-amazon.com/images/I/51hEMOKZGdL._AC_US75_.jpg', 'variant': 'PT05'}]\"</span>, <span style=\"color: #008000; text-decoration-color: #008000\">\"store\"</span>: <span style=\"color: #008000; text-decoration-color: #008000\">\"Millie\"</span>, <span style=\"color: #008000; text-decoration-color: #008000\">\"brand\"</span>: \n",
       "<span style=\"color: #008000; text-decoration-color: #008000\">\"nan\"</span>, <span style=\"color: #008000; text-decoration-color: #008000\">\"manufacturer\"</span>: <span style=\"color: #008000; text-decoration-color: #008000\">\"nan\"</span>, <span style=\"color: #008000; text-decoration-color: #008000\">\"main_category\"</span>: <span style=\"color: #008000; text-decoration-color: #008000\">\"Baby Products\"</span>, <span style=\"color: #008000; text-decoration-color: #008000\">\"categories\"</span>: <span style=\"font-weight: bold\">[]</span>, <span style=\"color: #008000; text-decoration-color: #008000\">\"similarity\"</span>: <span style=\"color: #008080; text-decoration-color: #008080; font-weight: bold\">1.0</span><span style=\"font-weight: bold\">}</span>, <span style=\"font-weight: bold\">{</span><span style=\"color: #008000; text-decoration-color: #008000\">\"title\"</span>: \n",
       "<span style=\"color: #008000; text-decoration-color: #008000\">\"Corner Protectors, L Shape Food Grade Silicone Material Extra Thick Baby Safety Corner Guards (12 Pack, Shell </span>\n",
       "<span style=\"color: #008000; text-decoration-color: #008000\">Shape Mint Green)\"</span>, <span style=\"color: #008000; text-decoration-color: #008000\">\"description\"</span>: <span style=\"color: #008000; text-decoration-color: #008000\">\"Real strong TRACELESS adhesive tape for corner guards\\n- Strong and durable </span>\n",
       "<span style=\"color: #008000; text-decoration-color: #008000\">custom made glue. Well tested on most surfaces like wood, glass, metal and plastic of the family- Traceless glue: </span>\n",
       "<span style=\"color: #008000; text-decoration-color: #008000\">Easy to remove without furniture damaging.\\nEasy to install:\\n1 Clean the surface of the furniture that you want to</span>\n",
       "<span style=\"color: #008000; text-decoration-color: #008000\">paste the furniture edge bumpers.2 Adhere double sided tape to the 3 section of your furniture corner.3.Place the </span>\n",
       "<span style=\"color: #008000; text-decoration-color: #008000\">Furniture Corner Protectors in the suitable position and press strongly.Wait at least 48 hours for full adhesion </span>\n",
       "<span style=\"color: #008000; text-decoration-color: #008000\">before testing.\"</span>, <span style=\"color: #008000; text-decoration-color: #008000\">\"average_rating\"</span>: <span style=\"color: #008080; text-decoration-color: #008080; font-weight: bold\">4.6</span>, <span style=\"color: #008000; text-decoration-color: #008000\">\"rating_number\"</span>: <span style=\"color: #008080; text-decoration-color: #008080; font-weight: bold\">16</span>, <span style=\"color: #008000; text-decoration-color: #008000\">\"price\"</span>: <span style=\"color: #008080; text-decoration-color: #008080; font-weight: bold\">9.99</span>, <span style=\"color: #008000; text-decoration-color: #008000\">\"features\"</span>: <span style=\"color: #008000; text-decoration-color: #008000\">\"Completely safe for your </span>\n",
       "<span style=\"color: #008000; text-decoration-color: #008000\">baby- Made of Food GRADE Silicone.This product is 100% non-toxic and tasteless. Even if your baby bites the </span>\n",
       "<span style=\"color: #008000; text-decoration-color: #008000\">product, there will be no health risks.\\nSuitable for various occasion: Suitable for sofa cabinet, coffee table, TV</span>\n",
       "<span style=\"color: #008000; text-decoration-color: #008000\">cabinet, ding table, bed beside, bookshelf and other home furniture. Not only protects the furniture corners to get</span>\n",
       "<span style=\"color: #008000; text-decoration-color: #008000\">damag but also prevents holes and marks in the walls!\\nSoft and High-elastic: Effectively absorb sudden bump and </span>\n",
       "<span style=\"color: #008000; text-decoration-color: #008000\">protect your baby from painful injuries of sharp furniture/ table corners.\\nSimple Installation: All the pieces you</span>\n",
       "<span style=\"color: #008000; text-decoration-color: #008000\">need including extra hold adhesives, pre-applied directly at factory. You only need to remove, covering and stick </span>\n",
       "<span style=\"color: #008000; text-decoration-color: #008000\">on. It\\u2019s that simple!\\nWorry-free Service: Any quality problem for our product, please do not hesitate to </span>\n",
       "<span style=\"color: #008000; text-decoration-color: #008000\">contact our customer service. We will offer Free replacement or full refund.\"</span>, <span style=\"color: #008000; text-decoration-color: #008000\">\"images\"</span>: <span style=\"color: #008000; text-decoration-color: #008000\">\"[{'hi_res': </span>\n",
       "<span style=\"color: #008000; text-decoration-color: #008000\">'https://m.media-amazon.com/images/I/61CTJObAc4L._AC_SL1500_.jpg', 'large': </span>\n",
       "<span style=\"color: #008000; text-decoration-color: #008000\">'https://m.media-amazon.com/images/I/41LaFBwb1AL._AC_.jpg', 'thumb': </span>\n",
       "<span style=\"color: #008000; text-decoration-color: #008000\">'https://m.media-amazon.com/images/I/41LaFBwb1AL._AC_US75_.jpg', 'variant': 'MAIN'}\\n {'hi_res': </span>\n",
       "<span style=\"color: #008000; text-decoration-color: #008000\">'https://m.media-amazon.com/images/I/61wAbtWDiFL._AC_SL1500_.jpg', 'large': </span>\n",
       "<span style=\"color: #008000; text-decoration-color: #008000\">'https://m.media-amazon.com/images/I/41KsBCZhM6L._AC_.jpg', 'thumb': </span>\n",
       "<span style=\"color: #008000; text-decoration-color: #008000\">'https://m.media-amazon.com/images/I/41KsBCZhM6L._AC_US75_.jpg', 'variant': 'PT01'}\\n {'hi_res': </span>\n",
       "<span style=\"color: #008000; text-decoration-color: #008000\">'https://m.media-amazon.com/images/I/619iNNNU7+L._AC_SL1500_.jpg', 'large': </span>\n",
       "<span style=\"color: #008000; text-decoration-color: #008000\">'https://m.media-amazon.com/images/I/41dCCwyP1yL._AC_.jpg', 'thumb': </span>\n",
       "<span style=\"color: #008000; text-decoration-color: #008000\">'https://m.media-amazon.com/images/I/41dCCwyP1yL._AC_US75_.jpg', 'variant': 'PT02'}\\n {'hi_res': </span>\n",
       "<span style=\"color: #008000; text-decoration-color: #008000\">'https://m.media-amazon.com/images/I/617Gs1uTH5L._AC_SL1500_.jpg', 'large': </span>\n",
       "<span style=\"color: #008000; text-decoration-color: #008000\">'https://m.media-amazon.com/images/I/41R8kiKe9pL._AC_.jpg', 'thumb': </span>\n",
       "<span style=\"color: #008000; text-decoration-color: #008000\">'https://m.media-amazon.com/images/I/41R8kiKe9pL._AC_US75_.jpg', 'variant': 'PT03'}\\n {'hi_res': </span>\n",
       "<span style=\"color: #008000; text-decoration-color: #008000\">'https://m.media-amazon.com/images/I/712FgGLBxOL._AC_SL1500_.jpg', 'large': </span>\n",
       "<span style=\"color: #008000; text-decoration-color: #008000\">'https://m.media-amazon.com/images/I/41Kd6Lh60wL._AC_.jpg', 'thumb': </span>\n",
       "<span style=\"color: #008000; text-decoration-color: #008000\">'https://m.media-amazon.com/images/I/41Kd6Lh60wL._AC_US75_.jpg', 'variant': 'PT04'}\\n {'hi_res': </span>\n",
       "<span style=\"color: #008000; text-decoration-color: #008000\">'https://m.media-amazon.com/images/I/71vVJSQoqBL._AC_SL1500_.jpg', 'large': </span>\n",
       "<span style=\"color: #008000; text-decoration-color: #008000\">'https://m.media-amazon.com/images/I/51rEAfrGWHL._AC_.jpg', 'thumb': </span>\n",
       "<span style=\"color: #008000; text-decoration-color: #008000\">'https://m.media-amazon.com/images/I/51rEAfrGWHL._AC_US75_.jpg', 'variant': 'PT05'}\\n {'hi_res': </span>\n",
       "<span style=\"color: #008000; text-decoration-color: #008000\">'https://m.media-amazon.com/images/I/61b6PW-0QuL._AC_SL1500_.jpg', 'large': </span>\n",
       "<span style=\"color: #008000; text-decoration-color: #008000\">'https://m.media-amazon.com/images/I/41MmILBTKpL._AC_.jpg', 'thumb': </span>\n",
       "<span style=\"color: #008000; text-decoration-color: #008000\">'https://m.media-amazon.com/images/I/41MmILBTKpL._AC_US75_.jpg', 'variant': 'PT06'}]\"</span>, <span style=\"color: #008000; text-decoration-color: #008000\">\"store\"</span>: <span style=\"color: #008000; text-decoration-color: #008000\">\"LONGFITE\"</span>, \n",
       "<span style=\"color: #008000; text-decoration-color: #008000\">\"brand\"</span>: <span style=\"color: #008000; text-decoration-color: #008000\">\"LONGFITE\"</span>, <span style=\"color: #008000; text-decoration-color: #008000\">\"manufacturer\"</span>: <span style=\"color: #008000; text-decoration-color: #008000\">\"LONGFITE\"</span>, <span style=\"color: #008000; text-decoration-color: #008000\">\"main_category\"</span>: <span style=\"color: #008000; text-decoration-color: #008000\">\"Baby Products\"</span>, <span style=\"color: #008000; text-decoration-color: #008000\">\"categories\"</span>: <span style=\"font-weight: bold\">[]</span>, <span style=\"color: #008000; text-decoration-color: #008000\">\"similarity\"</span>: \n",
       "<span style=\"color: #008080; text-decoration-color: #008080; font-weight: bold\">1.0</span><span style=\"font-weight: bold\">}</span>, <span style=\"font-weight: bold\">{</span><span style=\"color: #008000; text-decoration-color: #008000\">\"title\"</span>: <span style=\"color: #008000; text-decoration-color: #008000\">\"2 Pack Organic Bamboo Baby Hooded Bath Towels\"</span>, <span style=\"color: #008000; text-decoration-color: #008000\">\"description\"</span>: <span style=\"color: #008000; text-decoration-color: #008000\">\"Made with Organic Bamboo </span>\n",
       "<span style=\"color: #008000; text-decoration-color: #008000\">Environment Friendly Extremely Soft perfect for Babies and toddlers with Sensitive Skin. Perfect long-lasting towel</span>\n",
       "<span style=\"color: #008000; text-decoration-color: #008000\">that will grow with your baby until a toddler. Washer Machine Friendly Comes in a Pack of 2 Perfect baby shower </span>\n",
       "<span style=\"color: #008000; text-decoration-color: #008000\">gift 70x70 inch\"</span>, <span style=\"color: #008000; text-decoration-color: #008000\">\"average_rating\"</span>: <span style=\"color: #008080; text-decoration-color: #008080; font-weight: bold\">4.0</span>, <span style=\"color: #008000; text-decoration-color: #008000\">\"rating_number\"</span>: <span style=\"color: #008080; text-decoration-color: #008080; font-weight: bold\">1</span>, <span style=\"color: #008000; text-decoration-color: #008000\">\"price\"</span>: <span style=\"color: #008080; text-decoration-color: #008080; font-weight: bold\">25.957234468937877</span>, <span style=\"color: #008000; text-decoration-color: #008000\">\"features\"</span>: <span style=\"color: #008000; text-decoration-color: #008000\">\"\"</span>, <span style=\"color: #008000; text-decoration-color: #008000\">\"images\"</span>:\n",
       "<span style=\"color: #008000; text-decoration-color: #008000\">\"[{'hi_res': 'https://m.media-amazon.com/images/I/512M+l2bO1L._AC_SL1350_.jpg', 'large': </span>\n",
       "<span style=\"color: #008000; text-decoration-color: #008000\">'https://m.media-amazon.com/images/I/31PKbEuKwSL._AC_.jpg', 'thumb': </span>\n",
       "<span style=\"color: #008000; text-decoration-color: #008000\">'https://m.media-amazon.com/images/I/31PKbEuKwSL._AC_US75_.jpg', 'variant': 'MAIN'}\\n {'hi_res': </span>\n",
       "<span style=\"color: #008000; text-decoration-color: #008000\">'https://m.media-amazon.com/images/I/61vL0Y0fL8L._AC_SL1080_.jpg', 'large': </span>\n",
       "<span style=\"color: #008000; text-decoration-color: #008000\">'https://m.media-amazon.com/images/I/41VV6QWEo7L._AC_.jpg', 'thumb': </span>\n",
       "<span style=\"color: #008000; text-decoration-color: #008000\">'https://m.media-amazon.com/images/I/41VV6QWEo7L._AC_US75_.jpg', 'variant': 'PT01'}\\n {'hi_res': </span>\n",
       "<span style=\"color: #008000; text-decoration-color: #008000\">'https://m.media-amazon.com/images/I/61-wv6cL+aL._AC_SL1500_.jpg', 'large': </span>\n",
       "<span style=\"color: #008000; text-decoration-color: #008000\">'https://m.media-amazon.com/images/I/412NcAMp1jL._AC_.jpg', 'thumb': </span>\n",
       "<span style=\"color: #008000; text-decoration-color: #008000\">'https://m.media-amazon.com/images/I/412NcAMp1jL._AC_US75_.jpg', 'variant': 'PT02'}\\n {'hi_res': </span>\n",
       "<span style=\"color: #008000; text-decoration-color: #008000\">'https://m.media-amazon.com/images/I/51MT3-k7J-L._AC_SL1080_.jpg', 'large': </span>\n",
       "<span style=\"color: #008000; text-decoration-color: #008000\">'https://m.media-amazon.com/images/I/31LyIX2jbVL._AC_.jpg', 'thumb': </span>\n",
       "<span style=\"color: #008000; text-decoration-color: #008000\">'https://m.media-amazon.com/images/I/31LyIX2jbVL._AC_US75_.jpg', 'variant': 'PT03'}\\n {'hi_res': </span>\n",
       "<span style=\"color: #008000; text-decoration-color: #008000\">'https://m.media-amazon.com/images/I/71SATbFN5zL._AC_SL1080_.jpg', 'large': </span>\n",
       "<span style=\"color: #008000; text-decoration-color: #008000\">'https://m.media-amazon.com/images/I/51rYSjLAi9L._AC_.jpg', 'thumb': </span>\n",
       "<span style=\"color: #008000; text-decoration-color: #008000\">'https://m.media-amazon.com/images/I/51rYSjLAi9L._AC_US75_.jpg', 'variant': 'PT04'}]\"</span>, <span style=\"color: #008000; text-decoration-color: #008000\">\"store\"</span>: <span style=\"color: #008000; text-decoration-color: #008000\">\"Generic\"</span>, <span style=\"color: #008000; text-decoration-color: #008000\">\"brand\"</span>:\n",
       "<span style=\"color: #008000; text-decoration-color: #008000\">\"Generic\"</span>, <span style=\"color: #008000; text-decoration-color: #008000\">\"manufacturer\"</span>: <span style=\"color: #008000; text-decoration-color: #008000\">\"Bee Mine Baby\"</span>, <span style=\"color: #008000; text-decoration-color: #008000\">\"main_category\"</span>: <span style=\"color: #008000; text-decoration-color: #008000\">\"Baby Products\"</span>, <span style=\"color: #008000; text-decoration-color: #008000\">\"categories\"</span>: <span style=\"font-weight: bold\">[]</span>, <span style=\"color: #008000; text-decoration-color: #008000\">\"similarity\"</span>: <span style=\"color: #008080; text-decoration-color: #008080; font-weight: bold\">1.0</span><span style=\"font-weight: bold\">}</span>,\n",
       "<span style=\"font-weight: bold\">{</span><span style=\"color: #008000; text-decoration-color: #008000\">\"title\"</span>: <span style=\"color: #008000; text-decoration-color: #008000\">\"HonestBaby Baby Organic Cotton Washcloth Multi-Pack\"</span>, <span style=\"color: #008000; text-decoration-color: #008000\">\"description\"</span>: <span style=\"color: #008000; text-decoration-color: #008000\">\"Stylish and convenient, our </span>\n",
       "<span style=\"color: #008000; text-decoration-color: #008000\">washcloths are designed to make bath time easier for you and more comfortable for your babe. These 100% organic </span>\n",
       "<span style=\"color: #008000; text-decoration-color: #008000\">cotton washcloths are made with layers of extra soft muslin gauze with a clean jersey trim and a practical loop for</span>\n",
       "<span style=\"color: #008000; text-decoration-color: #008000\">hanging and drying. Perfectly sized for baby and so incredibly soft, our washcloths are super gentle on baby's </span>\n",
       "<span style=\"color: #008000; text-decoration-color: #008000\">sensitive skin.\"</span>, <span style=\"color: #008000; text-decoration-color: #008000\">\"average_rating\"</span>: <span style=\"color: #008080; text-decoration-color: #008080; font-weight: bold\">4.5</span>, <span style=\"color: #008000; text-decoration-color: #008000\">\"rating_number\"</span>: <span style=\"color: #008080; text-decoration-color: #008080; font-weight: bold\">48</span>, <span style=\"color: #008000; text-decoration-color: #008000\">\"price\"</span>: <span style=\"color: #008080; text-decoration-color: #008080; font-weight: bold\">14.17</span>, <span style=\"color: #008000; text-decoration-color: #008000\">\"features\"</span>: <span style=\"color: #008000; text-decoration-color: #008000\">\"100% </span>\n",
       "<span style=\"color: #008000; text-decoration-color: #008000\">Cotton\\nImported\\nNo Closure closure\\nMachine Wash\\nBATH TIME MADE EASY: This set Includes five wash cloths made of</span>\n",
       "<span style=\"color: #008000; text-decoration-color: #008000\">100% pure organic cotton. Soft and absorbent on your little one's skin\\nGENEROUSLY SIZED: Washcloths measure 11.5\\\"</span>\n",
       "<span style=\"color: #008000; text-decoration-color: #008000\">L x 11.5\\\" W\\nPRACTICAL AND STYLISH: A raw edge jersey trim adds an additional element of style while a practical </span>\n",
       "<span style=\"color: #008000; text-decoration-color: #008000\">fabric loop makes this cloth easy to hang for drying\\nGIFT-REGISTRY READY: Our washcloths coordinate back to our </span>\n",
       "<span style=\"color: #008000; text-decoration-color: #008000\">towels and blankets, making this a perfect shower gift for a new mom, new dad, or a growing family\\nVERSATILE: Put </span>\n",
       "<span style=\"color: #008000; text-decoration-color: #008000\">these in your diaper bag and use as a burp cloth, a wash cloth or a security cloth. These woven cloths get softer </span>\n",
       "<span style=\"color: #008000; text-decoration-color: #008000\">with every wash\"</span>, <span style=\"color: #008000; text-decoration-color: #008000\">\"images\"</span>: <span style=\"color: #008000; text-decoration-color: #008000\">\"[{'hi_res': 'https://m.media-amazon.com/images/I/913kqlrdZBL._AC_UL1500_.jpg', </span>\n",
       "<span style=\"color: #008000; text-decoration-color: #008000\">'large': 'https://m.media-amazon.com/images/I/51xVFl58IwL._AC_.jpg', 'thumb': </span>\n",
       "<span style=\"color: #008000; text-decoration-color: #008000\">'https://m.media-amazon.com/images/I/51xVFl58IwL._AC_SR38,50_.jpg', 'variant': 'MAIN'}\\n {'hi_res': </span>\n",
       "<span style=\"color: #008000; text-decoration-color: #008000\">'https://m.media-amazon.com/images/I/914nWoxEQyL._AC_UL1500_.jpg', 'large': </span>\n",
       "<span style=\"color: #008000; text-decoration-color: #008000\">'https://m.media-amazon.com/images/I/51xg7WNv9dL._AC_.jpg', 'thumb': </span>\n",
       "<span style=\"color: #008000; text-decoration-color: #008000\">'https://m.media-amazon.com/images/I/51xg7WNv9dL._AC_SR38,50_.jpg', 'variant': 'PT01'}\\n {'hi_res': </span>\n",
       "<span style=\"color: #008000; text-decoration-color: #008000\">'https://m.media-amazon.com/images/I/81BSpL1pipL._AC_UL1500_.jpg', 'large': </span>\n",
       "<span style=\"color: #008000; text-decoration-color: #008000\">'https://m.media-amazon.com/images/I/41J9jzXDxKL._AC_.jpg', 'thumb': </span>\n",
       "<span style=\"color: #008000; text-decoration-color: #008000\">'https://m.media-amazon.com/images/I/41J9jzXDxKL._AC_SR38,50_.jpg', 'variant': 'PT02'}\\n {'hi_res': </span>\n",
       "<span style=\"color: #008000; text-decoration-color: #008000\">'https://m.media-amazon.com/images/I/71L55FH1l5L._AC_UL1500_.jpg', 'large': </span>\n",
       "<span style=\"color: #008000; text-decoration-color: #008000\">'https://m.media-amazon.com/images/I/41XyeE9A5RL._AC_.jpg', 'thumb': </span>\n",
       "<span style=\"color: #008000; text-decoration-color: #008000\">'https://m.media-amazon.com/images/I/41XyeE9A5RL._AC_SR38,50_.jpg', 'variant': 'PT03'}\\n {'hi_res': </span>\n",
       "<span style=\"color: #008000; text-decoration-color: #008000\">'https://m.media-amazon.com/images/I/81cgoUrTIOL._AC_UL1500_.jpg', 'large': </span>\n",
       "<span style=\"color: #008000; text-decoration-color: #008000\">'https://m.media-amazon.com/images/I/51IdDAoVBXL._AC_.jpg', 'thumb': </span>\n",
       "<span style=\"color: #008000; text-decoration-color: #008000\">'https://m.media-amazon.com/images/I/51IdDAoVBXL._AC_SR38,50_.jpg', 'variant': 'PT04'}]\"</span>, <span style=\"color: #008000; text-decoration-color: #008000\">\"store\"</span>: <span style=\"color: #008000; text-decoration-color: #008000\">\"HonestBaby\"</span>, \n",
       "<span style=\"color: #008000; text-decoration-color: #008000\">\"brand\"</span>: <span style=\"color: #008000; text-decoration-color: #008000\">\"HonestBaby\"</span>, <span style=\"color: #008000; text-decoration-color: #008000\">\"manufacturer\"</span>: <span style=\"color: #008000; text-decoration-color: #008000\">\"HonestBaby\"</span>, <span style=\"color: #008000; text-decoration-color: #008000\">\"main_category\"</span>: <span style=\"color: #008000; text-decoration-color: #008000\">\"Baby Products\"</span>, <span style=\"color: #008000; text-decoration-color: #008000\">\"categories\"</span>: <span style=\"font-weight: bold\">[]</span>, \n",
       "<span style=\"color: #008000; text-decoration-color: #008000\">\"similarity\"</span>: <span style=\"color: #008080; text-decoration-color: #008080; font-weight: bold\">1.0</span><span style=\"font-weight: bold\">}</span>, <span style=\"font-weight: bold\">{</span><span style=\"color: #008000; text-decoration-color: #008000\">\"title\"</span>: <span style=\"color: #008000; text-decoration-color: #008000\">\"Bestjybt\\u00ae 9PCS Sweet Babys Girls Chiffon Flower Elastic Bow Headband Head Wrap </span>\n",
       "<span style=\"color: #008000; text-decoration-color: #008000\">Turban Knot Hairband\"</span>, <span style=\"color: #008000; text-decoration-color: #008000\">\"description\"</span>: <span style=\"color: #008000; text-decoration-color: #008000\">\"Features:\\nAn ideal gift for your baby. The value is not expensive but </span>\n",
       "<span style=\"color: #008000; text-decoration-color: #008000\">fashion.  The baby girl headbands are extremely adorable and trendy. The infant headbands have a classic design, </span>\n",
       "<span style=\"color: #008000; text-decoration-color: #008000\">and great for all occasions.  The baby headband are stretchy, soft and very comfortable.  The newborn headbands for</span>\n",
       "<span style=\"color: #008000; text-decoration-color: #008000\">girls are great for dressing up to make a cute outfit or just a cute little trendy accessory!\\nService:\\nIf you </span>\n",
       "<span style=\"color: #008000; text-decoration-color: #008000\">have any problems with our items or services, please feel free to contact us. We strive to put our hundred percent </span>\n",
       "<span style=\"color: #008000; text-decoration-color: #008000\">to resolve your issues and delight you.\\nBestJy: Your Reliable And Best Choice\"</span>, <span style=\"color: #008000; text-decoration-color: #008000\">\"average_rating\"</span>: <span style=\"color: #008080; text-decoration-color: #008080; font-weight: bold\">3.6</span>, \n",
       "<span style=\"color: #008000; text-decoration-color: #008000\">\"rating_number\"</span>: <span style=\"color: #008080; text-decoration-color: #008080; font-weight: bold\">45</span>, <span style=\"color: #008000; text-decoration-color: #008000\">\"price\"</span>: <span style=\"color: #008080; text-decoration-color: #008080; font-weight: bold\">25.957234468937877</span>, <span style=\"color: #008000; text-decoration-color: #008000\">\"features\"</span>: <span style=\"color: #008000; text-decoration-color: #008000\">\"Chiffon\\nMaterial: Cloth ,Chiffon,Fabric Tape\\nSize:</span>\n",
       "<span style=\"color: #008000; text-decoration-color: #008000\">Band 0.7 inch width ,14 inch girth , good elasticity.Shabby flower about 2.4 inch. (Fit 3 months to 10 Year Old </span>\n",
       "<span style=\"color: #008000; text-decoration-color: #008000\">Children)\\nSuper cute and lovely baby girl headbands, fashion design, good elasticity, soft material and beautiful </span>\n",
       "<span style=\"color: #008000; text-decoration-color: #008000\">colors.\\nPerfect for baby shower, birthday party and family photo.\\nPackage include: 9 pieces different colors </span>\n",
       "<span style=\"color: #008000; text-decoration-color: #008000\">headbands. 100% MONEY BACK GUARANTEE.\"</span>, <span style=\"color: #008000; text-decoration-color: #008000\">\"images\"</span>: <span style=\"color: #008000; text-decoration-color: #008000\">\"[{'hi_res': </span>\n",
       "<span style=\"color: #008000; text-decoration-color: #008000\">'https://m.media-amazon.com/images/I/51O1hSgkmqL._AC_UL1001_.jpg', 'large': </span>\n",
       "<span style=\"color: #008000; text-decoration-color: #008000\">'https://m.media-amazon.com/images/I/41mnZUIaODL._AC_.jpg', 'thumb': </span>\n",
       "<span style=\"color: #008000; text-decoration-color: #008000\">'https://m.media-amazon.com/images/I/41mnZUIaODL._AC_SR38,50_.jpg', 'variant': 'MAIN'}\\n {'hi_res': </span>\n",
       "<span style=\"color: #008000; text-decoration-color: #008000\">'https://m.media-amazon.com/images/I/61uUv84hG9L._AC_UL1437_.jpg', 'large': </span>\n",
       "<span style=\"color: #008000; text-decoration-color: #008000\">'https://m.media-amazon.com/images/I/41SnOQPcJkL._AC_.jpg', 'thumb': </span>\n",
       "<span style=\"color: #008000; text-decoration-color: #008000\">'https://m.media-amazon.com/images/I/41SnOQPcJkL._AC_SR38,50_.jpg', 'variant': 'PT01'}\\n {'hi_res': </span>\n",
       "<span style=\"color: #008000; text-decoration-color: #008000\">'https://m.media-amazon.com/images/I/51k7mzX4UzL._AC_UL1001_.jpg', 'large': </span>\n",
       "<span style=\"color: #008000; text-decoration-color: #008000\">'https://m.media-amazon.com/images/I/41GzkKtnOWL._AC_.jpg', 'thumb': </span>\n",
       "<span style=\"color: #008000; text-decoration-color: #008000\">'https://m.media-amazon.com/images/I/41GzkKtnOWL._AC_SR38,50_.jpg', 'variant': 'PT02'}\\n {'hi_res': </span>\n",
       "<span style=\"color: #008000; text-decoration-color: #008000\">'https://m.media-amazon.com/images/I/51-Lh6-k3UL._AC_UL1001_.jpg', 'large': </span>\n",
       "<span style=\"color: #008000; text-decoration-color: #008000\">'https://m.media-amazon.com/images/I/41+HEzTJfuL._AC_.jpg', 'thumb': </span>\n",
       "<span style=\"color: #008000; text-decoration-color: #008000\">'https://m.media-amazon.com/images/I/41+HEzTJfuL._AC_SR38,50_.jpg', 'variant': 'PT03'}\\n {'hi_res': </span>\n",
       "<span style=\"color: #008000; text-decoration-color: #008000\">'https://m.media-amazon.com/images/I/41HcZ4yLMgL._AC_UL1001_.jpg', 'large': </span>\n",
       "<span style=\"color: #008000; text-decoration-color: #008000\">'https://m.media-amazon.com/images/I/31giandjvfL._AC_.jpg', 'thumb': </span>\n",
       "<span style=\"color: #008000; text-decoration-color: #008000\">'https://m.media-amazon.com/images/I/31giandjvfL._AC_SR38,50_.jpg', 'variant': 'PT04'}\\n {'hi_res': </span>\n",
       "<span style=\"color: #008000; text-decoration-color: #008000\">'https://m.media-amazon.com/images/I/51O4AV7u80L._AC_UL1001_.jpg', 'large': </span>\n",
       "<span style=\"color: #008000; text-decoration-color: #008000\">'https://m.media-amazon.com/images/I/41VQqHCyGPL._AC_.jpg', 'thumb': </span>\n",
       "<span style=\"color: #008000; text-decoration-color: #008000\">'https://m.media-amazon.com/images/I/41VQqHCyGPL._AC_SR38,50_.jpg', 'variant': 'PT05'}\\n {'hi_res': </span>\n",
       "<span style=\"color: #008000; text-decoration-color: #008000\">'https://m.media-amazon.com/images/I/51LTkkJ24vL._AC_UL1001_.jpg', 'large': </span>\n",
       "<span style=\"color: #008000; text-decoration-color: #008000\">'https://m.media-amazon.com/images/I/31SN04ZlCyL._AC_.jpg', 'thumb': </span>\n",
       "<span style=\"color: #008000; text-decoration-color: #008000\">'https://m.media-amazon.com/images/I/31SN04ZlCyL._AC_SR38,50_.jpg', 'variant': 'PT06'}\\n {'hi_res': </span>\n",
       "<span style=\"color: #008000; text-decoration-color: #008000\">'https://m.media-amazon.com/images/I/51KSlvpF7hL._AC_UL1001_.jpg', 'large': </span>\n",
       "<span style=\"color: #008000; text-decoration-color: #008000\">'https://m.media-amazon.com/images/I/31qTGUWn02L._AC_.jpg', 'thumb': </span>\n",
       "<span style=\"color: #008000; text-decoration-color: #008000\">'https://m.media-amazon.com/images/I/31qTGUWn02L._AC_SR38,50_.jpg', 'variant': 'PT07'}\\n {'hi_res': </span>\n",
       "<span style=\"color: #008000; text-decoration-color: #008000\">'https://m.media-amazon.com/images/I/51A+8OwLptL._AC_UL1001_.jpg', 'large': </span>\n",
       "<span style=\"color: #008000; text-decoration-color: #008000\">'https://m.media-amazon.com/images/I/31v-cVlNI3L._AC_.jpg', 'thumb': </span>\n",
       "<span style=\"color: #008000; text-decoration-color: #008000\">'https://m.media-amazon.com/images/I/31v-cVlNI3L._AC_SR38,50_.jpg', 'variant': 'PT08'}]\"</span>, <span style=\"color: #008000; text-decoration-color: #008000\">\"store\"</span>: <span style=\"color: #008000; text-decoration-color: #008000\">\"Bestjybt\"</span>, \n",
       "<span style=\"color: #008000; text-decoration-color: #008000\">\"brand\"</span>: <span style=\"color: #008000; text-decoration-color: #008000\">\"Bestjybt\"</span>, <span style=\"color: #008000; text-decoration-color: #008000\">\"manufacturer\"</span>: <span style=\"color: #008000; text-decoration-color: #008000\">\"nan\"</span>, <span style=\"color: #008000; text-decoration-color: #008000\">\"main_category\"</span>: <span style=\"color: #008000; text-decoration-color: #008000\">\"Baby Products\"</span>, <span style=\"color: #008000; text-decoration-color: #008000\">\"categories\"</span>: <span style=\"font-weight: bold\">[]</span>, <span style=\"color: #008000; text-decoration-color: #008000\">\"similarity\"</span>: <span style=\"color: #008080; text-decoration-color: #008080; font-weight: bold\">1.0</span><span style=\"font-weight: bold\">}]</span>\n",
       "</pre>\n"
      ],
      "text/plain": [
       "Observations: \u001b[1m[\u001b[0m\u001b[1m{\u001b[0m\u001b[32m\"title\"\u001b[0m: \u001b[32m\"Millie \u001b[0m\u001b[32m(\u001b[0m\u001b[32m4 PACK\u001b[0m\u001b[32m)\u001b[0m\u001b[32m Sliding Glass Door Child Lock - Baby Safety Slide Window Locks Kids Proof\u001b[0m\n",
       "\u001b[32mPatio Closet Doors No Drilling Tools Needed \u001b[0m\u001b[32m(\u001b[0m\u001b[32mwhite\u001b[0m\u001b[32m)\u001b[0m\u001b[32m\"\u001b[0m, \u001b[32m\"description\"\u001b[0m: \u001b[32m\"YOUR BABY\\u2019S SAFETY IS OUR PRIORITY \u001b[0m\n",
       "\u001b[32mbabyproof locking device allows you to prevent your children from gaining access to off-limits areas that could put\u001b[0m\n",
       "\u001b[32mthem in danger, or cause them harm, such as swimming pools, patios, balconies, medicine cabinets, and cleaning \u001b[0m\n",
       "\u001b[32msupplies storage areas. HASSLE FREE INSTALLATION -- Childproofing often sounds like you have to bring specialists \u001b[0m\n",
       "\u001b[32min to do the job for you, but with this device, it makes babyproofing your home a breeze. You simply have to peel \u001b[0m\n",
       "\u001b[32mthe tape and apply it to the intended surface. It takes only a few seconds.\"\u001b[0m, \u001b[32m\"average_rating\"\u001b[0m: \u001b[1;36m4.5\u001b[0m, \n",
       "\u001b[32m\"rating_number\"\u001b[0m: \u001b[1;36m17\u001b[0m, \u001b[32m\"price\"\u001b[0m: \u001b[1;36m9.99\u001b[0m, \u001b[32m\"features\"\u001b[0m: \u001b[32m\"YOUR BABY\\u2019S SAFETY IS OUR PRIORITY babyproof locking device \u001b[0m\n",
       "\u001b[32mallows you to prevent your children from gaining access to off-limits areas that could put them in danger, or cause\u001b[0m\n",
       "\u001b[32mthem harm, such as swimming pools, patios, balconies, medicine cabinets, and cleaning supplies storage \u001b[0m\n",
       "\u001b[32mareas.\\nDURABLE & CONVENIENT DESIGN -- The keyless design means you simply have to flip to unlock and press down to\u001b[0m\n",
       "\u001b[32mrelock. The tape used to attach the device is designed to be compatible with several different surfaces so it stays\u001b[0m\n",
       "\u001b[32min place even as your baby tugs and pulls at it. It\\u2019s meant to be difficult for babies and toddlers, but that \u001b[0m\n",
       "\u001b[32mdoesn\\u2019t mean you have to struggle with it too.\\nHASSLE FREE INSTALLATION -- Childproofing often sounds like \u001b[0m\n",
       "\u001b[32myou have to bring specialists in to do the job for you, but with this device, it makes babyproofing your home a \u001b[0m\n",
       "\u001b[32mbreeze. You simply have to peel the tape and apply it to the intended surface. It takes only a few seconds. Yes, \u001b[0m\n",
       "\u001b[32mbaby proofing your home can be that quick and easy!\\nVERSATILE DESIGN FOR MULTI-PURPOSE USE -- The babyproof lock \u001b[0m\n",
       "\u001b[32mis designed to blend seamlessly into your home without taking up much space, and can be used on doors, cabinets, \u001b[0m\n",
       "\u001b[32mand windows, among others.\"\u001b[0m, \u001b[32m\"images\"\u001b[0m: \u001b[32m\"\u001b[0m\u001b[32m[\u001b[0m\u001b[32m{\u001b[0m\u001b[32m'hi_res': \u001b[0m\n",
       "\u001b[32m'https://m.media-amazon.com/images/I/51y5rvhtGBL._AC_SL1071_.jpg', 'large': \u001b[0m\n",
       "\u001b[32m'https://m.media-amazon.com/images/I/415ecjXuSBL._AC_.jpg', 'thumb': \u001b[0m\n",
       "\u001b[32m'https://m.media-amazon.com/images/I/415ecjXuSBL._AC_US75_.jpg', 'variant': 'MAIN'\u001b[0m\u001b[32m}\u001b[0m\u001b[32m\\n \u001b[0m\u001b[32m{\u001b[0m\u001b[32m'hi_res': None, 'large': \u001b[0m\n",
       "\u001b[32m'https://m.media-amazon.com/images/I/41bIz7EOJ-L._AC_.jpg', 'thumb': \u001b[0m\n",
       "\u001b[32m'https://m.media-amazon.com/images/I/41bIz7EOJ-L._AC_US75_.jpg', 'variant': 'PT01'\u001b[0m\u001b[32m}\u001b[0m\u001b[32m\\n \u001b[0m\u001b[32m{\u001b[0m\u001b[32m'hi_res': \u001b[0m\n",
       "\u001b[32m'https://m.media-amazon.com/images/I/71GNwyxEN6L._AC_SL1500_.jpg', 'large': \u001b[0m\n",
       "\u001b[32m'https://m.media-amazon.com/images/I/51WEXGnxKnL._AC_.jpg', 'thumb': \u001b[0m\n",
       "\u001b[32m'https://m.media-amazon.com/images/I/51WEXGnxKnL._AC_US75_.jpg', 'variant': 'PT02'\u001b[0m\u001b[32m}\u001b[0m\u001b[32m\\n \u001b[0m\u001b[32m{\u001b[0m\u001b[32m'hi_res': \u001b[0m\n",
       "\u001b[32m'https://m.media-amazon.com/images/I/61t-hbIOmHL._AC_SL1500_.jpg', 'large': \u001b[0m\n",
       "\u001b[32m'https://m.media-amazon.com/images/I/41QCp9CPfxL._AC_.jpg', 'thumb': \u001b[0m\n",
       "\u001b[32m'https://m.media-amazon.com/images/I/41QCp9CPfxL._AC_US75_.jpg', 'variant': 'PT03'\u001b[0m\u001b[32m}\u001b[0m\u001b[32m\\n \u001b[0m\u001b[32m{\u001b[0m\u001b[32m'hi_res': \u001b[0m\n",
       "\u001b[32m'https://m.media-amazon.com/images/I/61LSLsJfrML._AC_SL1000_.jpg', 'large': \u001b[0m\n",
       "\u001b[32m'https://m.media-amazon.com/images/I/51yPeDGpaLL._AC_.jpg', 'thumb': \u001b[0m\n",
       "\u001b[32m'https://m.media-amazon.com/images/I/51yPeDGpaLL._AC_US75_.jpg', 'variant': 'PT04'\u001b[0m\u001b[32m}\u001b[0m\u001b[32m\\n \u001b[0m\u001b[32m{\u001b[0m\u001b[32m'hi_res': \u001b[0m\n",
       "\u001b[32m'https://m.media-amazon.com/images/I/61wm2ccNthL._AC_SL1000_.jpg', 'large': \u001b[0m\n",
       "\u001b[32m'https://m.media-amazon.com/images/I/51hEMOKZGdL._AC_.jpg', 'thumb': \u001b[0m\n",
       "\u001b[32m'https://m.media-amazon.com/images/I/51hEMOKZGdL._AC_US75_.jpg', 'variant': 'PT05'\u001b[0m\u001b[32m}\u001b[0m\u001b[32m]\u001b[0m\u001b[32m\"\u001b[0m, \u001b[32m\"store\"\u001b[0m: \u001b[32m\"Millie\"\u001b[0m, \u001b[32m\"brand\"\u001b[0m: \n",
       "\u001b[32m\"nan\"\u001b[0m, \u001b[32m\"manufacturer\"\u001b[0m: \u001b[32m\"nan\"\u001b[0m, \u001b[32m\"main_category\"\u001b[0m: \u001b[32m\"Baby Products\"\u001b[0m, \u001b[32m\"categories\"\u001b[0m: \u001b[1m[\u001b[0m\u001b[1m]\u001b[0m, \u001b[32m\"similarity\"\u001b[0m: \u001b[1;36m1.0\u001b[0m\u001b[1m}\u001b[0m, \u001b[1m{\u001b[0m\u001b[32m\"title\"\u001b[0m: \n",
       "\u001b[32m\"Corner Protectors, L Shape Food Grade Silicone Material Extra Thick Baby Safety Corner Guards \u001b[0m\u001b[32m(\u001b[0m\u001b[32m12 Pack, Shell \u001b[0m\n",
       "\u001b[32mShape Mint Green\u001b[0m\u001b[32m)\u001b[0m\u001b[32m\"\u001b[0m, \u001b[32m\"description\"\u001b[0m: \u001b[32m\"Real strong TRACELESS adhesive tape for corner guards\\n- Strong and durable \u001b[0m\n",
       "\u001b[32mcustom made glue. Well tested on most surfaces like wood, glass, metal and plastic of the family- Traceless glue: \u001b[0m\n",
       "\u001b[32mEasy to remove without furniture damaging.\\nEasy to install:\\n1 Clean the surface of the furniture that you want to\u001b[0m\n",
       "\u001b[32mpaste the furniture edge bumpers.2 Adhere double sided tape to the 3 section of your furniture corner.3.Place the \u001b[0m\n",
       "\u001b[32mFurniture Corner Protectors in the suitable position and press strongly.Wait at least 48 hours for full adhesion \u001b[0m\n",
       "\u001b[32mbefore testing.\"\u001b[0m, \u001b[32m\"average_rating\"\u001b[0m: \u001b[1;36m4.6\u001b[0m, \u001b[32m\"rating_number\"\u001b[0m: \u001b[1;36m16\u001b[0m, \u001b[32m\"price\"\u001b[0m: \u001b[1;36m9.99\u001b[0m, \u001b[32m\"features\"\u001b[0m: \u001b[32m\"Completely safe for your \u001b[0m\n",
       "\u001b[32mbaby- Made of Food GRADE Silicone.This product is 100% non-toxic and tasteless. Even if your baby bites the \u001b[0m\n",
       "\u001b[32mproduct, there will be no health risks.\\nSuitable for various occasion: Suitable for sofa cabinet, coffee table, TV\u001b[0m\n",
       "\u001b[32mcabinet, ding table, bed beside, bookshelf and other home furniture. Not only protects the furniture corners to get\u001b[0m\n",
       "\u001b[32mdamag but also prevents holes and marks in the walls!\\nSoft and High-elastic: Effectively absorb sudden bump and \u001b[0m\n",
       "\u001b[32mprotect your baby from painful injuries of sharp furniture/ table corners.\\nSimple Installation: All the pieces you\u001b[0m\n",
       "\u001b[32mneed including extra hold adhesives, pre-applied directly at factory. You only need to remove, covering and stick \u001b[0m\n",
       "\u001b[32mon. It\\u2019s that simple!\\nWorry-free Service: Any quality problem for our product, please do not hesitate to \u001b[0m\n",
       "\u001b[32mcontact our customer service. We will offer Free replacement or full refund.\"\u001b[0m, \u001b[32m\"images\"\u001b[0m: \u001b[32m\"\u001b[0m\u001b[32m[\u001b[0m\u001b[32m{\u001b[0m\u001b[32m'hi_res': \u001b[0m\n",
       "\u001b[32m'https://m.media-amazon.com/images/I/61CTJObAc4L._AC_SL1500_.jpg', 'large': \u001b[0m\n",
       "\u001b[32m'https://m.media-amazon.com/images/I/41LaFBwb1AL._AC_.jpg', 'thumb': \u001b[0m\n",
       "\u001b[32m'https://m.media-amazon.com/images/I/41LaFBwb1AL._AC_US75_.jpg', 'variant': 'MAIN'\u001b[0m\u001b[32m}\u001b[0m\u001b[32m\\n \u001b[0m\u001b[32m{\u001b[0m\u001b[32m'hi_res': \u001b[0m\n",
       "\u001b[32m'https://m.media-amazon.com/images/I/61wAbtWDiFL._AC_SL1500_.jpg', 'large': \u001b[0m\n",
       "\u001b[32m'https://m.media-amazon.com/images/I/41KsBCZhM6L._AC_.jpg', 'thumb': \u001b[0m\n",
       "\u001b[32m'https://m.media-amazon.com/images/I/41KsBCZhM6L._AC_US75_.jpg', 'variant': 'PT01'\u001b[0m\u001b[32m}\u001b[0m\u001b[32m\\n \u001b[0m\u001b[32m{\u001b[0m\u001b[32m'hi_res': \u001b[0m\n",
       "\u001b[32m'https://m.media-amazon.com/images/I/619iNNNU7+L._AC_SL1500_.jpg', 'large': \u001b[0m\n",
       "\u001b[32m'https://m.media-amazon.com/images/I/41dCCwyP1yL._AC_.jpg', 'thumb': \u001b[0m\n",
       "\u001b[32m'https://m.media-amazon.com/images/I/41dCCwyP1yL._AC_US75_.jpg', 'variant': 'PT02'\u001b[0m\u001b[32m}\u001b[0m\u001b[32m\\n \u001b[0m\u001b[32m{\u001b[0m\u001b[32m'hi_res': \u001b[0m\n",
       "\u001b[32m'https://m.media-amazon.com/images/I/617Gs1uTH5L._AC_SL1500_.jpg', 'large': \u001b[0m\n",
       "\u001b[32m'https://m.media-amazon.com/images/I/41R8kiKe9pL._AC_.jpg', 'thumb': \u001b[0m\n",
       "\u001b[32m'https://m.media-amazon.com/images/I/41R8kiKe9pL._AC_US75_.jpg', 'variant': 'PT03'\u001b[0m\u001b[32m}\u001b[0m\u001b[32m\\n \u001b[0m\u001b[32m{\u001b[0m\u001b[32m'hi_res': \u001b[0m\n",
       "\u001b[32m'https://m.media-amazon.com/images/I/712FgGLBxOL._AC_SL1500_.jpg', 'large': \u001b[0m\n",
       "\u001b[32m'https://m.media-amazon.com/images/I/41Kd6Lh60wL._AC_.jpg', 'thumb': \u001b[0m\n",
       "\u001b[32m'https://m.media-amazon.com/images/I/41Kd6Lh60wL._AC_US75_.jpg', 'variant': 'PT04'\u001b[0m\u001b[32m}\u001b[0m\u001b[32m\\n \u001b[0m\u001b[32m{\u001b[0m\u001b[32m'hi_res': \u001b[0m\n",
       "\u001b[32m'https://m.media-amazon.com/images/I/71vVJSQoqBL._AC_SL1500_.jpg', 'large': \u001b[0m\n",
       "\u001b[32m'https://m.media-amazon.com/images/I/51rEAfrGWHL._AC_.jpg', 'thumb': \u001b[0m\n",
       "\u001b[32m'https://m.media-amazon.com/images/I/51rEAfrGWHL._AC_US75_.jpg', 'variant': 'PT05'\u001b[0m\u001b[32m}\u001b[0m\u001b[32m\\n \u001b[0m\u001b[32m{\u001b[0m\u001b[32m'hi_res': \u001b[0m\n",
       "\u001b[32m'https://m.media-amazon.com/images/I/61b6PW-0QuL._AC_SL1500_.jpg', 'large': \u001b[0m\n",
       "\u001b[32m'https://m.media-amazon.com/images/I/41MmILBTKpL._AC_.jpg', 'thumb': \u001b[0m\n",
       "\u001b[32m'https://m.media-amazon.com/images/I/41MmILBTKpL._AC_US75_.jpg', 'variant': 'PT06'\u001b[0m\u001b[32m}\u001b[0m\u001b[32m]\u001b[0m\u001b[32m\"\u001b[0m, \u001b[32m\"store\"\u001b[0m: \u001b[32m\"LONGFITE\"\u001b[0m, \n",
       "\u001b[32m\"brand\"\u001b[0m: \u001b[32m\"LONGFITE\"\u001b[0m, \u001b[32m\"manufacturer\"\u001b[0m: \u001b[32m\"LONGFITE\"\u001b[0m, \u001b[32m\"main_category\"\u001b[0m: \u001b[32m\"Baby Products\"\u001b[0m, \u001b[32m\"categories\"\u001b[0m: \u001b[1m[\u001b[0m\u001b[1m]\u001b[0m, \u001b[32m\"similarity\"\u001b[0m: \n",
       "\u001b[1;36m1.0\u001b[0m\u001b[1m}\u001b[0m, \u001b[1m{\u001b[0m\u001b[32m\"title\"\u001b[0m: \u001b[32m\"2 Pack Organic Bamboo Baby Hooded Bath Towels\"\u001b[0m, \u001b[32m\"description\"\u001b[0m: \u001b[32m\"Made with Organic Bamboo \u001b[0m\n",
       "\u001b[32mEnvironment Friendly Extremely Soft perfect for Babies and toddlers with Sensitive Skin. Perfect long-lasting towel\u001b[0m\n",
       "\u001b[32mthat will grow with your baby until a toddler. Washer Machine Friendly Comes in a Pack of 2 Perfect baby shower \u001b[0m\n",
       "\u001b[32mgift 70x70 inch\"\u001b[0m, \u001b[32m\"average_rating\"\u001b[0m: \u001b[1;36m4.0\u001b[0m, \u001b[32m\"rating_number\"\u001b[0m: \u001b[1;36m1\u001b[0m, \u001b[32m\"price\"\u001b[0m: \u001b[1;36m25.957234468937877\u001b[0m, \u001b[32m\"features\"\u001b[0m: \u001b[32m\"\"\u001b[0m, \u001b[32m\"images\"\u001b[0m:\n",
       "\u001b[32m\"\u001b[0m\u001b[32m[\u001b[0m\u001b[32m{\u001b[0m\u001b[32m'hi_res': 'https://m.media-amazon.com/images/I/512M+l2bO1L._AC_SL1350_.jpg', 'large': \u001b[0m\n",
       "\u001b[32m'https://m.media-amazon.com/images/I/31PKbEuKwSL._AC_.jpg', 'thumb': \u001b[0m\n",
       "\u001b[32m'https://m.media-amazon.com/images/I/31PKbEuKwSL._AC_US75_.jpg', 'variant': 'MAIN'\u001b[0m\u001b[32m}\u001b[0m\u001b[32m\\n \u001b[0m\u001b[32m{\u001b[0m\u001b[32m'hi_res': \u001b[0m\n",
       "\u001b[32m'https://m.media-amazon.com/images/I/61vL0Y0fL8L._AC_SL1080_.jpg', 'large': \u001b[0m\n",
       "\u001b[32m'https://m.media-amazon.com/images/I/41VV6QWEo7L._AC_.jpg', 'thumb': \u001b[0m\n",
       "\u001b[32m'https://m.media-amazon.com/images/I/41VV6QWEo7L._AC_US75_.jpg', 'variant': 'PT01'\u001b[0m\u001b[32m}\u001b[0m\u001b[32m\\n \u001b[0m\u001b[32m{\u001b[0m\u001b[32m'hi_res': \u001b[0m\n",
       "\u001b[32m'https://m.media-amazon.com/images/I/61-wv6cL+aL._AC_SL1500_.jpg', 'large': \u001b[0m\n",
       "\u001b[32m'https://m.media-amazon.com/images/I/412NcAMp1jL._AC_.jpg', 'thumb': \u001b[0m\n",
       "\u001b[32m'https://m.media-amazon.com/images/I/412NcAMp1jL._AC_US75_.jpg', 'variant': 'PT02'\u001b[0m\u001b[32m}\u001b[0m\u001b[32m\\n \u001b[0m\u001b[32m{\u001b[0m\u001b[32m'hi_res': \u001b[0m\n",
       "\u001b[32m'https://m.media-amazon.com/images/I/51MT3-k7J-L._AC_SL1080_.jpg', 'large': \u001b[0m\n",
       "\u001b[32m'https://m.media-amazon.com/images/I/31LyIX2jbVL._AC_.jpg', 'thumb': \u001b[0m\n",
       "\u001b[32m'https://m.media-amazon.com/images/I/31LyIX2jbVL._AC_US75_.jpg', 'variant': 'PT03'\u001b[0m\u001b[32m}\u001b[0m\u001b[32m\\n \u001b[0m\u001b[32m{\u001b[0m\u001b[32m'hi_res': \u001b[0m\n",
       "\u001b[32m'https://m.media-amazon.com/images/I/71SATbFN5zL._AC_SL1080_.jpg', 'large': \u001b[0m\n",
       "\u001b[32m'https://m.media-amazon.com/images/I/51rYSjLAi9L._AC_.jpg', 'thumb': \u001b[0m\n",
       "\u001b[32m'https://m.media-amazon.com/images/I/51rYSjLAi9L._AC_US75_.jpg', 'variant': 'PT04'\u001b[0m\u001b[32m}\u001b[0m\u001b[32m]\u001b[0m\u001b[32m\"\u001b[0m, \u001b[32m\"store\"\u001b[0m: \u001b[32m\"Generic\"\u001b[0m, \u001b[32m\"brand\"\u001b[0m:\n",
       "\u001b[32m\"Generic\"\u001b[0m, \u001b[32m\"manufacturer\"\u001b[0m: \u001b[32m\"Bee Mine Baby\"\u001b[0m, \u001b[32m\"main_category\"\u001b[0m: \u001b[32m\"Baby Products\"\u001b[0m, \u001b[32m\"categories\"\u001b[0m: \u001b[1m[\u001b[0m\u001b[1m]\u001b[0m, \u001b[32m\"similarity\"\u001b[0m: \u001b[1;36m1.0\u001b[0m\u001b[1m}\u001b[0m,\n",
       "\u001b[1m{\u001b[0m\u001b[32m\"title\"\u001b[0m: \u001b[32m\"HonestBaby Baby Organic Cotton Washcloth Multi-Pack\"\u001b[0m, \u001b[32m\"description\"\u001b[0m: \u001b[32m\"Stylish and convenient, our \u001b[0m\n",
       "\u001b[32mwashcloths are designed to make bath time easier for you and more comfortable for your babe. These 100% organic \u001b[0m\n",
       "\u001b[32mcotton washcloths are made with layers of extra soft muslin gauze with a clean jersey trim and a practical loop for\u001b[0m\n",
       "\u001b[32mhanging and drying. Perfectly sized for baby and so incredibly soft, our washcloths are super gentle on baby's \u001b[0m\n",
       "\u001b[32msensitive skin.\"\u001b[0m, \u001b[32m\"average_rating\"\u001b[0m: \u001b[1;36m4.5\u001b[0m, \u001b[32m\"rating_number\"\u001b[0m: \u001b[1;36m48\u001b[0m, \u001b[32m\"price\"\u001b[0m: \u001b[1;36m14.17\u001b[0m, \u001b[32m\"features\"\u001b[0m: \u001b[32m\"100% \u001b[0m\n",
       "\u001b[32mCotton\\nImported\\nNo Closure closure\\nMachine Wash\\nBATH TIME MADE EASY: This set Includes five wash cloths made of\u001b[0m\n",
       "\u001b[32m100% pure organic cotton. Soft and absorbent on your little one's skin\\nGENEROUSLY SIZED: Washcloths measure 11.5\\\"\u001b[0m\n",
       "\u001b[32mL x 11.5\\\" W\\nPRACTICAL AND STYLISH: A raw edge jersey trim adds an additional element of style while a practical \u001b[0m\n",
       "\u001b[32mfabric loop makes this cloth easy to hang for drying\\nGIFT-REGISTRY READY: Our washcloths coordinate back to our \u001b[0m\n",
       "\u001b[32mtowels and blankets, making this a perfect shower gift for a new mom, new dad, or a growing family\\nVERSATILE: Put \u001b[0m\n",
       "\u001b[32mthese in your diaper bag and use as a burp cloth, a wash cloth or a security cloth. These woven cloths get softer \u001b[0m\n",
       "\u001b[32mwith every wash\"\u001b[0m, \u001b[32m\"images\"\u001b[0m: \u001b[32m\"\u001b[0m\u001b[32m[\u001b[0m\u001b[32m{\u001b[0m\u001b[32m'hi_res': 'https://m.media-amazon.com/images/I/913kqlrdZBL._AC_UL1500_.jpg', \u001b[0m\n",
       "\u001b[32m'large': 'https://m.media-amazon.com/images/I/51xVFl58IwL._AC_.jpg', 'thumb': \u001b[0m\n",
       "\u001b[32m'https://m.media-amazon.com/images/I/51xVFl58IwL._AC_SR38,50_.jpg', 'variant': 'MAIN'\u001b[0m\u001b[32m}\u001b[0m\u001b[32m\\n \u001b[0m\u001b[32m{\u001b[0m\u001b[32m'hi_res': \u001b[0m\n",
       "\u001b[32m'https://m.media-amazon.com/images/I/914nWoxEQyL._AC_UL1500_.jpg', 'large': \u001b[0m\n",
       "\u001b[32m'https://m.media-amazon.com/images/I/51xg7WNv9dL._AC_.jpg', 'thumb': \u001b[0m\n",
       "\u001b[32m'https://m.media-amazon.com/images/I/51xg7WNv9dL._AC_SR38,50_.jpg', 'variant': 'PT01'\u001b[0m\u001b[32m}\u001b[0m\u001b[32m\\n \u001b[0m\u001b[32m{\u001b[0m\u001b[32m'hi_res': \u001b[0m\n",
       "\u001b[32m'https://m.media-amazon.com/images/I/81BSpL1pipL._AC_UL1500_.jpg', 'large': \u001b[0m\n",
       "\u001b[32m'https://m.media-amazon.com/images/I/41J9jzXDxKL._AC_.jpg', 'thumb': \u001b[0m\n",
       "\u001b[32m'https://m.media-amazon.com/images/I/41J9jzXDxKL._AC_SR38,50_.jpg', 'variant': 'PT02'\u001b[0m\u001b[32m}\u001b[0m\u001b[32m\\n \u001b[0m\u001b[32m{\u001b[0m\u001b[32m'hi_res': \u001b[0m\n",
       "\u001b[32m'https://m.media-amazon.com/images/I/71L55FH1l5L._AC_UL1500_.jpg', 'large': \u001b[0m\n",
       "\u001b[32m'https://m.media-amazon.com/images/I/41XyeE9A5RL._AC_.jpg', 'thumb': \u001b[0m\n",
       "\u001b[32m'https://m.media-amazon.com/images/I/41XyeE9A5RL._AC_SR38,50_.jpg', 'variant': 'PT03'\u001b[0m\u001b[32m}\u001b[0m\u001b[32m\\n \u001b[0m\u001b[32m{\u001b[0m\u001b[32m'hi_res': \u001b[0m\n",
       "\u001b[32m'https://m.media-amazon.com/images/I/81cgoUrTIOL._AC_UL1500_.jpg', 'large': \u001b[0m\n",
       "\u001b[32m'https://m.media-amazon.com/images/I/51IdDAoVBXL._AC_.jpg', 'thumb': \u001b[0m\n",
       "\u001b[32m'https://m.media-amazon.com/images/I/51IdDAoVBXL._AC_SR38,50_.jpg', 'variant': 'PT04'\u001b[0m\u001b[32m}\u001b[0m\u001b[32m]\u001b[0m\u001b[32m\"\u001b[0m, \u001b[32m\"store\"\u001b[0m: \u001b[32m\"HonestBaby\"\u001b[0m, \n",
       "\u001b[32m\"brand\"\u001b[0m: \u001b[32m\"HonestBaby\"\u001b[0m, \u001b[32m\"manufacturer\"\u001b[0m: \u001b[32m\"HonestBaby\"\u001b[0m, \u001b[32m\"main_category\"\u001b[0m: \u001b[32m\"Baby Products\"\u001b[0m, \u001b[32m\"categories\"\u001b[0m: \u001b[1m[\u001b[0m\u001b[1m]\u001b[0m, \n",
       "\u001b[32m\"similarity\"\u001b[0m: \u001b[1;36m1.0\u001b[0m\u001b[1m}\u001b[0m, \u001b[1m{\u001b[0m\u001b[32m\"title\"\u001b[0m: \u001b[32m\"Bestjybt\\u00ae 9PCS Sweet Babys Girls Chiffon Flower Elastic Bow Headband Head Wrap \u001b[0m\n",
       "\u001b[32mTurban Knot Hairband\"\u001b[0m, \u001b[32m\"description\"\u001b[0m: \u001b[32m\"Features:\\nAn ideal gift for your baby. The value is not expensive but \u001b[0m\n",
       "\u001b[32mfashion.  The baby girl headbands are extremely adorable and trendy. The infant headbands have a classic design, \u001b[0m\n",
       "\u001b[32mand great for all occasions.  The baby headband are stretchy, soft and very comfortable.  The newborn headbands for\u001b[0m\n",
       "\u001b[32mgirls are great for dressing up to make a cute outfit or just a cute little trendy accessory!\\nService:\\nIf you \u001b[0m\n",
       "\u001b[32mhave any problems with our items or services, please feel free to contact us. We strive to put our hundred percent \u001b[0m\n",
       "\u001b[32mto resolve your issues and delight you.\\nBestJy: Your Reliable And Best Choice\"\u001b[0m, \u001b[32m\"average_rating\"\u001b[0m: \u001b[1;36m3.6\u001b[0m, \n",
       "\u001b[32m\"rating_number\"\u001b[0m: \u001b[1;36m45\u001b[0m, \u001b[32m\"price\"\u001b[0m: \u001b[1;36m25.957234468937877\u001b[0m, \u001b[32m\"features\"\u001b[0m: \u001b[32m\"Chiffon\\nMaterial: Cloth ,Chiffon,Fabric Tape\\nSize:\u001b[0m\n",
       "\u001b[32mBand 0.7 inch width ,14 inch girth , good elasticity.Shabby flower about 2.4 inch. \u001b[0m\u001b[32m(\u001b[0m\u001b[32mFit 3 months to 10 Year Old \u001b[0m\n",
       "\u001b[32mChildren\u001b[0m\u001b[32m)\u001b[0m\u001b[32m\\nSuper cute and lovely baby girl headbands, fashion design, good elasticity, soft material and beautiful \u001b[0m\n",
       "\u001b[32mcolors.\\nPerfect for baby shower, birthday party and family photo.\\nPackage include: 9 pieces different colors \u001b[0m\n",
       "\u001b[32mheadbands. 100% MONEY BACK GUARANTEE.\"\u001b[0m, \u001b[32m\"images\"\u001b[0m: \u001b[32m\"\u001b[0m\u001b[32m[\u001b[0m\u001b[32m{\u001b[0m\u001b[32m'hi_res': \u001b[0m\n",
       "\u001b[32m'https://m.media-amazon.com/images/I/51O1hSgkmqL._AC_UL1001_.jpg', 'large': \u001b[0m\n",
       "\u001b[32m'https://m.media-amazon.com/images/I/41mnZUIaODL._AC_.jpg', 'thumb': \u001b[0m\n",
       "\u001b[32m'https://m.media-amazon.com/images/I/41mnZUIaODL._AC_SR38,50_.jpg', 'variant': 'MAIN'\u001b[0m\u001b[32m}\u001b[0m\u001b[32m\\n \u001b[0m\u001b[32m{\u001b[0m\u001b[32m'hi_res': \u001b[0m\n",
       "\u001b[32m'https://m.media-amazon.com/images/I/61uUv84hG9L._AC_UL1437_.jpg', 'large': \u001b[0m\n",
       "\u001b[32m'https://m.media-amazon.com/images/I/41SnOQPcJkL._AC_.jpg', 'thumb': \u001b[0m\n",
       "\u001b[32m'https://m.media-amazon.com/images/I/41SnOQPcJkL._AC_SR38,50_.jpg', 'variant': 'PT01'\u001b[0m\u001b[32m}\u001b[0m\u001b[32m\\n \u001b[0m\u001b[32m{\u001b[0m\u001b[32m'hi_res': \u001b[0m\n",
       "\u001b[32m'https://m.media-amazon.com/images/I/51k7mzX4UzL._AC_UL1001_.jpg', 'large': \u001b[0m\n",
       "\u001b[32m'https://m.media-amazon.com/images/I/41GzkKtnOWL._AC_.jpg', 'thumb': \u001b[0m\n",
       "\u001b[32m'https://m.media-amazon.com/images/I/41GzkKtnOWL._AC_SR38,50_.jpg', 'variant': 'PT02'\u001b[0m\u001b[32m}\u001b[0m\u001b[32m\\n \u001b[0m\u001b[32m{\u001b[0m\u001b[32m'hi_res': \u001b[0m\n",
       "\u001b[32m'https://m.media-amazon.com/images/I/51-Lh6-k3UL._AC_UL1001_.jpg', 'large': \u001b[0m\n",
       "\u001b[32m'https://m.media-amazon.com/images/I/41+HEzTJfuL._AC_.jpg', 'thumb': \u001b[0m\n",
       "\u001b[32m'https://m.media-amazon.com/images/I/41+HEzTJfuL._AC_SR38,50_.jpg', 'variant': 'PT03'\u001b[0m\u001b[32m}\u001b[0m\u001b[32m\\n \u001b[0m\u001b[32m{\u001b[0m\u001b[32m'hi_res': \u001b[0m\n",
       "\u001b[32m'https://m.media-amazon.com/images/I/41HcZ4yLMgL._AC_UL1001_.jpg', 'large': \u001b[0m\n",
       "\u001b[32m'https://m.media-amazon.com/images/I/31giandjvfL._AC_.jpg', 'thumb': \u001b[0m\n",
       "\u001b[32m'https://m.media-amazon.com/images/I/31giandjvfL._AC_SR38,50_.jpg', 'variant': 'PT04'\u001b[0m\u001b[32m}\u001b[0m\u001b[32m\\n \u001b[0m\u001b[32m{\u001b[0m\u001b[32m'hi_res': \u001b[0m\n",
       "\u001b[32m'https://m.media-amazon.com/images/I/51O4AV7u80L._AC_UL1001_.jpg', 'large': \u001b[0m\n",
       "\u001b[32m'https://m.media-amazon.com/images/I/41VQqHCyGPL._AC_.jpg', 'thumb': \u001b[0m\n",
       "\u001b[32m'https://m.media-amazon.com/images/I/41VQqHCyGPL._AC_SR38,50_.jpg', 'variant': 'PT05'\u001b[0m\u001b[32m}\u001b[0m\u001b[32m\\n \u001b[0m\u001b[32m{\u001b[0m\u001b[32m'hi_res': \u001b[0m\n",
       "\u001b[32m'https://m.media-amazon.com/images/I/51LTkkJ24vL._AC_UL1001_.jpg', 'large': \u001b[0m\n",
       "\u001b[32m'https://m.media-amazon.com/images/I/31SN04ZlCyL._AC_.jpg', 'thumb': \u001b[0m\n",
       "\u001b[32m'https://m.media-amazon.com/images/I/31SN04ZlCyL._AC_SR38,50_.jpg', 'variant': 'PT06'\u001b[0m\u001b[32m}\u001b[0m\u001b[32m\\n \u001b[0m\u001b[32m{\u001b[0m\u001b[32m'hi_res': \u001b[0m\n",
       "\u001b[32m'https://m.media-amazon.com/images/I/51KSlvpF7hL._AC_UL1001_.jpg', 'large': \u001b[0m\n",
       "\u001b[32m'https://m.media-amazon.com/images/I/31qTGUWn02L._AC_.jpg', 'thumb': \u001b[0m\n",
       "\u001b[32m'https://m.media-amazon.com/images/I/31qTGUWn02L._AC_SR38,50_.jpg', 'variant': 'PT07'\u001b[0m\u001b[32m}\u001b[0m\u001b[32m\\n \u001b[0m\u001b[32m{\u001b[0m\u001b[32m'hi_res': \u001b[0m\n",
       "\u001b[32m'https://m.media-amazon.com/images/I/51A+8OwLptL._AC_UL1001_.jpg', 'large': \u001b[0m\n",
       "\u001b[32m'https://m.media-amazon.com/images/I/31v-cVlNI3L._AC_.jpg', 'thumb': \u001b[0m\n",
       "\u001b[32m'https://m.media-amazon.com/images/I/31v-cVlNI3L._AC_SR38,50_.jpg', 'variant': 'PT08'\u001b[0m\u001b[32m}\u001b[0m\u001b[32m]\u001b[0m\u001b[32m\"\u001b[0m, \u001b[32m\"store\"\u001b[0m: \u001b[32m\"Bestjybt\"\u001b[0m, \n",
       "\u001b[32m\"brand\"\u001b[0m: \u001b[32m\"Bestjybt\"\u001b[0m, \u001b[32m\"manufacturer\"\u001b[0m: \u001b[32m\"nan\"\u001b[0m, \u001b[32m\"main_category\"\u001b[0m: \u001b[32m\"Baby Products\"\u001b[0m, \u001b[32m\"categories\"\u001b[0m: \u001b[1m[\u001b[0m\u001b[1m]\u001b[0m, \u001b[32m\"similarity\"\u001b[0m: \u001b[1;36m1.0\u001b[0m\u001b[1m}\u001b[0m\u001b[1m]\u001b[0m\n"
      ]
     },
     "metadata": {},
     "output_type": "display_data"
    },
    {
     "data": {
      "text/html": [
       "<pre style=\"white-space:pre;overflow-x:auto;line-height:normal;font-family:Menlo,'DejaVu Sans Mono',consolas,'Courier New',monospace\"><span style=\"color: #7f7f7f; text-decoration-color: #7f7f7f\">[Step 0: Duration 2.32 seconds| Input tokens: 852 | Output tokens: 16]</span>\n",
       "</pre>\n"
      ],
      "text/plain": [
       "\u001b[2m[Step 0: Duration 2.32 seconds| Input tokens: 852 | Output tokens: 16]\u001b[0m\n"
      ]
     },
     "metadata": {},
     "output_type": "display_data"
    },
    {
     "data": {
      "text/html": [
       "<pre style=\"white-space:pre;overflow-x:auto;line-height:normal;font-family:Menlo,'DejaVu Sans Mono',consolas,'Courier New',monospace\"><span style=\"color: #d4b702; text-decoration-color: #d4b702\">━━━━━━━━━━━━━━━━━━━━━━━━━━━━━━━━━━━━━━━━━━━━━━━━━━━━━ </span><span style=\"font-weight: bold\">Step </span><span style=\"color: #008080; text-decoration-color: #008080; font-weight: bold\">1</span><span style=\"color: #d4b702; text-decoration-color: #d4b702\"> ━━━━━━━━━━━━━━━━━━━━━━━━━━━━━━━━━━━━━━━━━━━━━━━━━━━━━━</span>\n",
       "</pre>\n"
      ],
      "text/plain": [
       "\u001b[38;2;212;183;2m━━━━━━━━━━━━━━━━━━━━━━━━━━━━━━━━━━━━━━━━━━━━━━━━━━━━━ \u001b[0m\u001b[1mStep \u001b[0m\u001b[1;36m1\u001b[0m\u001b[38;2;212;183;2m ━━━━━━━━━━━━━━━━━━━━━━━━━━━━━━━━━━━━━━━━━━━━━━━━━━━━━━\u001b[0m\n"
      ]
     },
     "metadata": {},
     "output_type": "display_data"
    },
    {
     "data": {
      "text/html": [
       "<pre style=\"white-space:pre;overflow-x:auto;line-height:normal;font-family:Menlo,'DejaVu Sans Mono',consolas,'Courier New',monospace\">╭─────────────────────────────────────────────────────────────────────────────────────────────────────────────────╮\n",
       "│ Calling tool: 'final_answer' with arguments: {'answer': '[{\"title\": \"Millie (4 PACK) Sliding Glass Door Child   │\n",
       "│ Lock - Baby Safety Slide Window Locks Kids Proof Patio Closet Doors No Drilling Tools Needed (white)\",          │\n",
       "│ \"description\": \"YOUR BABY’S SAFETY IS OUR PRIORITY babyproof locking device allows you to prevent your children │\n",
       "│ from gaining access to off-limits areas that could put them in danger, or cause them harm, such as swimming     │\n",
       "│ pools, patios, balconies, medicine cabinets, and cleaning supplies storage areas. HASSLE FREE INSTALLATION --   │\n",
       "│ Childproofing often sounds like you have to bring specialists in to do the job for you, but with this device,   │\n",
       "│ it makes babyproofing your home a breeze. You simply have to peel the tape and apply it to the intended         │\n",
       "│ surface. It takes only a few seconds.\", \"price\": 9.99, \"store\": \"Millie\", \"brand\": \"nan\", \"manufacturer\":       │\n",
       "│ \"nan\", \"images\": [\"https://m.media-amazon.com/images/I/51y5rvhtGBL._AC_SL1071_.jpg\"], \"main_category\": \"Baby    │\n",
       "│ Products\"}, {\"title\": \"Corner Protectors, L Shape Food Grade Silicone Material Extra Thick Baby Safety Corner   │\n",
       "│ Guards (12 Pack, Shell Shape Mint Green)\", \"description\": \"Real strong TRACELESS adhesive tape for corner       │\n",
       "│ guards\\\\n- Strong and durable custom made glue. Well tested on most surfaces like wood, glass, metal and        │\n",
       "│ plastic of the family- Traceless glue: Easy to remove without furniture damaging.\\\\nEasy to install:\\\\n1 Clean  │\n",
       "│ the surface of the furniture that you want to paste the furniture edge bumpers.2 Adhere double sided tape to    │\n",
       "│ the 3 section of your furniture corner.3.Place the Furniture Corner Protectors in the suitable position and     │\n",
       "│ press strongly.Wait at least 48 hours for full adhesion before testing.\", \"price\": 9.99, \"store\": \"LONGFITE\",   │\n",
       "│ \"brand\": \"LONGFITE\", \"manufacturer\": \"LONGFITE\", \"images\":                                                      │\n",
       "│ [\"https://m.media-amazon.com/images/I/61CTJObAc4L._AC_SL1500_.jpg\"], \"main_category\": \"Baby Products\"},         │\n",
       "│ {\"title\": \"2 Pack Organic Bamboo Baby Hooded Bath Towels\", \"description\": \"Made with Organic Bamboo Environment │\n",
       "│ Friendly Extremely Soft perfect for Babies and toddlers with Sensitive Skin. Perfect long-lasting towel that    │\n",
       "│ will grow with your baby until a toddler. Washer Machine Friendly Comes in a Pack of 2 Perfect baby shower gift │\n",
       "│ 70x70 inch\", \"price\": 25.957234468937877, \"store\": \"Generic\", \"brand\": \"Generic\", \"manufacturer\": \"Bee Mine     │\n",
       "│ Baby\", \"images\": [\"https://m.media-amazon.com/images/I/512M+l2bO1L._AC_SL1350_.jpg\"], \"main_category\": \"Baby    │\n",
       "│ Products\"}, {\"title\": \"HonestBaby Baby Organic Cotton Washcloth Multi-Pack\", \"description\": \"Stylish and        │\n",
       "│ convenient, our washcloths are designed to make bath time easier for you and more comfortable for your babe.    │\n",
       "│ These 100% organic cotton washcloths are made with layers of extra soft muslin gauze with a clean jersey trim   │\n",
       "│ and a practical loop for hanging and drying. Perfectly sized for baby and so incredibly soft, our washcloths    │\n",
       "│ are super gentle on baby\\'s sensitive skin.\", \"price\": 14.17, \"store\": \"HonestBaby\", \"brand\": \"HonestBaby\",     │\n",
       "│ \"manufacturer\": \"HonestBaby\", \"images\": [\"https://m.media-amazon.com/images/I/913kqlrdZBL._AC_UL1500_.jpg\"],    │\n",
       "│ \"main_category\": \"Baby Products\"}, {\"title\": \"Bestjybt® 9PCS Sweet Babys Girls Chiffon Flower Elastic Bow       │\n",
       "│ Headband Head Wrap Turban Knot Hairband\", \"description\": \"Features:\\\\nAn ideal gift for your baby. The value is │\n",
       "│ not expensive but fashion.  The baby girl headbands are extremely adorable and trendy. The infant headbands     │\n",
       "│ have a classic design, and great for all occasions.  The baby headband are stretchy, soft and very comfortable. │\n",
       "│ The newborn headbands for girls are great for dressing up to make a cute outfit or just a cute little trendy    │\n",
       "│ accessory!\\\\nService:\\\\nIf you have any problems with our items or services, please feel free to contact us. We │\n",
       "│ strive to put our hundred percent to resolve your issues and delight you.\\\\nBestJy: Your Reliable And Best      │\n",
       "│ Choice\", \"price\": 25.957234468937877, \"store\": \"Bestjybt\", \"brand\": \"Bestjybt\", \"manufacturer\": \"nan\",          │\n",
       "│ \"images\": [\"https://m.media-amazon.com/images/I/51O1hSgkmqL._AC_UL1001_.jpg\"], \"main_category\": \"Baby           │\n",
       "│ Products\"}]'}                                                                                                   │\n",
       "╰─────────────────────────────────────────────────────────────────────────────────────────────────────────────────╯\n",
       "</pre>\n"
      ],
      "text/plain": [
       "╭─────────────────────────────────────────────────────────────────────────────────────────────────────────────────╮\n",
       "│ Calling tool: 'final_answer' with arguments: {'answer': '[{\"title\": \"Millie (4 PACK) Sliding Glass Door Child   │\n",
       "│ Lock - Baby Safety Slide Window Locks Kids Proof Patio Closet Doors No Drilling Tools Needed (white)\",          │\n",
       "│ \"description\": \"YOUR BABY’S SAFETY IS OUR PRIORITY babyproof locking device allows you to prevent your children │\n",
       "│ from gaining access to off-limits areas that could put them in danger, or cause them harm, such as swimming     │\n",
       "│ pools, patios, balconies, medicine cabinets, and cleaning supplies storage areas. HASSLE FREE INSTALLATION --   │\n",
       "│ Childproofing often sounds like you have to bring specialists in to do the job for you, but with this device,   │\n",
       "│ it makes babyproofing your home a breeze. You simply have to peel the tape and apply it to the intended         │\n",
       "│ surface. It takes only a few seconds.\", \"price\": 9.99, \"store\": \"Millie\", \"brand\": \"nan\", \"manufacturer\":       │\n",
       "│ \"nan\", \"images\": [\"https://m.media-amazon.com/images/I/51y5rvhtGBL._AC_SL1071_.jpg\"], \"main_category\": \"Baby    │\n",
       "│ Products\"}, {\"title\": \"Corner Protectors, L Shape Food Grade Silicone Material Extra Thick Baby Safety Corner   │\n",
       "│ Guards (12 Pack, Shell Shape Mint Green)\", \"description\": \"Real strong TRACELESS adhesive tape for corner       │\n",
       "│ guards\\\\n- Strong and durable custom made glue. Well tested on most surfaces like wood, glass, metal and        │\n",
       "│ plastic of the family- Traceless glue: Easy to remove without furniture damaging.\\\\nEasy to install:\\\\n1 Clean  │\n",
       "│ the surface of the furniture that you want to paste the furniture edge bumpers.2 Adhere double sided tape to    │\n",
       "│ the 3 section of your furniture corner.3.Place the Furniture Corner Protectors in the suitable position and     │\n",
       "│ press strongly.Wait at least 48 hours for full adhesion before testing.\", \"price\": 9.99, \"store\": \"LONGFITE\",   │\n",
       "│ \"brand\": \"LONGFITE\", \"manufacturer\": \"LONGFITE\", \"images\":                                                      │\n",
       "│ [\"https://m.media-amazon.com/images/I/61CTJObAc4L._AC_SL1500_.jpg\"], \"main_category\": \"Baby Products\"},         │\n",
       "│ {\"title\": \"2 Pack Organic Bamboo Baby Hooded Bath Towels\", \"description\": \"Made with Organic Bamboo Environment │\n",
       "│ Friendly Extremely Soft perfect for Babies and toddlers with Sensitive Skin. Perfect long-lasting towel that    │\n",
       "│ will grow with your baby until a toddler. Washer Machine Friendly Comes in a Pack of 2 Perfect baby shower gift │\n",
       "│ 70x70 inch\", \"price\": 25.957234468937877, \"store\": \"Generic\", \"brand\": \"Generic\", \"manufacturer\": \"Bee Mine     │\n",
       "│ Baby\", \"images\": [\"https://m.media-amazon.com/images/I/512M+l2bO1L._AC_SL1350_.jpg\"], \"main_category\": \"Baby    │\n",
       "│ Products\"}, {\"title\": \"HonestBaby Baby Organic Cotton Washcloth Multi-Pack\", \"description\": \"Stylish and        │\n",
       "│ convenient, our washcloths are designed to make bath time easier for you and more comfortable for your babe.    │\n",
       "│ These 100% organic cotton washcloths are made with layers of extra soft muslin gauze with a clean jersey trim   │\n",
       "│ and a practical loop for hanging and drying. Perfectly sized for baby and so incredibly soft, our washcloths    │\n",
       "│ are super gentle on baby\\'s sensitive skin.\", \"price\": 14.17, \"store\": \"HonestBaby\", \"brand\": \"HonestBaby\",     │\n",
       "│ \"manufacturer\": \"HonestBaby\", \"images\": [\"https://m.media-amazon.com/images/I/913kqlrdZBL._AC_UL1500_.jpg\"],    │\n",
       "│ \"main_category\": \"Baby Products\"}, {\"title\": \"Bestjybt® 9PCS Sweet Babys Girls Chiffon Flower Elastic Bow       │\n",
       "│ Headband Head Wrap Turban Knot Hairband\", \"description\": \"Features:\\\\nAn ideal gift for your baby. The value is │\n",
       "│ not expensive but fashion.  The baby girl headbands are extremely adorable and trendy. The infant headbands     │\n",
       "│ have a classic design, and great for all occasions.  The baby headband are stretchy, soft and very comfortable. │\n",
       "│ The newborn headbands for girls are great for dressing up to make a cute outfit or just a cute little trendy    │\n",
       "│ accessory!\\\\nService:\\\\nIf you have any problems with our items or services, please feel free to contact us. We │\n",
       "│ strive to put our hundred percent to resolve your issues and delight you.\\\\nBestJy: Your Reliable And Best      │\n",
       "│ Choice\", \"price\": 25.957234468937877, \"store\": \"Bestjybt\", \"brand\": \"Bestjybt\", \"manufacturer\": \"nan\",          │\n",
       "│ \"images\": [\"https://m.media-amazon.com/images/I/51O1hSgkmqL._AC_UL1001_.jpg\"], \"main_category\": \"Baby           │\n",
       "│ Products\"}]'}                                                                                                   │\n",
       "╰─────────────────────────────────────────────────────────────────────────────────────────────────────────────────╯\n"
      ]
     },
     "metadata": {},
     "output_type": "display_data"
    },
    {
     "data": {
      "text/html": [
       "<pre style=\"white-space:pre;overflow-x:auto;line-height:normal;font-family:Menlo,'DejaVu Sans Mono',consolas,'Courier New',monospace\"><span style=\"color: #d4b702; text-decoration-color: #d4b702; font-weight: bold\">Final answer: [{\"title\": \"Millie (4 PACK) Sliding Glass Door Child Lock - Baby Safety Slide Window Locks Kids Proof</span>\n",
       "<span style=\"color: #d4b702; text-decoration-color: #d4b702; font-weight: bold\">Patio Closet Doors No Drilling Tools Needed (white)\", \"description\": \"YOUR BABY’S SAFETY IS OUR PRIORITY babyproof </span>\n",
       "<span style=\"color: #d4b702; text-decoration-color: #d4b702; font-weight: bold\">locking device allows you to prevent your children from gaining access to off-limits areas that could put them in </span>\n",
       "<span style=\"color: #d4b702; text-decoration-color: #d4b702; font-weight: bold\">danger, or cause them harm, such as swimming pools, patios, balconies, medicine cabinets, and cleaning supplies </span>\n",
       "<span style=\"color: #d4b702; text-decoration-color: #d4b702; font-weight: bold\">storage areas. HASSLE FREE INSTALLATION -- Childproofing often sounds like you have to bring specialists in to do </span>\n",
       "<span style=\"color: #d4b702; text-decoration-color: #d4b702; font-weight: bold\">the job for you, but with this device, it makes babyproofing your home a breeze. You simply have to peel the tape </span>\n",
       "<span style=\"color: #d4b702; text-decoration-color: #d4b702; font-weight: bold\">and apply it to the intended surface. It takes only a few seconds.\", \"price\": 9.99, \"store\": \"Millie\", \"brand\": </span>\n",
       "<span style=\"color: #d4b702; text-decoration-color: #d4b702; font-weight: bold\">\"nan\", \"manufacturer\": \"nan\", \"images\": [\"https://m.media-amazon.com/images/I/51y5rvhtGBL._AC_SL1071_.jpg\"], </span>\n",
       "<span style=\"color: #d4b702; text-decoration-color: #d4b702; font-weight: bold\">\"main_category\": \"Baby Products\"}, {\"title\": \"Corner Protectors, L Shape Food Grade Silicone Material Extra Thick </span>\n",
       "<span style=\"color: #d4b702; text-decoration-color: #d4b702; font-weight: bold\">Baby Safety Corner Guards (12 Pack, Shell Shape Mint Green)\", \"description\": \"Real strong TRACELESS adhesive tape </span>\n",
       "<span style=\"color: #d4b702; text-decoration-color: #d4b702; font-weight: bold\">for corner guards\\n- Strong and durable custom made glue. Well tested on most surfaces like wood, glass, metal and </span>\n",
       "<span style=\"color: #d4b702; text-decoration-color: #d4b702; font-weight: bold\">plastic of the family- Traceless glue: Easy to remove without furniture damaging.\\nEasy to install:\\n1 Clean the </span>\n",
       "<span style=\"color: #d4b702; text-decoration-color: #d4b702; font-weight: bold\">surface of the furniture that you want to paste the furniture edge bumpers.2 Adhere double sided tape to the 3 </span>\n",
       "<span style=\"color: #d4b702; text-decoration-color: #d4b702; font-weight: bold\">section of your furniture corner.3.Place the Furniture Corner Protectors in the suitable position and press </span>\n",
       "<span style=\"color: #d4b702; text-decoration-color: #d4b702; font-weight: bold\">strongly.Wait at least 48 hours for full adhesion before testing.\", \"price\": 9.99, \"store\": \"LONGFITE\", \"brand\": </span>\n",
       "<span style=\"color: #d4b702; text-decoration-color: #d4b702; font-weight: bold\">\"LONGFITE\", \"manufacturer\": \"LONGFITE\", \"images\": </span>\n",
       "<span style=\"color: #d4b702; text-decoration-color: #d4b702; font-weight: bold\">[\"https://m.media-amazon.com/images/I/61CTJObAc4L._AC_SL1500_.jpg\"], \"main_category\": \"Baby Products\"}, {\"title\": </span>\n",
       "<span style=\"color: #d4b702; text-decoration-color: #d4b702; font-weight: bold\">\"2 Pack Organic Bamboo Baby Hooded Bath Towels\", \"description\": \"Made with Organic Bamboo Environment Friendly </span>\n",
       "<span style=\"color: #d4b702; text-decoration-color: #d4b702; font-weight: bold\">Extremely Soft perfect for Babies and toddlers with Sensitive Skin. Perfect long-lasting towel that will grow with </span>\n",
       "<span style=\"color: #d4b702; text-decoration-color: #d4b702; font-weight: bold\">your baby until a toddler. Washer Machine Friendly Comes in a Pack of 2 Perfect baby shower gift 70x70 inch\", </span>\n",
       "<span style=\"color: #d4b702; text-decoration-color: #d4b702; font-weight: bold\">\"price\": 25.957234468937877, \"store\": \"Generic\", \"brand\": \"Generic\", \"manufacturer\": \"Bee Mine Baby\", \"images\": </span>\n",
       "<span style=\"color: #d4b702; text-decoration-color: #d4b702; font-weight: bold\">[\"https://m.media-amazon.com/images/I/512M+l2bO1L._AC_SL1350_.jpg\"], \"main_category\": \"Baby Products\"}, {\"title\": </span>\n",
       "<span style=\"color: #d4b702; text-decoration-color: #d4b702; font-weight: bold\">\"HonestBaby Baby Organic Cotton Washcloth Multi-Pack\", \"description\": \"Stylish and convenient, our washcloths are </span>\n",
       "<span style=\"color: #d4b702; text-decoration-color: #d4b702; font-weight: bold\">designed to make bath time easier for you and more comfortable for your babe. These 100% organic cotton washcloths </span>\n",
       "<span style=\"color: #d4b702; text-decoration-color: #d4b702; font-weight: bold\">are made with layers of extra soft muslin gauze with a clean jersey trim and a practical loop for hanging and </span>\n",
       "<span style=\"color: #d4b702; text-decoration-color: #d4b702; font-weight: bold\">drying. Perfectly sized for baby and so incredibly soft, our washcloths are super gentle on baby's sensitive </span>\n",
       "<span style=\"color: #d4b702; text-decoration-color: #d4b702; font-weight: bold\">skin.\", \"price\": 14.17, \"store\": \"HonestBaby\", \"brand\": \"HonestBaby\", \"manufacturer\": \"HonestBaby\", \"images\": </span>\n",
       "<span style=\"color: #d4b702; text-decoration-color: #d4b702; font-weight: bold\">[\"https://m.media-amazon.com/images/I/913kqlrdZBL._AC_UL1500_.jpg\"], \"main_category\": \"Baby Products\"}, {\"title\": </span>\n",
       "<span style=\"color: #d4b702; text-decoration-color: #d4b702; font-weight: bold\">\"Bestjybt® 9PCS Sweet Babys Girls Chiffon Flower Elastic Bow Headband Head Wrap Turban Knot Hairband\", </span>\n",
       "<span style=\"color: #d4b702; text-decoration-color: #d4b702; font-weight: bold\">\"description\": \"Features:\\nAn ideal gift for your baby. The value is not expensive but fashion.  The baby girl </span>\n",
       "<span style=\"color: #d4b702; text-decoration-color: #d4b702; font-weight: bold\">headbands are extremely adorable and trendy. The infant headbands have a classic design, and great for all </span>\n",
       "<span style=\"color: #d4b702; text-decoration-color: #d4b702; font-weight: bold\">occasions.  The baby headband are stretchy, soft and very comfortable.  The newborn headbands for girls are great </span>\n",
       "<span style=\"color: #d4b702; text-decoration-color: #d4b702; font-weight: bold\">for dressing up to make a cute outfit or just a cute little trendy accessory!\\nService:\\nIf you have any problems </span>\n",
       "<span style=\"color: #d4b702; text-decoration-color: #d4b702; font-weight: bold\">with our items or services, please feel free to contact us. We strive to put our hundred percent to resolve your </span>\n",
       "<span style=\"color: #d4b702; text-decoration-color: #d4b702; font-weight: bold\">issues and delight you.\\nBestJy: Your Reliable And Best Choice\", \"price\": 25.957234468937877, \"store\": \"Bestjybt\", </span>\n",
       "<span style=\"color: #d4b702; text-decoration-color: #d4b702; font-weight: bold\">\"brand\": \"Bestjybt\", \"manufacturer\": \"nan\", \"images\": </span>\n",
       "<span style=\"color: #d4b702; text-decoration-color: #d4b702; font-weight: bold\">[\"https://m.media-amazon.com/images/I/51O1hSgkmqL._AC_UL1001_.jpg\"], \"main_category\": \"Baby Products\"}]</span>\n",
       "</pre>\n"
      ],
      "text/plain": [
       "\u001b[1;38;2;212;183;2mFinal answer: [{\"title\": \"Millie (4 PACK) Sliding Glass Door Child Lock - Baby Safety Slide Window Locks Kids Proof\u001b[0m\n",
       "\u001b[1;38;2;212;183;2mPatio Closet Doors No Drilling Tools Needed (white)\", \"description\": \"YOUR BABY’S SAFETY IS OUR PRIORITY babyproof \u001b[0m\n",
       "\u001b[1;38;2;212;183;2mlocking device allows you to prevent your children from gaining access to off-limits areas that could put them in \u001b[0m\n",
       "\u001b[1;38;2;212;183;2mdanger, or cause them harm, such as swimming pools, patios, balconies, medicine cabinets, and cleaning supplies \u001b[0m\n",
       "\u001b[1;38;2;212;183;2mstorage areas. HASSLE FREE INSTALLATION -- Childproofing often sounds like you have to bring specialists in to do \u001b[0m\n",
       "\u001b[1;38;2;212;183;2mthe job for you, but with this device, it makes babyproofing your home a breeze. You simply have to peel the tape \u001b[0m\n",
       "\u001b[1;38;2;212;183;2mand apply it to the intended surface. It takes only a few seconds.\", \"price\": 9.99, \"store\": \"Millie\", \"brand\": \u001b[0m\n",
       "\u001b[1;38;2;212;183;2m\"nan\", \"manufacturer\": \"nan\", \"images\": [\"https://m.media-amazon.com/images/I/51y5rvhtGBL._AC_SL1071_.jpg\"], \u001b[0m\n",
       "\u001b[1;38;2;212;183;2m\"main_category\": \"Baby Products\"}, {\"title\": \"Corner Protectors, L Shape Food Grade Silicone Material Extra Thick \u001b[0m\n",
       "\u001b[1;38;2;212;183;2mBaby Safety Corner Guards (12 Pack, Shell Shape Mint Green)\", \"description\": \"Real strong TRACELESS adhesive tape \u001b[0m\n",
       "\u001b[1;38;2;212;183;2mfor corner guards\\n- Strong and durable custom made glue. Well tested on most surfaces like wood, glass, metal and \u001b[0m\n",
       "\u001b[1;38;2;212;183;2mplastic of the family- Traceless glue: Easy to remove without furniture damaging.\\nEasy to install:\\n1 Clean the \u001b[0m\n",
       "\u001b[1;38;2;212;183;2msurface of the furniture that you want to paste the furniture edge bumpers.2 Adhere double sided tape to the 3 \u001b[0m\n",
       "\u001b[1;38;2;212;183;2msection of your furniture corner.3.Place the Furniture Corner Protectors in the suitable position and press \u001b[0m\n",
       "\u001b[1;38;2;212;183;2mstrongly.Wait at least 48 hours for full adhesion before testing.\", \"price\": 9.99, \"store\": \"LONGFITE\", \"brand\": \u001b[0m\n",
       "\u001b[1;38;2;212;183;2m\"LONGFITE\", \"manufacturer\": \"LONGFITE\", \"images\": \u001b[0m\n",
       "\u001b[1;38;2;212;183;2m[\"https://m.media-amazon.com/images/I/61CTJObAc4L._AC_SL1500_.jpg\"], \"main_category\": \"Baby Products\"}, {\"title\": \u001b[0m\n",
       "\u001b[1;38;2;212;183;2m\"2 Pack Organic Bamboo Baby Hooded Bath Towels\", \"description\": \"Made with Organic Bamboo Environment Friendly \u001b[0m\n",
       "\u001b[1;38;2;212;183;2mExtremely Soft perfect for Babies and toddlers with Sensitive Skin. Perfect long-lasting towel that will grow with \u001b[0m\n",
       "\u001b[1;38;2;212;183;2myour baby until a toddler. Washer Machine Friendly Comes in a Pack of 2 Perfect baby shower gift 70x70 inch\", \u001b[0m\n",
       "\u001b[1;38;2;212;183;2m\"price\": 25.957234468937877, \"store\": \"Generic\", \"brand\": \"Generic\", \"manufacturer\": \"Bee Mine Baby\", \"images\": \u001b[0m\n",
       "\u001b[1;38;2;212;183;2m[\"https://m.media-amazon.com/images/I/512M+l2bO1L._AC_SL1350_.jpg\"], \"main_category\": \"Baby Products\"}, {\"title\": \u001b[0m\n",
       "\u001b[1;38;2;212;183;2m\"HonestBaby Baby Organic Cotton Washcloth Multi-Pack\", \"description\": \"Stylish and convenient, our washcloths are \u001b[0m\n",
       "\u001b[1;38;2;212;183;2mdesigned to make bath time easier for you and more comfortable for your babe. These 100% organic cotton washcloths \u001b[0m\n",
       "\u001b[1;38;2;212;183;2mare made with layers of extra soft muslin gauze with a clean jersey trim and a practical loop for hanging and \u001b[0m\n",
       "\u001b[1;38;2;212;183;2mdrying. Perfectly sized for baby and so incredibly soft, our washcloths are super gentle on baby's sensitive \u001b[0m\n",
       "\u001b[1;38;2;212;183;2mskin.\", \"price\": 14.17, \"store\": \"HonestBaby\", \"brand\": \"HonestBaby\", \"manufacturer\": \"HonestBaby\", \"images\": \u001b[0m\n",
       "\u001b[1;38;2;212;183;2m[\"https://m.media-amazon.com/images/I/913kqlrdZBL._AC_UL1500_.jpg\"], \"main_category\": \"Baby Products\"}, {\"title\": \u001b[0m\n",
       "\u001b[1;38;2;212;183;2m\"Bestjybt® 9PCS Sweet Babys Girls Chiffon Flower Elastic Bow Headband Head Wrap Turban Knot Hairband\", \u001b[0m\n",
       "\u001b[1;38;2;212;183;2m\"description\": \"Features:\\nAn ideal gift for your baby. The value is not expensive but fashion.  The baby girl \u001b[0m\n",
       "\u001b[1;38;2;212;183;2mheadbands are extremely adorable and trendy. The infant headbands have a classic design, and great for all \u001b[0m\n",
       "\u001b[1;38;2;212;183;2moccasions.  The baby headband are stretchy, soft and very comfortable.  The newborn headbands for girls are great \u001b[0m\n",
       "\u001b[1;38;2;212;183;2mfor dressing up to make a cute outfit or just a cute little trendy accessory!\\nService:\\nIf you have any problems \u001b[0m\n",
       "\u001b[1;38;2;212;183;2mwith our items or services, please feel free to contact us. We strive to put our hundred percent to resolve your \u001b[0m\n",
       "\u001b[1;38;2;212;183;2missues and delight you.\\nBestJy: Your Reliable And Best Choice\", \"price\": 25.957234468937877, \"store\": \"Bestjybt\", \u001b[0m\n",
       "\u001b[1;38;2;212;183;2m\"brand\": \"Bestjybt\", \"manufacturer\": \"nan\", \"images\": \u001b[0m\n",
       "\u001b[1;38;2;212;183;2m[\"https://m.media-amazon.com/images/I/51O1hSgkmqL._AC_UL1001_.jpg\"], \"main_category\": \"Baby Products\"}]\u001b[0m\n"
      ]
     },
     "metadata": {},
     "output_type": "display_data"
    },
    {
     "data": {
      "text/html": [
       "<pre style=\"white-space:pre;overflow-x:auto;line-height:normal;font-family:Menlo,'DejaVu Sans Mono',consolas,'Courier New',monospace\"><span style=\"color: #7f7f7f; text-decoration-color: #7f7f7f\">[Step 1: Duration 28.25 seconds| Input tokens: 6,608 | Output tokens: 1,054]</span>\n",
       "</pre>\n"
      ],
      "text/plain": [
       "\u001b[2m[Step 1: Duration 28.25 seconds| Input tokens: 6,608 | Output tokens: 1,054]\u001b[0m\n"
      ]
     },
     "metadata": {},
     "output_type": "display_data"
    }
   ],
   "source": [
    "category_json_file = orchastrator.recommend_products_of_category(\n",
    "    file_name=query_json_file\n",
    ")"
   ]
  },
  {
   "cell_type": "code",
   "execution_count": 5,
   "metadata": {},
   "outputs": [
    {
     "data": {
      "text/html": [
       "<pre style=\"white-space:pre;overflow-x:auto;line-height:normal;font-family:Menlo,'DejaVu Sans Mono',consolas,'Courier New',monospace\"><span style=\"color: #d4b702; text-decoration-color: #d4b702\">╭──────────────────────────────────────────────────── </span><span style=\"color: #d4b702; text-decoration-color: #d4b702; font-weight: bold\">New run</span><span style=\"color: #d4b702; text-decoration-color: #d4b702\"> ────────────────────────────────────────────────────╮</span>\n",
       "<span style=\"color: #d4b702; text-decoration-color: #d4b702\">│</span>                                                                                                                 <span style=\"color: #d4b702; text-decoration-color: #d4b702\">│</span>\n",
       "<span style=\"color: #d4b702; text-decoration-color: #d4b702\">│</span> <span style=\"font-weight: bold\">Milliard</span>                                                                                                        <span style=\"color: #d4b702; text-decoration-color: #d4b702\">│</span>\n",
       "<span style=\"color: #d4b702; text-decoration-color: #d4b702\">│</span>                                                                                                                 <span style=\"color: #d4b702; text-decoration-color: #d4b702\">│</span>\n",
       "<span style=\"color: #d4b702; text-decoration-color: #d4b702\">╰─ LiteLLMModel - azure/GPT4-Turbo-128K-0125-preview ─────────────────────────────────────────────────────────────╯</span>\n",
       "</pre>\n"
      ],
      "text/plain": [
       "\u001b[38;2;212;183;2m╭─\u001b[0m\u001b[38;2;212;183;2m───────────────────────────────────────────────────\u001b[0m\u001b[38;2;212;183;2m \u001b[0m\u001b[1;38;2;212;183;2mNew run\u001b[0m\u001b[38;2;212;183;2m \u001b[0m\u001b[38;2;212;183;2m───────────────────────────────────────────────────\u001b[0m\u001b[38;2;212;183;2m─╮\u001b[0m\n",
       "\u001b[38;2;212;183;2m│\u001b[0m                                                                                                                 \u001b[38;2;212;183;2m│\u001b[0m\n",
       "\u001b[38;2;212;183;2m│\u001b[0m \u001b[1mMilliard\u001b[0m                                                                                                        \u001b[38;2;212;183;2m│\u001b[0m\n",
       "\u001b[38;2;212;183;2m│\u001b[0m                                                                                                                 \u001b[38;2;212;183;2m│\u001b[0m\n",
       "\u001b[38;2;212;183;2m╰─\u001b[0m\u001b[38;2;212;183;2m LiteLLMModel - azure/GPT4-Turbo-128K-0125-preview \u001b[0m\u001b[38;2;212;183;2m────────────────────────────────────────────────────────────\u001b[0m\u001b[38;2;212;183;2m─╯\u001b[0m\n"
      ]
     },
     "metadata": {},
     "output_type": "display_data"
    },
    {
     "data": {
      "text/html": [
       "<pre style=\"white-space:pre;overflow-x:auto;line-height:normal;font-family:Menlo,'DejaVu Sans Mono',consolas,'Courier New',monospace\"><span style=\"color: #d4b702; text-decoration-color: #d4b702\">━━━━━━━━━━━━━━━━━━━━━━━━━━━━━━━━━━━━━━━━━━━━━━━━━━━━━ </span><span style=\"font-weight: bold\">Step </span><span style=\"color: #008080; text-decoration-color: #008080; font-weight: bold\">0</span><span style=\"color: #d4b702; text-decoration-color: #d4b702\"> ━━━━━━━━━━━━━━━━━━━━━━━━━━━━━━━━━━━━━━━━━━━━━━━━━━━━━━</span>\n",
       "</pre>\n"
      ],
      "text/plain": [
       "\u001b[38;2;212;183;2m━━━━━━━━━━━━━━━━━━━━━━━━━━━━━━━━━━━━━━━━━━━━━━━━━━━━━ \u001b[0m\u001b[1mStep \u001b[0m\u001b[1;36m0\u001b[0m\u001b[38;2;212;183;2m ━━━━━━━━━━━━━━━━━━━━━━━━━━━━━━━━━━━━━━━━━━━━━━━━━━━━━━\u001b[0m\n"
      ]
     },
     "metadata": {},
     "output_type": "display_data"
    },
    {
     "data": {
      "text/html": [
       "<pre style=\"white-space:pre;overflow-x:auto;line-height:normal;font-family:Menlo,'DejaVu Sans Mono',consolas,'Courier New',monospace\">╭─────────────────────────────────────────────────────────────────────────────────────────────────────────────────╮\n",
       "│ Calling tool: 'recommend_with_brand_tool' with arguments: {'brand': 'Milliard'}                                 │\n",
       "╰─────────────────────────────────────────────────────────────────────────────────────────────────────────────────╯\n",
       "</pre>\n"
      ],
      "text/plain": [
       "╭─────────────────────────────────────────────────────────────────────────────────────────────────────────────────╮\n",
       "│ Calling tool: 'recommend_with_brand_tool' with arguments: {'brand': 'Milliard'}                                 │\n",
       "╰─────────────────────────────────────────────────────────────────────────────────────────────────────────────────╯\n"
      ]
     },
     "metadata": {},
     "output_type": "display_data"
    },
    {
     "data": {
      "text/html": [
       "<pre style=\"white-space:pre;overflow-x:auto;line-height:normal;font-family:Menlo,'DejaVu Sans Mono',consolas,'Courier New',monospace\">Observations: <span style=\"font-weight: bold\">[{</span><span style=\"color: #008000; text-decoration-color: #008000\">\"title\"</span>: <span style=\"color: #008000; text-decoration-color: #008000\">\"Milliard Two Pack Sheets for Bedside Bassinet\"</span>, <span style=\"color: #008000; text-decoration-color: #008000\">\"description\"</span>: <span style=\"color: #008000; text-decoration-color: #008000\">\"This two pack sheet set </span>\n",
       "<span style=\"color: #008000; text-decoration-color: #008000\">is designed to fit the Milliard Bedside Bassinet or any bassinet mattress measuring 35.5\\\" x 20.5\\\".\"</span>, \n",
       "<span style=\"color: #008000; text-decoration-color: #008000\">\"average_rating\"</span>: <span style=\"color: #008080; text-decoration-color: #008080; font-weight: bold\">4.8</span>, <span style=\"color: #008000; text-decoration-color: #008000\">\"rating_number\"</span>: <span style=\"color: #008080; text-decoration-color: #008080; font-weight: bold\">468</span>, <span style=\"color: #008000; text-decoration-color: #008000\">\"price\"</span>: <span style=\"color: #008080; text-decoration-color: #008080; font-weight: bold\">19.99</span>, <span style=\"color: #008000; text-decoration-color: #008000\">\"features\"</span>: <span style=\"color: #008000; text-decoration-color: #008000\">\"This two pack sheet set is designed to </span>\n",
       "<span style=\"color: #008000; text-decoration-color: #008000\">fit the Milliard Bedside Bassinet or any bassinet mattress measuring 35.5\\\" x 20.5\\\".\\nContains two soft and </span>\n",
       "<span style=\"color: #008000; text-decoration-color: #008000\">stretchy bassinet sheets.\\n100% polyester\"</span>, <span style=\"color: #008000; text-decoration-color: #008000\">\"images\"</span>: <span style=\"color: #008000; text-decoration-color: #008000\">\"[{'hi_res': </span>\n",
       "<span style=\"color: #008000; text-decoration-color: #008000\">'https://m.media-amazon.com/images/I/81oCAszMtqL._AC_SL1500_.jpg', 'large': </span>\n",
       "<span style=\"color: #008000; text-decoration-color: #008000\">'https://m.media-amazon.com/images/I/41GE3sUTFsL._AC_.jpg', 'thumb': </span>\n",
       "<span style=\"color: #008000; text-decoration-color: #008000\">'https://m.media-amazon.com/images/I/41GE3sUTFsL._AC_US75_.jpg', 'variant': 'MAIN'}\\n {'hi_res': </span>\n",
       "<span style=\"color: #008000; text-decoration-color: #008000\">'https://m.media-amazon.com/images/I/61MB3yxilxL._AC_SL1201_.jpg', 'large': </span>\n",
       "<span style=\"color: #008000; text-decoration-color: #008000\">'https://m.media-amazon.com/images/I/41XvGcanBoL._AC_.jpg', 'thumb': </span>\n",
       "<span style=\"color: #008000; text-decoration-color: #008000\">'https://m.media-amazon.com/images/I/41XvGcanBoL._AC_US75_.jpg', 'variant': 'PT01'}]\"</span>, <span style=\"color: #008000; text-decoration-color: #008000\">\"store\"</span>: <span style=\"color: #008000; text-decoration-color: #008000\">\"Milliard\"</span>, \n",
       "<span style=\"color: #008000; text-decoration-color: #008000\">\"brand\"</span>: <span style=\"color: #008000; text-decoration-color: #008000\">\"Milliard\"</span>, <span style=\"color: #008000; text-decoration-color: #008000\">\"manufacturer\"</span>: <span style=\"color: #008000; text-decoration-color: #008000\">\"Milliard\"</span>, <span style=\"color: #008000; text-decoration-color: #008000\">\"main_category\"</span>: <span style=\"color: #008000; text-decoration-color: #008000\">\"Baby Products\"</span>, <span style=\"color: #008000; text-decoration-color: #008000\">\"categories\"</span>: <span style=\"font-weight: bold\">[]</span>, <span style=\"color: #008000; text-decoration-color: #008000\">\"similarity\"</span>: \n",
       "<span style=\"color: #008080; text-decoration-color: #008080; font-weight: bold\">1.0</span><span style=\"font-weight: bold\">}]</span>\n",
       "</pre>\n"
      ],
      "text/plain": [
       "Observations: \u001b[1m[\u001b[0m\u001b[1m{\u001b[0m\u001b[32m\"title\"\u001b[0m: \u001b[32m\"Milliard Two Pack Sheets for Bedside Bassinet\"\u001b[0m, \u001b[32m\"description\"\u001b[0m: \u001b[32m\"This two pack sheet set \u001b[0m\n",
       "\u001b[32mis designed to fit the Milliard Bedside Bassinet or any bassinet mattress measuring 35.5\\\" x 20.5\\\".\"\u001b[0m, \n",
       "\u001b[32m\"average_rating\"\u001b[0m: \u001b[1;36m4.8\u001b[0m, \u001b[32m\"rating_number\"\u001b[0m: \u001b[1;36m468\u001b[0m, \u001b[32m\"price\"\u001b[0m: \u001b[1;36m19.99\u001b[0m, \u001b[32m\"features\"\u001b[0m: \u001b[32m\"This two pack sheet set is designed to \u001b[0m\n",
       "\u001b[32mfit the Milliard Bedside Bassinet or any bassinet mattress measuring 35.5\\\" x 20.5\\\".\\nContains two soft and \u001b[0m\n",
       "\u001b[32mstretchy bassinet sheets.\\n100% polyester\"\u001b[0m, \u001b[32m\"images\"\u001b[0m: \u001b[32m\"\u001b[0m\u001b[32m[\u001b[0m\u001b[32m{\u001b[0m\u001b[32m'hi_res': \u001b[0m\n",
       "\u001b[32m'https://m.media-amazon.com/images/I/81oCAszMtqL._AC_SL1500_.jpg', 'large': \u001b[0m\n",
       "\u001b[32m'https://m.media-amazon.com/images/I/41GE3sUTFsL._AC_.jpg', 'thumb': \u001b[0m\n",
       "\u001b[32m'https://m.media-amazon.com/images/I/41GE3sUTFsL._AC_US75_.jpg', 'variant': 'MAIN'\u001b[0m\u001b[32m}\u001b[0m\u001b[32m\\n \u001b[0m\u001b[32m{\u001b[0m\u001b[32m'hi_res': \u001b[0m\n",
       "\u001b[32m'https://m.media-amazon.com/images/I/61MB3yxilxL._AC_SL1201_.jpg', 'large': \u001b[0m\n",
       "\u001b[32m'https://m.media-amazon.com/images/I/41XvGcanBoL._AC_.jpg', 'thumb': \u001b[0m\n",
       "\u001b[32m'https://m.media-amazon.com/images/I/41XvGcanBoL._AC_US75_.jpg', 'variant': 'PT01'\u001b[0m\u001b[32m}\u001b[0m\u001b[32m]\u001b[0m\u001b[32m\"\u001b[0m, \u001b[32m\"store\"\u001b[0m: \u001b[32m\"Milliard\"\u001b[0m, \n",
       "\u001b[32m\"brand\"\u001b[0m: \u001b[32m\"Milliard\"\u001b[0m, \u001b[32m\"manufacturer\"\u001b[0m: \u001b[32m\"Milliard\"\u001b[0m, \u001b[32m\"main_category\"\u001b[0m: \u001b[32m\"Baby Products\"\u001b[0m, \u001b[32m\"categories\"\u001b[0m: \u001b[1m[\u001b[0m\u001b[1m]\u001b[0m, \u001b[32m\"similarity\"\u001b[0m: \n",
       "\u001b[1;36m1.0\u001b[0m\u001b[1m}\u001b[0m\u001b[1m]\u001b[0m\n"
      ]
     },
     "metadata": {},
     "output_type": "display_data"
    },
    {
     "data": {
      "text/html": [
       "<pre style=\"white-space:pre;overflow-x:auto;line-height:normal;font-family:Menlo,'DejaVu Sans Mono',consolas,'Courier New',monospace\"><span style=\"color: #7f7f7f; text-decoration-color: #7f7f7f\">[Step 0: Duration 3.59 seconds| Input tokens: 855 | Output tokens: 16]</span>\n",
       "</pre>\n"
      ],
      "text/plain": [
       "\u001b[2m[Step 0: Duration 3.59 seconds| Input tokens: 855 | Output tokens: 16]\u001b[0m\n"
      ]
     },
     "metadata": {},
     "output_type": "display_data"
    },
    {
     "data": {
      "text/html": [
       "<pre style=\"white-space:pre;overflow-x:auto;line-height:normal;font-family:Menlo,'DejaVu Sans Mono',consolas,'Courier New',monospace\"><span style=\"color: #d4b702; text-decoration-color: #d4b702\">━━━━━━━━━━━━━━━━━━━━━━━━━━━━━━━━━━━━━━━━━━━━━━━━━━━━━ </span><span style=\"font-weight: bold\">Step </span><span style=\"color: #008080; text-decoration-color: #008080; font-weight: bold\">1</span><span style=\"color: #d4b702; text-decoration-color: #d4b702\"> ━━━━━━━━━━━━━━━━━━━━━━━━━━━━━━━━━━━━━━━━━━━━━━━━━━━━━━</span>\n",
       "</pre>\n"
      ],
      "text/plain": [
       "\u001b[38;2;212;183;2m━━━━━━━━━━━━━━━━━━━━━━━━━━━━━━━━━━━━━━━━━━━━━━━━━━━━━ \u001b[0m\u001b[1mStep \u001b[0m\u001b[1;36m1\u001b[0m\u001b[38;2;212;183;2m ━━━━━━━━━━━━━━━━━━━━━━━━━━━━━━━━━━━━━━━━━━━━━━━━━━━━━━\u001b[0m\n"
      ]
     },
     "metadata": {},
     "output_type": "display_data"
    },
    {
     "data": {
      "text/html": [
       "<pre style=\"white-space:pre;overflow-x:auto;line-height:normal;font-family:Menlo,'DejaVu Sans Mono',consolas,'Courier New',monospace\">╭─────────────────────────────────────────────────────────────────────────────────────────────────────────────────╮\n",
       "│ Calling tool: 'final_answer' with arguments: {'answer': '[{\"title\": \"Milliard Two Pack Sheets for Bedside       │\n",
       "│ Bassinet\", \"description\": \"This two pack sheet set is designed to fit the Milliard Bedside Bassinet or any      │\n",
       "│ bassinet mattress measuring 35.5\\\\\" x 20.5\\\\\".\", \"price\": 19.99, \"store\": \"Milliard\", \"brand\": \"Milliard\",      │\n",
       "│ \"manufacturer\": \"Milliard\", \"images\": [\"https://m.media-amazon.com/images/I/81oCAszMtqL._AC_SL1500_.jpg\"],      │\n",
       "│ \"main_category\": \"Baby Products\"}]'}                                                                            │\n",
       "╰─────────────────────────────────────────────────────────────────────────────────────────────────────────────────╯\n",
       "</pre>\n"
      ],
      "text/plain": [
       "╭─────────────────────────────────────────────────────────────────────────────────────────────────────────────────╮\n",
       "│ Calling tool: 'final_answer' with arguments: {'answer': '[{\"title\": \"Milliard Two Pack Sheets for Bedside       │\n",
       "│ Bassinet\", \"description\": \"This two pack sheet set is designed to fit the Milliard Bedside Bassinet or any      │\n",
       "│ bassinet mattress measuring 35.5\\\\\" x 20.5\\\\\".\", \"price\": 19.99, \"store\": \"Milliard\", \"brand\": \"Milliard\",      │\n",
       "│ \"manufacturer\": \"Milliard\", \"images\": [\"https://m.media-amazon.com/images/I/81oCAszMtqL._AC_SL1500_.jpg\"],      │\n",
       "│ \"main_category\": \"Baby Products\"}]'}                                                                            │\n",
       "╰─────────────────────────────────────────────────────────────────────────────────────────────────────────────────╯\n"
      ]
     },
     "metadata": {},
     "output_type": "display_data"
    },
    {
     "data": {
      "text/html": [
       "<pre style=\"white-space:pre;overflow-x:auto;line-height:normal;font-family:Menlo,'DejaVu Sans Mono',consolas,'Courier New',monospace\"><span style=\"color: #d4b702; text-decoration-color: #d4b702; font-weight: bold\">Final answer: [{\"title\": \"Milliard Two Pack Sheets for Bedside Bassinet\", \"description\": \"This two pack sheet set </span>\n",
       "<span style=\"color: #d4b702; text-decoration-color: #d4b702; font-weight: bold\">is designed to fit the Milliard Bedside Bassinet or any bassinet mattress measuring 35.5\\\" x 20.5\\\".\", \"price\": </span>\n",
       "<span style=\"color: #d4b702; text-decoration-color: #d4b702; font-weight: bold\">19.99, \"store\": \"Milliard\", \"brand\": \"Milliard\", \"manufacturer\": \"Milliard\", \"images\": </span>\n",
       "<span style=\"color: #d4b702; text-decoration-color: #d4b702; font-weight: bold\">[\"https://m.media-amazon.com/images/I/81oCAszMtqL._AC_SL1500_.jpg\"], \"main_category\": \"Baby Products\"}]</span>\n",
       "</pre>\n"
      ],
      "text/plain": [
       "\u001b[1;38;2;212;183;2mFinal answer: [{\"title\": \"Milliard Two Pack Sheets for Bedside Bassinet\", \"description\": \"This two pack sheet set \u001b[0m\n",
       "\u001b[1;38;2;212;183;2mis designed to fit the Milliard Bedside Bassinet or any bassinet mattress measuring 35.5\\\" x 20.5\\\".\", \"price\": \u001b[0m\n",
       "\u001b[1;38;2;212;183;2m19.99, \"store\": \"Milliard\", \"brand\": \"Milliard\", \"manufacturer\": \"Milliard\", \"images\": \u001b[0m\n",
       "\u001b[1;38;2;212;183;2m[\"https://m.media-amazon.com/images/I/81oCAszMtqL._AC_SL1500_.jpg\"], \"main_category\": \"Baby Products\"}]\u001b[0m\n"
      ]
     },
     "metadata": {},
     "output_type": "display_data"
    },
    {
     "data": {
      "text/html": [
       "<pre style=\"white-space:pre;overflow-x:auto;line-height:normal;font-family:Menlo,'DejaVu Sans Mono',consolas,'Courier New',monospace\"><span style=\"color: #7f7f7f; text-decoration-color: #7f7f7f\">[Step 1: Duration 4.02 seconds| Input tokens: 2,159 | Output tokens: 154]</span>\n",
       "</pre>\n"
      ],
      "text/plain": [
       "\u001b[2m[Step 1: Duration 4.02 seconds| Input tokens: 2,159 | Output tokens: 154]\u001b[0m\n"
      ]
     },
     "metadata": {},
     "output_type": "display_data"
    }
   ],
   "source": [
    "brand_json_file = orchastrator.recommend_products_of_brand(\n",
    "    file_name=query_json_file\n",
    ")"
   ]
  }
 ],
 "metadata": {
  "kernelspec": {
   "display_name": ".venv",
   "language": "python",
   "name": "python3"
  },
  "language_info": {
   "codemirror_mode": {
    "name": "ipython",
    "version": 3
   },
   "file_extension": ".py",
   "mimetype": "text/x-python",
   "name": "python",
   "nbconvert_exporter": "python",
   "pygments_lexer": "ipython3",
   "version": "3.11.7"
  }
 },
 "nbformat": 4,
 "nbformat_minor": 2
}
