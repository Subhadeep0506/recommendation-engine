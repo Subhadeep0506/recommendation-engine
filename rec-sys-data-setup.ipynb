{
 "cells": [
  {
   "cell_type": "code",
   "execution_count": 3,
   "metadata": {},
   "outputs": [],
   "source": [
    "import pandas as pd"
   ]
  },
  {
   "cell_type": "code",
   "execution_count": 7,
   "metadata": {},
   "outputs": [],
   "source": [
    "data = pd.read_json(\"data/meta_Appliances.jsonl\", lines=True)"
   ]
  },
  {
   "cell_type": "code",
   "execution_count": 8,
   "metadata": {},
   "outputs": [
    {
     "name": "stdout",
     "output_type": "stream",
     "text": [
      "<class 'pandas.core.frame.DataFrame'>\n",
      "RangeIndex: 94327 entries, 0 to 94326\n",
      "Data columns (total 16 columns):\n",
      " #   Column           Non-Null Count  Dtype  \n",
      "---  ------           --------------  -----  \n",
      " 0   main_category    89651 non-null  object \n",
      " 1   title            94327 non-null  object \n",
      " 2   average_rating   94327 non-null  float64\n",
      " 3   rating_number    94327 non-null  int64  \n",
      " 4   features         94327 non-null  object \n",
      " 5   description      94327 non-null  object \n",
      " 6   price            46726 non-null  float64\n",
      " 7   images           94327 non-null  object \n",
      " 8   videos           94327 non-null  object \n",
      " 9   store            93411 non-null  object \n",
      " 10  categories       94327 non-null  object \n",
      " 11  details          94327 non-null  object \n",
      " 12  parent_asin      94327 non-null  object \n",
      " 13  bought_together  0 non-null      float64\n",
      " 14  subtitle         5 non-null      object \n",
      " 15  author           1 non-null      object \n",
      "dtypes: float64(3), int64(1), object(12)\n",
      "memory usage: 11.5+ MB\n"
     ]
    }
   ],
   "source": [
    "data.info()"
   ]
  }
 ],
 "metadata": {
  "kernelspec": {
   "display_name": ".venv",
   "language": "python",
   "name": "python3"
  },
  "language_info": {
   "codemirror_mode": {
    "name": "ipython",
    "version": 3
   },
   "file_extension": ".py",
   "mimetype": "text/x-python",
   "name": "python",
   "nbconvert_exporter": "python",
   "pygments_lexer": "ipython3",
   "version": "3.12.3"
  }
 },
 "nbformat": 4,
 "nbformat_minor": 2
}
