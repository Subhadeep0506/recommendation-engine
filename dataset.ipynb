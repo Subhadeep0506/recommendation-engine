{
 "cells": [
  {
   "cell_type": "code",
   "execution_count": 54,
   "metadata": {},
   "outputs": [],
   "source": [
    "from datasets import load_dataset, load_from_disk"
   ]
  },
  {
   "cell_type": "code",
   "execution_count": 19,
   "metadata": {},
   "outputs": [
    {
     "name": "stderr",
     "output_type": "stream",
     "text": [
      "c:\\Users\\703381054\\Documents\\Projects\\agentic-product-recsys\\.venv\\Lib\\site-packages\\huggingface_hub\\file_download.py:140: UserWarning: `huggingface_hub` cache-system uses symlinks by default to efficiently store duplicated files but your machine does not support them in C:\\Users\\703381054\\.cache\\huggingface\\hub\\datasets--smartcat--Amazon_Products_2023. Caching files will still work but in a degraded version that might require more space on your disk. This warning can be disabled by setting the `HF_HUB_DISABLE_SYMLINKS_WARNING` environment variable. For more details, see https://huggingface.co/docs/huggingface_hub/how-to-cache#limitations.\n",
      "To support symlinks on Windows, you either need to activate Developer Mode or to run Python as an administrator. In order to activate developer mode, see this article: https://docs.microsoft.com/en-us/windows/apps/get-started/enable-your-device-for-development\n",
      "  warnings.warn(message)\n",
      "Generating train split: 100%|██████████| 22767/22767 [00:00<00:00, 78249.00 examples/s]\n"
     ]
    }
   ],
   "source": [
    "dataset = load_dataset(\n",
    "    \"smartcat/Amazon_Products_2023\",\n",
    "    cache_dir=\"./dataset\",\n",
    "    split=\"train\",\n",
    ")"
   ]
  },
  {
   "cell_type": "code",
   "execution_count": 21,
   "metadata": {},
   "outputs": [
    {
     "name": "stderr",
     "output_type": "stream",
     "text": [
      "Saving the dataset (0/1 shards):   0%|          | 0/22767 [00:00<?, ? examples/s]"
     ]
    },
    {
     "name": "stderr",
     "output_type": "stream",
     "text": [
      "Saving the dataset (1/1 shards): 100%|██████████| 22767/22767 [00:00<00:00, 203192.03 examples/s]\n"
     ]
    }
   ],
   "source": [
    "selected_columns = [\n",
    "    \"main_category\",\n",
    "    \"title\",\n",
    "    \"average_rating\",\n",
    "    \"rating_number\",\n",
    "    \"features\",\n",
    "    \"description\",\n",
    "    \"price\",\n",
    "    \"images\",\n",
    "    \"store\",\n",
    "    \"categories\",\n",
    "    \"brand\",\n",
    "    \"color\",\n",
    "    \"manufacturer\",\n",
    "]\n",
    "\n",
    "dataset = dataset.select_columns(selected_columns)\n",
    "dataset.save_to_disk(\"./dataset/amazon_india_products_22k\")"
   ]
  },
  {
   "cell_type": "markdown",
   "metadata": {},
   "source": [
    "## dataset explore"
   ]
  },
  {
   "cell_type": "code",
   "execution_count": 10,
   "metadata": {},
   "outputs": [],
   "source": [
    "import pandas as pd\n",
    "import numpy as np"
   ]
  },
  {
   "cell_type": "code",
   "execution_count": 9,
   "metadata": {},
   "outputs": [],
   "source": [
    "data = load_from_disk(\n",
    "    \"./dataset/amazon_products_2023\",\n",
    ").to_pandas()"
   ]
  },
  {
   "cell_type": "markdown",
   "metadata": {},
   "source": [
    "### Filling the missing main category column values"
   ]
  },
  {
   "cell_type": "code",
   "execution_count": 23,
   "metadata": {},
   "outputs": [],
   "source": [
    "def get_first_category(row):\n",
    "    if pd.isna(row[\"main_category\"]):\n",
    "        if isinstance(row[\"categories\"], list) and len(row[\"categories\"]) > 0:\n",
    "            return row[\"categories\"][0]\n",
    "        return \"Unknown\"\n",
    "    return row[\"main_category\"]\n",
    "\n",
    "\n",
    "data[\"main_category\"] = data.apply(get_first_category, axis=1)"
   ]
  },
  {
   "cell_type": "markdown",
   "metadata": {},
   "source": [
    "### Filling missing pricing values"
   ]
  },
  {
   "cell_type": "code",
   "execution_count": 27,
   "metadata": {},
   "outputs": [],
   "source": [
    "category_avg_price = data.groupby(\"main_category\")[\"price\"].mean()\n",
    "\n",
    "data[\"price\"] = data.apply(\n",
    "    lambda x: (\n",
    "        category_avg_price[x[\"main_category\"]] if pd.isna(x[\"price\"]) else x[\"price\"]\n",
    "    ),\n",
    "    axis=1,\n",
    ")"
   ]
  },
  {
   "cell_type": "markdown",
   "metadata": {},
   "source": [
    "### Filling missing store values"
   ]
  },
  {
   "cell_type": "code",
   "execution_count": 29,
   "metadata": {},
   "outputs": [],
   "source": [
    "data[\"store\"] = data[\"store\"].fillna(\"Unknown\")"
   ]
  },
  {
   "cell_type": "code",
   "execution_count": null,
   "metadata": {},
   "outputs": [],
   "source": [
    "data = data.dropna()\n",
    "\n",
    "data.to_parquet(\"./dataset/amazon_products_2023.parquet\", engine=\"pyarrow\")\n",
    "data = pd.read_parquet(\"./dataset/amazon_products_2023.parquet\")"
   ]
  },
  {
   "cell_type": "code",
   "execution_count": 51,
   "metadata": {},
   "outputs": [],
   "source": [
    "data = pd.read_parquet(\"./dataset/amazon_products_2023.parquet\")"
   ]
  },
  {
   "cell_type": "code",
   "execution_count": 52,
   "metadata": {},
   "outputs": [
    {
     "data": {
      "text/plain": [
       "Index(['title', 'description', 'main_category', 'categories', 'store',\n",
       "       'average_rating', 'rating_number', 'price', 'features', 'details',\n",
       "       'image'],\n",
       "      dtype='object')"
      ]
     },
     "execution_count": 52,
     "metadata": {},
     "output_type": "execute_result"
    }
   ],
   "source": [
    "data.columns"
   ]
  },
  {
   "cell_type": "markdown",
   "metadata": {},
   "source": [
    "## Explore 30k products"
   ]
  },
  {
   "cell_type": "code",
   "execution_count": 78,
   "metadata": {},
   "outputs": [],
   "source": [
    "dataset = load_from_disk(\n",
    "    \"./dataset/amazon_india_products_30k\",\n",
    ").to_pandas()"
   ]
  },
  {
   "cell_type": "code",
   "execution_count": 80,
   "metadata": {},
   "outputs": [
    {
     "data": {
      "text/plain": [
       "Index(['Category', 'Product Title', 'Product Description', 'Brand', 'Mrp',\n",
       "       'Price', 'Image Urls'],\n",
       "      dtype='object')"
      ]
     },
     "execution_count": 80,
     "metadata": {},
     "output_type": "execute_result"
    }
   ],
   "source": [
    "dataset.columns"
   ]
  },
  {
   "cell_type": "code",
   "execution_count": 58,
   "metadata": {},
   "outputs": [],
   "source": [
    "data = data.dropna(subset=[\"Product Description\"])"
   ]
  },
  {
   "cell_type": "code",
   "execution_count": 60,
   "metadata": {},
   "outputs": [],
   "source": [
    "data[\"Price\"] = data[\"Price\"].astype(str)\n",
    "\n",
    "# Convert to float, invalid values become NaN\n",
    "data[\"Price\"] = pd.to_numeric(data[\"Price\"], errors=\"coerce\")\n",
    "\n",
    "# Calculate mode price for each category\n",
    "category_mode_prices = data.groupby(\"Category\")[\"Price\"].transform(\n",
    "    lambda x: x.mode().iloc[0] if not x.mode().empty else 0.0\n",
    ")\n",
    "\n",
    "# Fill NaN values with category modes\n",
    "data[\"Price\"] = data[\"Price\"].fillna(category_mode_prices)\n",
    "\n",
    "# If any NaN values remain, fill with overall mode\n",
    "overall_mode = data[\"Price\"].mode().iloc[0]\n",
    "data[\"Price\"] = data[\"Price\"].fillna(overall_mode)"
   ]
  },
  {
   "cell_type": "code",
   "execution_count": 62,
   "metadata": {},
   "outputs": [],
   "source": [
    "data[\"Mrp\"] = data[\"Mrp\"].astype(str)\n",
    "\n",
    "# Convert to float, invalid values become NaN\n",
    "data[\"Mrp\"] = pd.to_numeric(data[\"Mrp\"], errors=\"coerce\")\n",
    "\n",
    "# Calculate mode price for each category\n",
    "category_mode_prices = data.groupby(\"Category\")[\"Mrp\"].transform(\n",
    "    lambda x: x.mode().iloc[0] if not x.mode().empty else 0.0\n",
    ")\n",
    "\n",
    "# Fill NaN values with category modes\n",
    "data[\"Mrp\"] = data[\"Mrp\"].fillna(category_mode_prices)\n",
    "\n",
    "# If any NaN values remain, fill with overall mode\n",
    "overall_mode = data[\"Mrp\"].mode().iloc[0]\n",
    "data[\"Mrp\"] = data[\"Mrp\"].fillna(overall_mode)"
   ]
  },
  {
   "cell_type": "code",
   "execution_count": 64,
   "metadata": {},
   "outputs": [],
   "source": [
    "data.to_parquet(\"./dataset/amazon_india_products_30k.parquet\", engine=\"pyarrow\")"
   ]
  },
  {
   "cell_type": "markdown",
   "metadata": {},
   "source": [
    "## Explore 22k products"
   ]
  },
  {
   "cell_type": "code",
   "execution_count": 65,
   "metadata": {},
   "outputs": [],
   "source": [
    "data = load_from_disk(\n",
    "    \"./dataset/amazon_india_products_22k\",\n",
    ").to_pandas()"
   ]
  },
  {
   "cell_type": "code",
   "execution_count": 68,
   "metadata": {},
   "outputs": [],
   "source": [
    "data[\"main_category\"] = data[\"categories\"].apply(\n",
    "    lambda x: x[0] if len(x) > 0 else \"Unknown\"\n",
    ")\n",
    "data[\"price\"] = data.groupby(\"main_category\")[\"price\"].transform(\n",
    "    lambda x: x.fillna(x.mean() if not x.mean() != x.mean() else 0.0)\n",
    ")\n",
    "data[\"store\"] = data[\"store\"].fillna(data[\"manufacturer\"])"
   ]
  },
  {
   "cell_type": "code",
   "execution_count": 70,
   "metadata": {},
   "outputs": [],
   "source": [
    "data.to_parquet(\"./dataset/amazon_india_products_22k.parquet\", engine=\"pyarrow\")"
   ]
  },
  {
   "cell_type": "code",
   "execution_count": 11,
   "metadata": {},
   "outputs": [],
   "source": [
    "data = pd.read_parquet(\"./dataset/amazon_india_products_22k.parquet\")"
   ]
  },
  {
   "cell_type": "code",
   "execution_count": 12,
   "metadata": {},
   "outputs": [
    {
     "data": {
      "text/plain": [
       "Index(['main_category', 'title', 'average_rating', 'rating_number', 'features',\n",
       "       'description', 'price', 'images', 'store', 'categories', 'brand',\n",
       "       'color', 'manufacturer'],\n",
       "      dtype='object')"
      ]
     },
     "execution_count": 12,
     "metadata": {},
     "output_type": "execute_result"
    }
   ],
   "source": [
    "data.columns"
   ]
  },
  {
   "cell_type": "code",
   "execution_count": 75,
   "metadata": {},
   "outputs": [
    {
     "data": {
      "text/plain": [
       "Index(['Category', 'Product Title', 'Product Description', 'Brand', 'Mrp',\n",
       "       'Price', 'Image Urls'],\n",
       "      dtype='object')"
      ]
     },
     "execution_count": 75,
     "metadata": {},
     "output_type": "execute_result"
    }
   ],
   "source": [
    "data2 = pd.read_parquet(\"./dataset/amazon_india_products_30k.parquet\")\n",
    "data2.columns"
   ]
  },
  {
   "cell_type": "code",
   "execution_count": 85,
   "metadata": {},
   "outputs": [
    {
     "data": {
      "text/plain": [
       "array(['Kisbaby', 'Kandoo', 'BERON', ..., 'Woozle Time', 'N/A.', 'EBOOT'],\n",
       "      shape=(7550,), dtype=object)"
      ]
     },
     "execution_count": 85,
     "metadata": {},
     "output_type": "execute_result"
    }
   ],
   "source": [
    "data[\"brand\"].unique()"
   ]
  },
  {
   "cell_type": "code",
   "execution_count": 7,
   "metadata": {},
   "outputs": [],
   "source": [
    "from smolagents.models import LiteLLMModel\n",
    "import os\n",
    "\n",
    "os.environ[\"AZURE_API_VERSION\"] = \"2024-08-01-preview\"\n",
    "\n",
    "model = LiteLLMModel(\n",
    "    model_id=\"azure/GPT4-Turbo-128K-0125-preview\",\n",
    "    api_base=\"https://703227482-gpt4-turbo-0125-latest-version.openai.azure.com/\",\n",
    "    api_key=\"97e2bc42723d4021a7d40ac94e5d4f64\",\n",
    ")"
   ]
  },
  {
   "cell_type": "code",
   "execution_count": 8,
   "metadata": {},
   "outputs": [
    {
     "data": {
      "text/plain": [
       "\"I'm just a computer program, so I don't have feelings, but thanks for asking! How can I help you today?\""
      ]
     },
     "execution_count": 8,
     "metadata": {},
     "output_type": "execute_result"
    }
   ],
   "source": [
    "model(\n",
    "    messages=[\n",
    "        {\"content\": \"Hello, how are you?\", \"role\": \"user\"},\n",
    "    ]\n",
    ")"
   ]
  }
 ],
 "metadata": {
  "kernelspec": {
   "display_name": ".venv",
   "language": "python",
   "name": "python3"
  },
  "language_info": {
   "codemirror_mode": {
    "name": "ipython",
    "version": 3
   },
   "file_extension": ".py",
   "mimetype": "text/x-python",
   "name": "python",
   "nbconvert_exporter": "python",
   "pygments_lexer": "ipython3",
   "version": "3.11.7"
  }
 },
 "nbformat": 4,
 "nbformat_minor": 2
}
